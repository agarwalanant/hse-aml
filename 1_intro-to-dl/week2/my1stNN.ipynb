{
 "cells": [
  {
   "cell_type": "code",
   "execution_count": 1,
   "metadata": {
    "collapsed": true
   },
   "outputs": [],
   "source": [
    "import numpy as np\n",
    "import tensorflow as tf\n",
    "import matplotlib.pyplot as plt"
   ]
  },
  {
   "cell_type": "code",
   "execution_count": 14,
   "metadata": {
    "collapsed": true
   },
   "outputs": [],
   "source": [
    "\n",
    "mnist_data = np.load('mnist.npz') # import local npz \n",
    "X_train, y_train, X_test, y_test  = mnist_data['x_train'], mnist_data['y_train'], mnist_data['x_test'], mnist_data['y_test']\n",
    "# normalize x\n",
    "X_train = X_train.astype(float) / 255.\n",
    "X_test = X_test.astype(float) / 255.\n",
    "# we reserve the last 10000 training examples for validation\n",
    "X_train, X_val = X_train[:-10000], X_train[-10000:]\n",
    "y_train, y_val = y_train[:-10000], y_train[-10000:]\n"
   ]
  },
  {
   "cell_type": "markdown",
   "metadata": {},
   "source": [
    "```python\n",
    "from preprocessed_mnist import load_dataset\n",
    "X_train, y_train, X_val, y_val, X_test, y_test = load_dataset()\n",
    "```"
   ]
  },
  {
   "cell_type": "code",
   "execution_count": 3,
   "metadata": {},
   "outputs": [
    {
     "name": "stdout",
     "output_type": "stream",
     "text": [
      "(50000, 28, 28) (50000,)\n",
      "(10000, 28, 28) (10000,)\n",
      "(10000, 28, 28) (10000,)\n"
     ]
    }
   ],
   "source": [
    "print(X_train.shape, y_train.shape)\n",
    "print(X_val.shape, y_val.shape)\n",
    "print(X_test.shape, y_test.shape)"
   ]
  },
  {
   "cell_type": "code",
   "execution_count": 4,
   "metadata": {},
   "outputs": [
    {
     "data": {
      "image/png": "[encoded data removed]",
      "text/plain": [
       "<matplotlib.figure.Figure at 0x224d6c4ddd8>"
      ]
     },
     "metadata": {},
     "output_type": "display_data"
    }
   ],
   "source": [
    "%matplotlib inline\n",
    "plt.imshow(X_train[1], cmap=\"Greys\");"
   ]
  },
  {
   "cell_type": "code",
   "execution_count": 5,
   "metadata": {},
   "outputs": [],
   "source": [
    "# feature number hight/width\n",
    "n_feature1 = X_test.shape[1]\n",
    "n_feature2 = X_test.shape[2]\n",
    "n_feature = n_feature1 * n_feature2\n",
    "m = X_train.shape[0]"
   ]
  },
  {
   "cell_type": "code",
   "execution_count": 6,
   "metadata": {
    "collapsed": true
   },
   "outputs": [],
   "source": [
    "tf.reset_default_graph()"
   ]
  },
  {
   "cell_type": "code",
   "execution_count": 7,
   "metadata": {
    "collapsed": true
   },
   "outputs": [],
   "source": [
    "# placeholder for data\n",
    "X_input = tf.placeholder(dtype= tf.float32, shape=(None,n_feature1, n_feature2), name = 'X_input')\n",
    "y_target = tf.placeholder(dtype=tf.int64, shape=(None,), name= 'y_target')"
   ]
  },
  {
   "cell_type": "code",
   "execution_count": 8,
   "metadata": {
    "collapsed": true
   },
   "outputs": [],
   "source": [
    "X_flatten = tf.reshape(X_input, shape=(-1, n_feature), name='X_input_reshape')"
   ]
  },
  {
   "cell_type": "code",
   "execution_count": 9,
   "metadata": {},
   "outputs": [],
   "source": [
    "with tf.name_scope(name='layer_1') as scope:\n",
    "    w1 = tf.Variable(tf.random_normal([n_feature, 512], stddev=0.01),  name= 'w1')\n",
    "    b1 =  tf.Variable(tf.zeros([1,512]), name='b1')\n",
    "    out1 = tf.nn.relu(tf.matmul(X_flatten, w1) + b1, name='out1')\n",
    "with tf.name_scope(name='layer_2') as scope:\n",
    "    w2 = tf.Variable(tf.random_normal([512, 128], stddev=0.01), name='w2')\n",
    "    b2 =  tf.Variable(tf.zeros([1,128]), name='b2')\n",
    "    out2 = tf.nn.relu(tf.matmul(out1, w2) + b2, name='out2')\n",
    "with tf.name_scope(name='output_layer') as scope:\n",
    "    w3 = tf.Variable(tf.random_normal([128, 10], stddev=0.01), name ='w3')\n",
    "    b3 =  tf.Variable(tf.zeros([1,10]), name='b3')\n",
    "    logits = tf.nn.relu(tf.matmul(out1, w2) + b2, name='logits')\n",
    "    y_predict = tf.nn.softmax(logits=logits)\n",
    "    \n",
    "loss = tf.reduce_mean(tf.nn.sparse_softmax_cross_entropy_with_logits(logits= logits, labels= y_target))\n",
    "optimizer = tf.train.GradientDescentOptimizer(0.5).minimize(loss)    \n",
    "\n",
    "correct_prediction = tf.equal(tf.argmax(y_predict,1), y_target)\n",
    "accuracy = tf.reduce_mean(tf.cast(correct_prediction, tf.float32))\n",
    "initializer = tf.global_variables_initializer()"
   ]
  },
  {
   "cell_type": "code",
   "execution_count": 10,
   "metadata": {
    "collapsed": true
   },
   "outputs": [],
   "source": [
    "epochs = 20\n",
    "batch_size = 5000"
   ]
  },
  {
   "cell_type": "code",
   "execution_count": 11,
   "metadata": {
    "collapsed": true
   },
   "outputs": [],
   "source": [
    "loss_record = {'loss_train':[], 'loss_test':[]}"
   ]
  },
  {
   "cell_type": "code",
   "execution_count": 12,
   "metadata": {},
   "outputs": [
    {
     "name": "stdout",
     "output_type": "stream",
     "text": [
      "epoch:  0 ; batch:  0\n",
      "loss_train:  4.84802 ;accuracy_train:  0.0252 ;loss_test:  4.74979 ;accuracy_test:  0.3402\n",
      "epoch:  0 ; batch:  2\n",
      "loss_train:  4.53898 ;accuracy_train:  0.3478 ;loss_test:  4.01803 ;accuracy_test:  0.3393\n",
      "epoch:  0 ; batch:  4\n",
      "loss_train:  3.08539 ;accuracy_train:  0.3204 ;loss_test:  2.70313 ;accuracy_test:  0.3165\n",
      "epoch:  0 ; batch:  6\n",
      "loss_train:  2.71271 ;accuracy_train:  0.3734 ;loss_test:  3.14167 ;accuracy_test:  0.1225\n",
      "epoch:  0 ; batch:  8\n",
      "loss_train:  3.162 ;accuracy_train:  0.3584 ;loss_test:  2.87859 ;accuracy_test:  0.4141\n",
      "epoch:  1 ; batch:  0\n",
      "loss_train:  2.47677 ;accuracy_train:  0.4806 ;loss_test:  2.28017 ;accuracy_test:  0.4494\n",
      "epoch:  1 ; batch:  2\n",
      "loss_train:  2.20951 ;accuracy_train:  0.4544 ;loss_test:  2.16702 ;accuracy_test:  0.4712\n",
      "epoch:  1 ; batch:  4\n",
      "loss_train:  2.05337 ;accuracy_train:  0.445 ;loss_test:  2.0202 ;accuracy_test:  0.497\n",
      "epoch:  1 ; batch:  6\n",
      "loss_train:  1.89322 ;accuracy_train:  0.5786 ;loss_test:  1.68657 ;accuracy_test:  0.5857\n",
      "epoch:  1 ; batch:  8\n",
      "loss_train:  1.62028 ;accuracy_train:  0.6202 ;loss_test:  1.46729 ;accuracy_test:  0.6422\n",
      "epoch:  2 ; batch:  0\n",
      "loss_train:  1.44335 ;accuracy_train:  0.6658 ;loss_test:  1.44349 ;accuracy_test:  0.5995\n",
      "epoch:  2 ; batch:  2\n",
      "loss_train:  1.50606 ;accuracy_train:  0.6176 ;loss_test:  1.40982 ;accuracy_test:  0.6143\n",
      "epoch:  2 ; batch:  4\n",
      "loss_train:  1.34312 ;accuracy_train:  0.6816 ;loss_test:  1.25718 ;accuracy_test:  0.7024\n",
      "epoch:  2 ; batch:  6\n",
      "loss_train:  1.31747 ;accuracy_train:  0.691 ;loss_test:  1.24588 ;accuracy_test:  0.6796\n",
      "epoch:  2 ; batch:  8\n",
      "loss_train:  1.24714 ;accuracy_train:  0.6964 ;loss_test:  1.23414 ;accuracy_test:  0.6896\n",
      "epoch:  3 ; batch:  0\n",
      "loss_train:  1.16052 ;accuracy_train:  0.724 ;loss_test:  1.15983 ;accuracy_test:  0.7203\n",
      "epoch:  3 ; batch:  2\n",
      "loss_train:  1.22081 ;accuracy_train:  0.702 ;loss_test:  1.17133 ;accuracy_test:  0.7136\n",
      "epoch:  3 ; batch:  4\n",
      "loss_train:  1.20036 ;accuracy_train:  0.7058 ;loss_test:  1.13115 ;accuracy_test:  0.7261\n",
      "epoch:  3 ; batch:  6\n",
      "loss_train:  1.17948 ;accuracy_train:  0.7052 ;loss_test:  1.09689 ;accuracy_test:  0.728\n",
      "epoch:  3 ; batch:  8\n",
      "loss_train:  1.09284 ;accuracy_train:  0.7202 ;loss_test:  0.973354 ;accuracy_test:  0.7507\n",
      "epoch:  4 ; batch:  0\n",
      "loss_train:  0.843585 ;accuracy_train:  0.7844 ;loss_test:  0.683492 ;accuracy_test:  0.8238\n",
      "epoch:  4 ; batch:  2\n",
      "loss_train:  0.646962 ;accuracy_train:  0.8216 ;loss_test:  0.575289 ;accuracy_test:  0.831\n",
      "epoch:  4 ; batch:  4\n",
      "loss_train:  0.612601 ;accuracy_train:  0.793 ;loss_test:  0.605445 ;accuracy_test:  0.7958\n",
      "epoch:  4 ; batch:  6\n",
      "loss_train:  0.789426 ;accuracy_train:  0.735 ;loss_test:  0.635366 ;accuracy_test:  0.7809\n",
      "epoch:  4 ; batch:  8\n",
      "loss_train:  0.726034 ;accuracy_train:  0.744 ;loss_test:  0.695694 ;accuracy_test:  0.7884\n",
      "epoch:  5 ; batch:  0\n",
      "loss_train:  0.521367 ;accuracy_train:  0.8492 ;loss_test:  0.477931 ;accuracy_test:  0.8632\n",
      "epoch:  5 ; batch:  2\n",
      "loss_train:  0.50051 ;accuracy_train:  0.8596 ;loss_test:  0.465641 ;accuracy_test:  0.8662\n",
      "epoch:  5 ; batch:  4\n",
      "loss_train:  0.44689 ;accuracy_train:  0.874 ;loss_test:  0.451867 ;accuracy_test:  0.8712\n",
      "epoch:  5 ; batch:  6\n",
      "loss_train:  0.524192 ;accuracy_train:  0.8424 ;loss_test:  0.558378 ;accuracy_test:  0.8337\n",
      "epoch:  5 ; batch:  8\n",
      "loss_train:  0.510348 ;accuracy_train:  0.8392 ;loss_test:  0.513624 ;accuracy_test:  0.8409\n",
      "epoch:  6 ; batch:  0\n",
      "loss_train:  0.474452 ;accuracy_train:  0.8578 ;loss_test:  0.473997 ;accuracy_test:  0.8535\n",
      "epoch:  6 ; batch:  2\n",
      "loss_train:  0.506507 ;accuracy_train:  0.834 ;loss_test:  0.477565 ;accuracy_test:  0.8468\n",
      "epoch:  6 ; batch:  4\n",
      "loss_train:  0.496478 ;accuracy_train:  0.836 ;loss_test:  0.501022 ;accuracy_test:  0.8354\n",
      "epoch:  6 ; batch:  6\n",
      "loss_train:  0.53827 ;accuracy_train:  0.8236 ;loss_test:  0.444792 ;accuracy_test:  0.8629\n",
      "epoch:  6 ; batch:  8\n",
      "loss_train:  0.441682 ;accuracy_train:  0.8668 ;loss_test:  0.387834 ;accuracy_test:  0.8898\n",
      "epoch:  7 ; batch:  0\n",
      "loss_train:  0.382196 ;accuracy_train:  0.887 ;loss_test:  0.369048 ;accuracy_test:  0.896\n",
      "epoch:  7 ; batch:  2\n",
      "loss_train:  0.410055 ;accuracy_train:  0.877 ;loss_test:  0.358385 ;accuracy_test:  0.8994\n",
      "epoch:  7 ; batch:  4\n",
      "loss_train:  0.368651 ;accuracy_train:  0.8932 ;loss_test:  0.353244 ;accuracy_test:  0.9\n",
      "epoch:  7 ; batch:  6\n",
      "loss_train:  0.384064 ;accuracy_train:  0.8864 ;loss_test:  0.334623 ;accuracy_test:  0.9058\n",
      "epoch:  7 ; batch:  8\n",
      "loss_train:  0.356107 ;accuracy_train:  0.8982 ;loss_test:  0.335 ;accuracy_test:  0.9061\n",
      "epoch:  8 ; batch:  0\n",
      "loss_train:  0.325586 ;accuracy_train:  0.9076 ;loss_test:  0.329422 ;accuracy_test:  0.9058\n",
      "epoch:  8 ; batch:  2\n",
      "loss_train:  0.377892 ;accuracy_train:  0.89 ;loss_test:  0.334895 ;accuracy_test:  0.9038\n",
      "epoch:  8 ; batch:  4\n",
      "loss_train:  0.34345 ;accuracy_train:  0.906 ;loss_test:  0.326954 ;accuracy_test:  0.9059\n",
      "epoch:  8 ; batch:  6\n",
      "loss_train:  0.365544 ;accuracy_train:  0.8934 ;loss_test:  0.322374 ;accuracy_test:  0.9079\n",
      "epoch:  8 ; batch:  8\n",
      "loss_train:  0.348363 ;accuracy_train:  0.9002 ;loss_test:  0.332981 ;accuracy_test:  0.9035\n",
      "epoch:  9 ; batch:  0\n",
      "loss_train:  0.319091 ;accuracy_train:  0.9092 ;loss_test:  0.321618 ;accuracy_test:  0.9071\n",
      "epoch:  9 ; batch:  2\n",
      "loss_train:  0.372555 ;accuracy_train:  0.8944 ;loss_test:  0.338937 ;accuracy_test:  0.8985\n",
      "epoch:  9 ; batch:  4\n",
      "loss_train:  0.347945 ;accuracy_train:  0.9022 ;loss_test:  0.332158 ;accuracy_test:  0.9008\n",
      "epoch:  9 ; batch:  6\n",
      "loss_train:  0.385361 ;accuracy_train:  0.887 ;loss_test:  0.354498 ;accuracy_test:  0.8912\n",
      "epoch:  9 ; batch:  8\n",
      "loss_train:  0.396378 ;accuracy_train:  0.8756 ;loss_test:  0.385098 ;accuracy_test:  0.8787\n",
      "epoch:  10 ; batch:  0\n",
      "loss_train:  0.358175 ;accuracy_train:  0.8926 ;loss_test:  0.339509 ;accuracy_test:  0.8979\n",
      "epoch:  10 ; batch:  2\n",
      "loss_train:  0.369961 ;accuracy_train:  0.8948 ;loss_test:  0.328852 ;accuracy_test:  0.9023\n",
      "epoch:  10 ; batch:  4\n",
      "loss_train:  0.327139 ;accuracy_train:  0.9096 ;loss_test:  0.307613 ;accuracy_test:  0.9128\n",
      "epoch:  10 ; batch:  6\n",
      "loss_train:  0.348896 ;accuracy_train:  0.8984 ;loss_test:  0.311232 ;accuracy_test:  0.9119\n",
      "epoch:  10 ; batch:  8\n",
      "loss_train:  0.326583 ;accuracy_train:  0.9054 ;loss_test:  0.307769 ;accuracy_test:  0.9122\n",
      "epoch:  11 ; batch:  0\n",
      "loss_train:  0.286956 ;accuracy_train:  0.9222 ;loss_test:  0.294024 ;accuracy_test:  0.917\n",
      "epoch:  11 ; batch:  2\n",
      "loss_train:  0.334496 ;accuracy_train:  0.9024 ;loss_test:  0.299276 ;accuracy_test:  0.9162\n",
      "epoch:  11 ; batch:  4\n",
      "loss_train:  0.30447 ;accuracy_train:  0.9136 ;loss_test:  0.290945 ;accuracy_test:  0.9176\n",
      "epoch:  11 ; batch:  6\n",
      "loss_train:  0.325888 ;accuracy_train:  0.903 ;loss_test:  0.293015 ;accuracy_test:  0.9176\n",
      "epoch:  11 ; batch:  8\n",
      "loss_train:  0.308015 ;accuracy_train:  0.9118 ;loss_test:  0.293359 ;accuracy_test:  0.9179\n",
      "epoch:  12 ; batch:  0\n",
      "loss_train:  0.27451 ;accuracy_train:  0.9244 ;loss_test:  0.283943 ;accuracy_test:  0.9187\n",
      "epoch:  12 ; batch:  2\n",
      "loss_train:  0.323632 ;accuracy_train:  0.9046 ;loss_test:  0.28992 ;accuracy_test:  0.9182\n",
      "epoch:  12 ; batch:  4\n",
      "loss_train:  0.295861 ;accuracy_train:  0.9166 ;loss_test:  0.282431 ;accuracy_test:  0.9193\n",
      "epoch:  12 ; batch:  6\n",
      "loss_train:  0.31474 ;accuracy_train:  0.907 ;loss_test:  0.284395 ;accuracy_test:  0.9197\n",
      "epoch:  12 ; batch:  8\n",
      "loss_train:  0.299325 ;accuracy_train:  0.914 ;loss_test:  0.286204 ;accuracy_test:  0.9191\n",
      "epoch:  13 ; batch:  0\n",
      "loss_train:  0.266165 ;accuracy_train:  0.9278 ;loss_test:  0.276305 ;accuracy_test:  0.9213\n",
      "epoch:  13 ; batch:  2\n",
      "loss_train:  0.314696 ;accuracy_train:  0.908 ;loss_test:  0.282672 ;accuracy_test:  0.9194\n",
      "epoch:  13 ; batch:  4\n",
      "loss_train:  0.288584 ;accuracy_train:  0.9196 ;loss_test:  0.275226 ;accuracy_test:  0.922\n",
      "epoch:  13 ; batch:  6\n",
      "loss_train:  0.305685 ;accuracy_train:  0.9096 ;loss_test:  0.277517 ;accuracy_test:  0.9217\n",
      "epoch:  13 ; batch:  8\n",
      "loss_train:  0.292299 ;accuracy_train:  0.9156 ;loss_test:  0.280254 ;accuracy_test:  0.92\n",
      "epoch:  14 ; batch:  0\n",
      "loss_train:  0.258861 ;accuracy_train:  0.931 ;loss_test:  0.269574 ;accuracy_test:  0.9237\n",
      "epoch:  14 ; batch:  2\n",
      "loss_train:  0.306575 ;accuracy_train:  0.91 ;loss_test:  0.276049 ;accuracy_test:  0.9203\n"
     ]
    },
    {
     "name": "stdout",
     "output_type": "stream",
     "text": [
      "epoch:  14 ; batch:  4\n",
      "loss_train:  0.28186 ;accuracy_train:  0.9214 ;loss_test:  0.268653 ;accuracy_test:  0.9235\n",
      "epoch:  14 ; batch:  6\n",
      "loss_train:  0.297146 ;accuracy_train:  0.9126 ;loss_test:  0.270903 ;accuracy_test:  0.9234\n",
      "epoch:  14 ; batch:  8\n",
      "loss_train:  0.285349 ;accuracy_train:  0.9176 ;loss_test:  0.274251 ;accuracy_test:  0.9224\n",
      "epoch:  15 ; batch:  0\n",
      "loss_train:  0.251832 ;accuracy_train:  0.9324 ;loss_test:  0.263266 ;accuracy_test:  0.9257\n",
      "epoch:  15 ; batch:  2\n",
      "loss_train:  0.298783 ;accuracy_train:  0.9128 ;loss_test:  0.269514 ;accuracy_test:  0.9225\n",
      "epoch:  15 ; batch:  4\n",
      "loss_train:  0.275283 ;accuracy_train:  0.9242 ;loss_test:  0.262326 ;accuracy_test:  0.9249\n",
      "epoch:  15 ; batch:  6\n",
      "loss_train:  0.28869 ;accuracy_train:  0.9152 ;loss_test:  0.264245 ;accuracy_test:  0.926\n",
      "epoch:  15 ; batch:  8\n",
      "loss_train:  0.278132 ;accuracy_train:  0.9186 ;loss_test:  0.267943 ;accuracy_test:  0.9242\n",
      "epoch:  16 ; batch:  0\n",
      "loss_train:  0.244927 ;accuracy_train:  0.9344 ;loss_test:  0.257169 ;accuracy_test:  0.928\n",
      "epoch:  16 ; batch:  2\n",
      "loss_train:  0.291198 ;accuracy_train:  0.914 ;loss_test:  0.263082 ;accuracy_test:  0.924\n",
      "epoch:  16 ; batch:  4\n",
      "loss_train:  0.268826 ;accuracy_train:  0.9254 ;loss_test:  0.256221 ;accuracy_test:  0.9262\n",
      "epoch:  16 ; batch:  6\n",
      "loss_train:  0.280591 ;accuracy_train:  0.9182 ;loss_test:  0.257829 ;accuracy_test:  0.9274\n",
      "epoch:  16 ; batch:  8\n",
      "loss_train:  0.270997 ;accuracy_train:  0.9218 ;loss_test:  0.261627 ;accuracy_test:  0.9264\n",
      "epoch:  17 ; batch:  0\n",
      "loss_train:  0.238216 ;accuracy_train:  0.9364 ;loss_test:  0.251328 ;accuracy_test:  0.9294\n",
      "epoch:  17 ; batch:  2\n",
      "loss_train:  0.283892 ;accuracy_train:  0.9148 ;loss_test:  0.256943 ;accuracy_test:  0.9261\n",
      "epoch:  17 ; batch:  4\n",
      "loss_train:  0.262565 ;accuracy_train:  0.9268 ;loss_test:  0.250379 ;accuracy_test:  0.9277\n",
      "epoch:  17 ; batch:  6\n",
      "loss_train:  0.272994 ;accuracy_train:  0.92 ;loss_test:  0.251859 ;accuracy_test:  0.9292\n",
      "epoch:  17 ; batch:  8\n",
      "loss_train:  0.264267 ;accuracy_train:  0.9248 ;loss_test:  0.255592 ;accuracy_test:  0.9286\n",
      "epoch:  18 ; batch:  0\n",
      "loss_train:  0.231895 ;accuracy_train:  0.9376 ;loss_test:  0.2458 ;accuracy_test:  0.9304\n",
      "epoch:  18 ; batch:  2\n",
      "loss_train:  0.276985 ;accuracy_train:  0.9168 ;loss_test:  0.251227 ;accuracy_test:  0.9271\n",
      "epoch:  18 ; batch:  4\n",
      "loss_train:  0.256626 ;accuracy_train:  0.9284 ;loss_test:  0.244872 ;accuracy_test:  0.9305\n",
      "epoch:  18 ; batch:  6\n",
      "loss_train:  0.26593 ;accuracy_train:  0.9224 ;loss_test:  0.246315 ;accuracy_test:  0.93\n",
      "epoch:  18 ; batch:  8\n",
      "loss_train:  0.258014 ;accuracy_train:  0.9254 ;loss_test:  0.249991 ;accuracy_test:  0.9299\n",
      "epoch:  19 ; batch:  0\n",
      "loss_train:  0.22596 ;accuracy_train:  0.9382 ;loss_test:  0.240579 ;accuracy_test:  0.932\n",
      "epoch:  19 ; batch:  2\n",
      "loss_train:  0.270473 ;accuracy_train:  0.9186 ;loss_test:  0.245889 ;accuracy_test:  0.9285\n",
      "epoch:  19 ; batch:  4\n",
      "loss_train:  0.250991 ;accuracy_train:  0.9306 ;loss_test:  0.239699 ;accuracy_test:  0.9319\n",
      "epoch:  19 ; batch:  6\n",
      "loss_train:  0.25937 ;accuracy_train:  0.9238 ;loss_test:  0.241084 ;accuracy_test:  0.9317\n",
      "epoch:  19 ; batch:  8\n",
      "loss_train:  0.252123 ;accuracy_train:  0.9276 ;loss_test:  0.244701 ;accuracy_test:  0.9318\n"
     ]
    }
   ],
   "source": [
    "with tf.Session() as sess:\n",
    "    sess.run(initializer)\n",
    "    for epoch in range(epochs):\n",
    "        for i in range(m // batch_size ):\n",
    "            n_left = i * batch_size\n",
    "            n_right = (i + 1)*batch_size\n",
    "            X = X_train[n_left:n_right, :]\n",
    "            y = y_train[n_left:n_right]\n",
    "            loss_train, _, accuracy_train = sess.run([loss, optimizer, accuracy], feed_dict= {X_input:X, y_target:y})\n",
    "            loss_test,accuracy_test =  sess.run([loss, accuracy], feed_dict= {X_input:X_test, y_target:y_test})\n",
    "            loss_record['loss_train'].append(loss_train)\n",
    "            loss_record['loss_test'].append(loss_test)\n",
    "            if i % 2 == 0:\n",
    "                print('epoch: ', epoch, '; batch: ', i)\n",
    "                print('loss_train: ', loss_train, ';accuracy_train: ', accuracy_train, ';loss_test: ', loss_test, ';accuracy_test: ', accuracy_test)\n",
    "                "
   ]
  },
  {
   "cell_type": "code",
   "execution_count": 13,
   "metadata": {},
   "outputs": [
    {
     "data": {
      "image/png": "[encoded data removed]",
      "text/plain": [
       "<matplotlib.figure.Figure at 0x224d8d577b8>"
      ]
     },
     "metadata": {},
     "output_type": "display_data"
    }
   ],
   "source": [
    "fig, ax = plt.subplots()\n",
    "ax.plot(loss_record['loss_train'], '--r', label='loss_train')\n",
    "ax.plot(loss_record['loss_test'], 'b', label='loss_test')\n",
    "\n",
    "# Now add the legend with some customizations.\n",
    "legend = ax.legend(loc='upper right', shadow=False)\n",
    "\n",
    "# Set the fontsize\n",
    "for label in legend.get_texts():\n",
    "    label.set_fontsize('large')\n",
    "\n",
    "for label in legend.get_lines():\n",
    "    label.set_linewidth(1.5)  # the legend line width\n",
    "plt.show()"
   ]
  },
  {
   "cell_type": "code",
   "execution_count": null,
   "metadata": {
    "collapsed": true
   },
   "outputs": [],
   "source": []
  }
 ],
 "metadata": {
  "kernelspec": {
   "display_name": "Python 3",
   "language": "python",
   "name": "python3"
  },
  "language_info": {
   "codemirror_mode": {
    "name": "ipython",
    "version": 3
   },
   "file_extension": ".py",
   "mimetype": "text/x-python",
   "name": "python",
   "nbconvert_exporter": "python",
   "pygments_lexer": "ipython3",
   "version": "3.6.2"
  }
 },
 "nbformat": 4,
 "nbformat_minor": 2
}
