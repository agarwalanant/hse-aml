{
 "cells": [
  {
   "cell_type": "code",
   "execution_count": 2,
   "metadata": {
    "collapsed": true
   },
   "outputs": [],
   "source": [
    "import numpy as np\n",
    "import tensorflow as tf\n",
    "import matplotlib.pyplot as plt"
   ]
  },
  {
   "cell_type": "code",
   "execution_count": 3,
   "metadata": {},
   "outputs": [],
   "source": [
    "\n",
    "mnist_data = np.load('mnist.npz') # import local npz \n",
    "X_train, y_train, X_test, y_test  = mnist_data['x_train'], mnist_data['y_train'], mnist_data['x_test'], mnist_data['y_test']\n",
    "# normalize x\n",
    "X_train = X_train.astype(float) / 255.\n",
    "X_test = X_test.astype(float) / 255.\n",
    "# we reserve the last 10000 training examples for validation\n",
    "X_train, X_val = X_train[:-10000], X_train[-10000:]\n",
    "y_train, y_val = y_train[:-10000], y_train[-10000:]\n"
   ]
  },
  {
   "cell_type": "markdown",
   "metadata": {},
   "source": [
    "```python\n",
    "from preprocessed_mnist import load_dataset\n",
    "X_train, y_train, X_val, y_val, X_test, y_test = load_dataset()\n",
    "```"
   ]
  },
  {
   "cell_type": "code",
   "execution_count": 3,
   "metadata": {},
   "outputs": [
    {
     "name": "stdout",
     "output_type": "stream",
     "text": [
      "(50000, 28, 28) (50000,)\n",
      "(10000, 28, 28) (10000,)\n",
      "(10000, 28, 28) (10000,)\n"
     ]
    }
   ],
   "source": [
    "print(X_train.shape, y_train.shape)\n",
    "print(X_val.shape, y_val.shape)\n",
    "print(X_test.shape, y_test.shape)"
   ]
  },
  {
   "cell_type": "code",
   "execution_count": 4,
   "metadata": {},
   "outputs": [
    {
     "data": {
      "image/png": "[encoded data removed]",
      "text/plain": [
       "<matplotlib.figure.Figure at 0x289561b8048>"
      ]
     },
     "metadata": {},
     "output_type": "display_data"
    }
   ],
   "source": [
    "%matplotlib inline\n",
    "plt.imshow(X_train[1], cmap=\"Greys\");"
   ]
  },
  {
   "cell_type": "code",
   "execution_count": 5,
   "metadata": {
    "collapsed": true
   },
   "outputs": [],
   "source": [
    "# feature number hight/width\n",
    "n_feature1 = X_test.shape[1]\n",
    "n_feature2 = X_test.shape[2]\n",
    "n_feature = n_feature1 * n_feature2\n",
    "m = X_train.shape[0]"
   ]
  },
  {
   "cell_type": "code",
   "execution_count": 6,
   "metadata": {
    "collapsed": true
   },
   "outputs": [],
   "source": [
    "tf.reset_default_graph()"
   ]
  },
  {
   "cell_type": "code",
   "execution_count": 7,
   "metadata": {
    "collapsed": true
   },
   "outputs": [],
   "source": [
    "# placeholder for data\n",
    "X_input = tf.placeholder(dtype= tf.float32, shape=(None,n_feature1, n_feature2), name = 'X_input')\n",
    "y_target = tf.placeholder(dtype=tf.int64, shape=(None,), name= 'y_target')"
   ]
  },
  {
   "cell_type": "code",
   "execution_count": 8,
   "metadata": {
    "collapsed": true
   },
   "outputs": [],
   "source": [
    "X_flatten = tf.reshape(X_input, shape=(-1, n_feature), name='X_input_reshape')"
   ]
  },
  {
   "cell_type": "code",
   "execution_count": 9,
   "metadata": {
    "collapsed": true
   },
   "outputs": [],
   "source": [
    "with tf.name_scope(name='layer_1') as scope:\n",
    "    w1 = tf.Variable(tf.random_normal([n_feature, 384], stddev=0.01),  name= 'w1')\n",
    "    b1 =  tf.Variable(tf.zeros([1,384]), name='b1')\n",
    "    out1 = tf.nn.relu(tf.matmul(X_flatten, w1) + b1, name='out1')\n",
    "#with tf.name_scope(name='layer_2') as scope:\n",
    "#    w2 = tf.Variable(tf.random_normal([512, 128], stddev=0.01), name='w2')\n",
    " #   b2 =  tf.Variable(tf.zeros([1,128]), name='b2')\n",
    "#    out2 = tf.nn.relu(tf.matmul(out1, w2) + b2, name='out2')\n",
    "with tf.name_scope(name='output_layer') as scope:\n",
    "    w3 = tf.Variable(tf.random_normal([384, 10], stddev=0.01), name ='w3')\n",
    "    b3 =  tf.Variable(tf.zeros([1,10]), name='b3')\n",
    "    logits = tf.nn.relu(tf.matmul(out1, w3) + b3, name='logits')\n",
    "    y_predict = tf.nn.softmax(logits=logits)\n",
    "    \n",
    "loss = tf.reduce_mean(tf.nn.sparse_softmax_cross_entropy_with_logits(logits= logits, labels= y_target))\n",
    "optimizer = tf.train.GradientDescentOptimizer(0.5).minimize(loss)    \n",
    "\n",
    "correct_prediction = tf.equal(tf.argmax(y_predict,1), y_target)\n",
    "accuracy = tf.reduce_mean(tf.cast(correct_prediction, tf.float32))\n",
    "initializer = tf.global_variables_initializer()"
   ]
  },
  {
   "cell_type": "code",
   "execution_count": 10,
   "metadata": {
    "collapsed": true
   },
   "outputs": [],
   "source": [
    "epochs = 20\n",
    "batch_size = 1000"
   ]
  },
  {
   "cell_type": "code",
   "execution_count": 11,
   "metadata": {
    "collapsed": true
   },
   "outputs": [],
   "source": [
    "loss_record = {'loss_train':[], 'loss_val':[]}"
   ]
  },
  {
   "cell_type": "code",
   "execution_count": 12,
   "metadata": {},
   "outputs": [
    {
     "name": "stdout",
     "output_type": "stream",
     "text": [
      "Test accuracy:  [0.96939999]\n"
     ]
    }
   ],
   "source": [
    "with tf.Session() as sess:\n",
    "    sess.run(initializer)\n",
    "    for epoch in range(epochs):\n",
    "        for i in range(m // batch_size ):\n",
    "            n_left = i * batch_size\n",
    "            n_right = (i + 1)*batch_size\n",
    "            X = X_train[n_left:n_right, :]\n",
    "            y = y_train[n_left:n_right]\n",
    "            loss_train, _, accuracy_train = sess.run([loss, optimizer, accuracy], feed_dict= {X_input:X, y_target:y})\n",
    "            loss_val,accuracy_val =  sess.run([loss, accuracy], feed_dict= {X_input:X_val, y_target:y_val})\n",
    "            loss_record['loss_train'].append(loss_train)\n",
    "            loss_record['loss_val'].append(loss_val)\n",
    "            '''if i % 2 == 0:\n",
    "                print('epoch: ', epoch, '; batch: ', i)\n",
    "                print('loss_train: ', loss_train, ';accuracy_train: ', accuracy_train, ';loss_val: ', loss_test, ';accuracy_val: ', accuracy_test)'''\n",
    "    accuracy_test = sess.run([accuracy], feed_dict= {X_input:X_test, y_target:y_test}) \n",
    "    print('Test accuracy: ', accuracy_test)"
   ]
  },
  {
   "cell_type": "code",
   "execution_count": 14,
   "metadata": {},
   "outputs": [
    {
     "data": {
      "image/png": "[encoded data removed]",
      "text/plain": [
       "<matplotlib.figure.Figure at 0x28958434828>"
      ]
     },
     "metadata": {},
     "output_type": "display_data"
    }
   ],
   "source": [
    "fig, ax = plt.subplots()\n",
    "ax.plot(loss_record['loss_train'], '--r', label='loss_train')\n",
    "ax.plot(loss_record['loss_val'], 'b', label='loss_val')\n",
    "\n",
    "# Now add the legend with some customizations.\n",
    "legend = ax.legend(loc='upper right', shadow=False)\n",
    "\n",
    "# Set the fontsize\n",
    "for label in legend.get_texts():\n",
    "    label.set_fontsize('large')\n",
    "\n",
    "for label in legend.get_lines():\n",
    "    label.set_linewidth(1.5)  # the legend line width\n",
    "plt.show()"
   ]
  },
  {
   "cell_type": "code",
   "execution_count": null,
   "metadata": {
    "collapsed": true
   },
   "outputs": [],
   "source": []
  }
 ],
 "metadata": {
  "kernelspec": {
   "display_name": "Python 3",
   "language": "python",
   "name": "python3"
  },
  "language_info": {
   "codemirror_mode": {
    "name": "ipython",
    "version": 3
   },
   "file_extension": ".py",
   "mimetype": "text/x-python",
   "name": "python",
   "nbconvert_exporter": "python",
   "pygments_lexer": "ipython3",
   "version": "3.6.2"
  }
 },
 "nbformat": 4,
 "nbformat_minor": 2
}
