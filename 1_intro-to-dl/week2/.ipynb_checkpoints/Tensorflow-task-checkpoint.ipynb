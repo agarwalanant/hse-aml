{
 "cells": [
  {
   "cell_type": "markdown",
   "metadata": {
    "slideshow": {
     "slide_type": "slide"
    }
   },
   "source": [
    "# Going deeper with Tensorflow\n",
    "\n",
    "In this video, we're going to study the tools you'll use to build deep learning models. Namely, [Tensorflow](https://www.tensorflow.org/).\n",
    "\n",
    "If you're running this notebook outside the course environment, you'll need to install tensorflow:\n",
    "* `pip install tensorflow` should install cpu-only TF on Linux & Mac OS\n",
    "* If you want GPU support from offset, see [TF install page](https://www.tensorflow.org/install/)"
   ]
  },
  {
   "cell_type": "code",
   "execution_count": 2,
   "metadata": {},
   "outputs": [],
   "source": [
    "import sys\n",
    "sys.path.append(\"../utils\")\n",
    "import grader"
   ]
  },
  {
   "cell_type": "markdown",
   "metadata": {},
   "source": [
    "# Visualization"
   ]
  },
  {
   "cell_type": "code",
   "execution_count": 2,
   "metadata": {},
   "outputs": [
    {
     "name": "stdout",
     "output_type": "stream",
     "text": [
      "/bin/sh: 1: killall: not found\r\n"
     ]
    }
   ],
   "source": [
    "! killall tensorboard\n",
    "import os\n",
    "os.system(\"tensorboard --logdir=/tmp/tboard --port=7007 &\");"
   ]
  },
  {
   "cell_type": "markdown",
   "metadata": {},
   "source": [
    "If you run the notebook locally, you should be able to access TensorBoard on http://127.0.0.1:7007/"
   ]
  },
  {
   "cell_type": "code",
   "execution_count": 3,
   "metadata": {
    "collapsed": true
   },
   "outputs": [],
   "source": [
    "import tensorflow as tf\n",
    "s = tf.InteractiveSession()"
   ]
  },
  {
   "cell_type": "code",
   "execution_count": 4,
   "metadata": {},
   "outputs": [
    {
     "data": {
      "text/plain": [
       "'1.2.1'"
      ]
     },
     "execution_count": 4,
     "metadata": {},
     "output_type": "execute_result"
    }
   ],
   "source": [
    "tf.__version__"
   ]
  },
  {
   "cell_type": "markdown",
   "metadata": {},
   "source": [
    "# Warming up\n",
    "For starters, let's implement a python function that computes the sum of squares of numbers from 0 to N-1."
   ]
  },
  {
   "cell_type": "code",
   "execution_count": 5,
   "metadata": {
    "collapsed": true
   },
   "outputs": [],
   "source": [
    "import numpy as np\n",
    "def sum_sin(N):\n",
    "    return np.sum(np.arange(N)**2)"
   ]
  },
  {
   "cell_type": "code",
   "execution_count": 6,
   "metadata": {},
   "outputs": [
    {
     "name": "stdout",
     "output_type": "stream",
     "text": [
      "Wall time: 483 ms\n"
     ]
    },
    {
     "data": {
      "text/plain": [
       "-1452071552"
      ]
     },
     "execution_count": 6,
     "metadata": {},
     "output_type": "execute_result"
    }
   ],
   "source": [
    "%%time\n",
    "sum_sin(10**8)"
   ]
  },
  {
   "cell_type": "code",
   "execution_count": 7,
   "metadata": {},
   "outputs": [
    {
     "data": {
      "text/plain": [
       "'1.13.3'"
      ]
     },
     "execution_count": 7,
     "metadata": {},
     "output_type": "execute_result"
    }
   ],
   "source": [
    "np.__version__"
   ]
  },
  {
   "cell_type": "markdown",
   "metadata": {},
   "source": [
    "# Tensoflow teaser\n",
    "\n",
    "Doing the very same thing"
   ]
  },
  {
   "cell_type": "code",
   "execution_count": 8,
   "metadata": {
    "collapsed": true
   },
   "outputs": [],
   "source": [
    "# An integer parameter\n",
    "N = tf.placeholder('int64', name=\"input_to_your_function\")\n",
    "\n",
    "# A recipe on how to produce the same result\n",
    "result = tf.reduce_sum(tf.range(N)**2)"
   ]
  },
  {
   "cell_type": "code",
   "execution_count": 9,
   "metadata": {},
   "outputs": [
    {
     "data": {
      "text/plain": [
       "<tf.Tensor 'Sum:0' shape=() dtype=int64>"
      ]
     },
     "execution_count": 9,
     "metadata": {},
     "output_type": "execute_result"
    }
   ],
   "source": [
    "result"
   ]
  },
  {
   "cell_type": "code",
   "execution_count": 10,
   "metadata": {},
   "outputs": [
    {
     "name": "stdout",
     "output_type": "stream",
     "text": [
      "Wall time: 531 ms\n"
     ]
    },
    {
     "data": {
      "text/plain": [
       "662921401752298880"
      ]
     },
     "execution_count": 10,
     "metadata": {},
     "output_type": "execute_result"
    }
   ],
   "source": [
    "%%time\n",
    "result.eval({N: 10**8})"
   ]
  },
  {
   "cell_type": "code",
   "execution_count": 11,
   "metadata": {
    "collapsed": true
   },
   "outputs": [],
   "source": [
    "writer = tf.summary.FileWriter(\"/tmp/tboard\", graph=s.graph)"
   ]
  },
  {
   "cell_type": "markdown",
   "metadata": {},
   "source": [
    "# How does it work?\n",
    "1. Define placeholders where you'll send inputs\n",
    "2. Make symbolic graph: a recipe for mathematical transformation of those placeholders\n",
    "3. Compute outputs of your graph with particular values for each placeholder\n",
    "  * `output.eval({placeholder:value})`\n",
    "  * `s.run(output, {placeholder:value})`\n",
    "\n",
    "So far there are two main entities: \"placeholder\" and \"transformation\"\n",
    "* Both can be numbers, vectors, matrices, tensors, etc.\n",
    "* Both can be int32/64, floats, booleans (uint8) of various size.\n",
    "\n",
    "* You can define new transformations as an arbitrary operation on placeholders and other transformations\n",
    " * `tf.reduce_sum(tf.arange(N)**2)` are 3 sequential transformations of placeholder `N`\n",
    " * There's a tensorflow symbolic version for every numpy function\n",
    "   * `a+b, a/b, a**b, ...` behave just like in numpy\n",
    "   * `np.mean` -> `tf.reduce_mean`\n",
    "   * `np.arange` -> `tf.range`\n",
    "   * `np.cumsum` -> `tf.cumsum`\n",
    "   * If if you can't find the op you need, see the [docs](https://www.tensorflow.org/api_docs/python).\n",
    "   \n",
    "`tf.contrib` has many high-level features, may be worth a look."
   ]
  },
  {
   "cell_type": "code",
   "execution_count": 12,
   "metadata": {},
   "outputs": [
    {
     "data": {
      "text/plain": [
       "<tf.Tensor 'Placeholder:0' shape=(10,) dtype=int32>"
      ]
     },
     "execution_count": 12,
     "metadata": {},
     "output_type": "execute_result"
    }
   ],
   "source": [
    "tf.placeholder('int32', shape=(10,))"
   ]
  },
  {
   "cell_type": "code",
   "execution_count": 13,
   "metadata": {},
   "outputs": [
    {
     "data": {
      "text/plain": [
       "<tf.Tensor 'Placeholder_1:0' shape=(10,) dtype=int32>"
      ]
     },
     "execution_count": 13,
     "metadata": {},
     "output_type": "execute_result"
    }
   ],
   "source": [
    "tf.placeholder('int32', shape=(10))"
   ]
  },
  {
   "cell_type": "code",
   "execution_count": 14,
   "metadata": {
    "collapsed": true
   },
   "outputs": [],
   "source": [
    "with tf.name_scope(\"Placeholders_examples\"):\n",
    "    # Default placeholder that can be arbitrary float32\n",
    "    # scalar, vertor, matrix, etc.\n",
    "    arbitrary_input = tf.placeholder('float32')\n",
    "\n",
    "    # Input vector of arbitrary length\n",
    "    input_vector = tf.placeholder('float32', shape=(None,))\n",
    "\n",
    "    # Input vector that _must_ have 10 elements and integer type\n",
    "    fixed_vector = tf.placeholder('int32', shape=(10,))\n",
    "\n",
    "    # Matrix of arbitrary n_rows and 15 columns\n",
    "    # (e.g. a minibatch your data table)\n",
    "    input_matrix = tf.placeholder('float32', shape=(None, 15))\n",
    "    \n",
    "    # You can generally use None whenever you don't need a specific shape\n",
    "    input1 = tf.placeholder('float64', shape=(None, 100, None))\n",
    "    input2 = tf.placeholder('int32', shape=(None, None, 3, 224, 224))\n",
    "\n",
    "    # elementwise multiplication\n",
    "    double_the_vector = input_vector*2\n",
    "\n",
    "    # elementwise cosine\n",
    "    elementwise_cosine = tf.cos(input_vector)\n",
    "\n",
    "    # difference between squared vector and vector itself plus one\n",
    "    vector_squares = input_vector**2 - input_vector + 1"
   ]
  },
  {
   "cell_type": "code",
   "execution_count": 15,
   "metadata": {
    "collapsed": true
   },
   "outputs": [],
   "source": [
    "my_vector =  tf.placeholder('float32', shape=(None,), name=\"VECTOR_1\")\n",
    "my_vector2 = tf.placeholder('float32', shape=(None,))\n",
    "my_transformation = my_vector * my_vector2 / (tf.sin(my_vector) + 1)"
   ]
  },
  {
   "cell_type": "code",
   "execution_count": 16,
   "metadata": {},
   "outputs": [
    {
     "name": "stdout",
     "output_type": "stream",
     "text": [
      "Tensor(\"truediv:0\", shape=(?,), dtype=float32)\n"
     ]
    }
   ],
   "source": [
    "print(my_transformation)"
   ]
  },
  {
   "cell_type": "code",
   "execution_count": 17,
   "metadata": {},
   "outputs": [
    {
     "name": "stdout",
     "output_type": "stream",
     "text": [
      "[ 0.  1.  2.  3.  4.]\n"
     ]
    },
    {
     "data": {
      "text/plain": [
       "array([ 0.        ,  1.62913239,  2.09501147,  2.62899613,  0.        ], dtype=float32)"
      ]
     },
     "execution_count": 17,
     "metadata": {},
     "output_type": "execute_result"
    }
   ],
   "source": [
    "dummy = np.arange(5).astype('float32')\n",
    "print(dummy)\n",
    "my_transformation.eval({my_vector:dummy, my_vector2:dummy[::-1]})"
   ]
  },
  {
   "cell_type": "code",
   "execution_count": 18,
   "metadata": {
    "collapsed": true
   },
   "outputs": [],
   "source": [
    "writer.add_graph(my_transformation.graph)\n",
    "writer.flush()"
   ]
  },
  {
   "cell_type": "markdown",
   "metadata": {},
   "source": [
    "TensorBoard allows writing scalars, images, audio, histogram. You can read more on tensorboard usage [here](https://www.tensorflow.org/get_started/graph_viz)."
   ]
  },
  {
   "cell_type": "markdown",
   "metadata": {},
   "source": [
    "# Summary\n",
    "* Tensorflow is based on computation graphs\n",
    "* The graphs consist of placehlders and transformations"
   ]
  },
  {
   "cell_type": "markdown",
   "metadata": {},
   "source": [
    "# Mean squared error\n",
    "\n",
    "Your assignment is to implement mean squared error in tensorflow."
   ]
  },
  {
   "cell_type": "code",
   "execution_count": 19,
   "metadata": {
    "collapsed": true
   },
   "outputs": [],
   "source": [
    "with tf.name_scope(\"MSE\"):\n",
    "    y_true = tf.placeholder(\"float32\", shape=(None,), name=\"y_true\")\n",
    "    y_predicted = tf.placeholder(\"float32\", shape=(None,), name=\"y_predicted\")\n",
    "    # Your code goes here\n",
    "    # You want to use tf.reduce_mean\n",
    "    # mse = tf.<...>\n",
    "    mse = tf.reduce_mean(tf.pow((y_predicted - y_true), 2))\n",
    "def compute_mse(vector1, vector2):\n",
    "    return mse.eval({y_true: vector1, y_predicted: vector2})"
   ]
  },
  {
   "cell_type": "code",
   "execution_count": 20,
   "metadata": {
    "collapsed": true
   },
   "outputs": [],
   "source": [
    "writer.add_graph(mse.graph)\n",
    "writer.flush()"
   ]
  },
  {
   "cell_type": "markdown",
   "metadata": {},
   "source": [
    "Tests and result submission. Please use the credentials obtained from the Coursera assignment page."
   ]
  },
  {
   "cell_type": "code",
   "execution_count": 24,
   "metadata": {},
   "outputs": [],
   "source": [
    "import submit"
   ]
  },
  {
   "cell_type": "code",
   "execution_count": 25,
   "metadata": {},
   "outputs": [
    {
     "name": "stdout",
     "output_type": "stream",
     "text": [
      "Submitted to Coursera platform. See results on assignment page!\n"
     ]
    }
   ],
   "source": [
    "submit.submit_mse(compute_mse, 'wsdgh@qq.com', 'wSoRuwlltssvtg0c')"
   ]
  },
  {
   "cell_type": "markdown",
   "metadata": {},
   "source": [
    "# Variables\n",
    "\n",
    "The inputs and transformations have no value outside function call. This isn't too comfortable if you want your model to have parameters (e.g. network weights) that are always present, but can change their value over time.\n",
    "\n",
    "Tensorflow solves this with `tf.Variable` objects.\n",
    "* You can assign variable a value at any time in your graph\n",
    "* Unlike placeholders, there's no need to explicitly pass values to variables when `s.run(...)`-ing\n",
    "* You can use variables the same way you use transformations \n",
    " "
   ]
  },
  {
   "cell_type": "code",
   "execution_count": 26,
   "metadata": {
    "collapsed": true
   },
   "outputs": [],
   "source": [
    "# Creating a shared variable\n",
    "shared_vector_1 = tf.Variable(initial_value=np.ones(5),\n",
    "                              name=\"example_variable\")"
   ]
  },
  {
   "cell_type": "code",
   "execution_count": 27,
   "metadata": {},
   "outputs": [
    {
     "name": "stdout",
     "output_type": "stream",
     "text": [
      "Initial value [ 1.  1.  1.  1.  1.]\n"
     ]
    }
   ],
   "source": [
    "# Initialize variable(s) with initial values\n",
    "s.run(tf.global_variables_initializer())\n",
    "\n",
    "# Evaluating shared variable (outside symbolicd graph)\n",
    "print(\"Initial value\", s.run(shared_vector_1))\n",
    "\n",
    "# Within symbolic graph you use them just\n",
    "# as any other inout or transformation, not \"get value\" needed"
   ]
  },
  {
   "cell_type": "code",
   "execution_count": 28,
   "metadata": {},
   "outputs": [
    {
     "name": "stdout",
     "output_type": "stream",
     "text": [
      "New value [ 0.  1.  2.  3.  4.]\n"
     ]
    }
   ],
   "source": [
    "# Setting a new value\n",
    "s.run(shared_vector_1.assign(np.arange(5)))\n",
    "\n",
    "# Getting that new value\n",
    "print(\"New value\", s.run(shared_vector_1))"
   ]
  },
  {
   "cell_type": "markdown",
   "metadata": {},
   "source": [
    "# tf.gradients - why graphs matter\n",
    "* Tensorflow can compute derivatives and gradients automatically using the computation graph\n",
    "* True to its name it can manage matrix derivatives\n",
    "* Gradients are computed as a product of elementary derivatives via the chain rule:\n",
    "\n",
    "$$ {\\partial f(g(x)) \\over \\partial x} = {\\partial f(g(x)) \\over \\partial g(x)}\\cdot {\\partial g(x) \\over \\partial x} $$\n",
    "\n",
    "It can get you the derivative of any graph as long as it knows how to differentiate elementary operations"
   ]
  },
  {
   "cell_type": "code",
   "execution_count": 29,
   "metadata": {
    "collapsed": true
   },
   "outputs": [],
   "source": [
    "my_scalar = tf.placeholder('float32')\n",
    "\n",
    "scalar_squared = my_scalar**2\n",
    "\n",
    "# A derivative of scalar_squared by my_scalar\n",
    "derivative = tf.gradients(scalar_squared, [my_scalar, ])"
   ]
  },
  {
   "cell_type": "code",
   "execution_count": 30,
   "metadata": {},
   "outputs": [
    {
     "data": {
      "text/plain": [
       "[<tf.Tensor 'gradients/pow_1_grad/Reshape:0' shape=<unknown> dtype=float32>]"
      ]
     },
     "execution_count": 30,
     "metadata": {},
     "output_type": "execute_result"
    }
   ],
   "source": [
    "derivative"
   ]
  },
  {
   "cell_type": "code",
   "execution_count": 32,
   "metadata": {},
   "outputs": [
    {
     "data": {
      "image/png": "[encoded data removed]",
      "text/plain": [
       "<matplotlib.figure.Figure at 0x17a02895dd8>"
      ]
     },
     "metadata": {},
     "output_type": "display_data"
    }
   ],
   "source": [
    "import matplotlib.pyplot as plt\n",
    "%matplotlib inline\n",
    "\n",
    "x = np.linspace(-3, 3)\n",
    "x_squared, x_squared_der = s.run([scalar_squared, derivative[0]],\n",
    "                                 {my_scalar:x})\n",
    "\n",
    "plt.plot(x, x_squared,label=\"$x^2$\")\n",
    "plt.plot(x, x_squared_der, label=r\"$\\frac{dx^2}{dx}$\")\n",
    "plt.legend();"
   ]
  },
  {
   "cell_type": "markdown",
   "metadata": {},
   "source": [
    "# Why that rocks"
   ]
  },
  {
   "cell_type": "code",
   "execution_count": 33,
   "metadata": {
    "collapsed": true
   },
   "outputs": [],
   "source": [
    "my_vector = tf.placeholder('float32', [None])\n",
    "# Compute the gradient of the next weird function over my_scalar and my_vector\n",
    "# Warning! Trying to understand the meaning of that function may result in permanent brain damage\n",
    "weird_psychotic_function = tf.reduce_mean(\n",
    "    (my_vector+my_scalar)**(1+tf.nn.moments(my_vector,[0])[1]) + \n",
    "    1./ tf.atan(my_scalar))/(my_scalar**2 + 1) + 0.01*tf.sin(\n",
    "    2*my_scalar**1.5)*(tf.reduce_sum(my_vector)* my_scalar**2\n",
    "                      )*tf.exp((my_scalar-4)**2)/(\n",
    "    1+tf.exp((my_scalar-4)**2))*(1.-(tf.exp(-(my_scalar-4)**2)\n",
    "                                    )/(1+tf.exp(-(my_scalar-4)**2)))**2\n",
    "\n",
    "der_by_scalar = tf.gradients(weird_psychotic_function, my_scalar)\n",
    "der_by_vector = tf.gradients(weird_psychotic_function, my_vector)"
   ]
  },
  {
   "cell_type": "code",
   "execution_count": 34,
   "metadata": {},
   "outputs": [
    {
     "data": {
      "image/png": "[encoded data removed]",
      "text/plain": [
       "<matplotlib.figure.Figure at 0x17a050f11d0>"
      ]
     },
     "metadata": {},
     "output_type": "display_data"
    }
   ],
   "source": [
    "# Plotting the derivative\n",
    "scalar_space = np.linspace(1, 7, 100)\n",
    "\n",
    "y = [s.run(weird_psychotic_function, {my_scalar:x, my_vector:[1, 2, 3]})\n",
    "     for x in scalar_space]\n",
    "\n",
    "plt.plot(scalar_space, y, label='function')\n",
    "\n",
    "y_der_by_scalar = [s.run(der_by_scalar,\n",
    "                         {my_scalar:x, my_vector:[1, 2, 3]})\n",
    "                   for x in scalar_space]\n",
    "\n",
    "plt.plot(scalar_space, y_der_by_scalar, label='derivative')\n",
    "plt.grid()\n",
    "plt.legend();"
   ]
  },
  {
   "cell_type": "markdown",
   "metadata": {},
   "source": [
    "# Almost done - optimizers\n",
    "\n",
    "While you can perform gradient descent by hand with automatic grads from above, tensorflow also has some optimization methods implemented for you. Recall momentum & rmsprop?"
   ]
  },
  {
   "cell_type": "code",
   "execution_count": 35,
   "metadata": {
    "collapsed": true
   },
   "outputs": [],
   "source": [
    "y_guess = tf.Variable(np.zeros(2, dtype='float32'))\n",
    "y_true = tf.range(1, 3, dtype='float32')\n",
    "loss = tf.reduce_mean((y_guess - y_true + tf.random_normal([2]))**2) \n",
    "#loss = tf.reduce_mean((y_guess - y_true)**2) \n",
    "optimizer = tf.train.MomentumOptimizer(0.01, 0.5).minimize(\n",
    "    loss, var_list=y_guess)"
   ]
  },
  {
   "cell_type": "code",
   "execution_count": 36,
   "metadata": {},
   "outputs": [
    {
     "data": {
      "image/png": "[encoded data removed]",
      "text/plain": [
       "<matplotlib.figure.Figure at 0x17a04977e80>"
      ]
     },
     "metadata": {},
     "output_type": "display_data"
    }
   ],
   "source": [
    "from matplotlib import animation, rc\n",
    "from IPython.display import HTML\n",
    "\n",
    "fig, ax = plt.subplots()\n",
    "y_true_value = s.run(y_true)\n",
    "level_x = np.arange(0, 2, 0.02)\n",
    "level_y = np.arange(0, 3, 0.02)\n",
    "X, Y = np.meshgrid(level_x, level_y)\n",
    "Z = (X - y_true_value[0])**2 + (Y - y_true_value[1])**2\n",
    "ax.set_xlim(-0.02, 2)\n",
    "ax.set_ylim(-0.02, 3)\n",
    "s.run(tf.global_variables_initializer())\n",
    "ax.scatter(*s.run(y_true), c='red')\n",
    "contour = ax.contour(X, Y, Z, 10)\n",
    "ax.clabel(contour, inline=1, fontsize=10)\n",
    "line, = ax.plot([], [], lw=2)\n",
    "\n",
    "def init():\n",
    "    line.set_data([], [])\n",
    "    return (line,)\n",
    "\n",
    "guesses = [s.run(y_guess)]\n",
    "\n",
    "def animate(i):\n",
    "    s.run(optimizer)\n",
    "    guesses.append(s.run(y_guess))\n",
    "    line.set_data(*zip(*guesses))\n",
    "    return (line,)\n",
    "\n",
    "anim = animation.FuncAnimation(fig, animate, init_func=init,\n",
    "                               frames=400, interval=20, blit=True)"
   ]
  },
  {
   "cell_type": "code",
   "execution_count": 37,
   "metadata": {},
   "outputs": [
    {
     "data": {
      "text/html": [
       "<video width=\"432\" height=\"288\" controls autoplay loop>\n",
       "  <source type=\"video/mp4\" src=\"data:video/mp4;base64,AAAAHGZ0eXBNNFYgAAACAGlzb21pc28yYXZjMQAAAAhmcmVlAAC4tW1kYXQAAAKuBgX//6rcRem9\n",
       "5tlIt5Ys2CDZI+7veDI2NCAtIGNvcmUgMTUyIHIyODUxIGJhMjQ4OTkgLSBILjI2NC9NUEVHLTQg\n",
       "QVZDIGNvZGVjIC0gQ29weWxlZnQgMjAwMy0yMDE3IC0gaHR0cDovL3d3dy52aWRlb2xhbi5vcmcv\n",
       "eDI2NC5odG1sIC0gb3B0aW9uczogY2FiYWM9MSByZWY9MyBkZWJsb2NrPTE6MDowIGFuYWx5c2U9\n",
       "MHgzOjB4MTEzIG1lPWhleCBzdWJtZT03IHBzeT0xIHBzeV9yZD0xLjAwOjAuMDAgbWl4ZWRfcmVm\n",
       "PTEgbWVfcmFuZ2U9MTYgY2hyb21hX21lPTEgdHJlbGxpcz0xIDh4OGRjdD0xIGNxbT0wIGRlYWR6\n",
       "b25lPTIxLDExIGZhc3RfcHNraXA9MSBjaHJvbWFfcXBfb2Zmc2V0PS0yIHRocmVhZHM9NiBsb29r\n",
       "YWhlYWRfdGhyZWFkcz0xIHNsaWNlZF90aHJlYWRzPTAgbnI9MCBkZWNpbWF0ZT0xIGludGVybGFj\n",
       "ZWQ9MCBibHVyYXlfY29tcGF0PTAgY29uc3RyYWluZWRfaW50cmE9MCBiZnJhbWVzPTMgYl9weXJh\n",
       "bWlkPTIgYl9hZGFwdD0xIGJfYmlhcz0wIGRpcmVjdD0xIHdlaWdodGI9MSBvcGVuX2dvcD0wIHdl\n",
       "aWdodHA9MiBrZXlpbnQ9MjUwIGtleWludF9taW49MjUgc2NlbmVjdXQ9NDAgaW50cmFfcmVmcmVz\n",
       "aD0wIHJjX2xvb2thaGVhZD00MCByYz1jcmYgbWJ0cmVlPTEgY3JmPTIzLjAgcWNvbXA9MC42MCBx\n",
       "cG1pbj0wIHFwbWF4PTY5IHFwc3RlcD00IGlwX3JhdGlvPTEuNDAgYXE9MToxLjAwAIAAADJYZYiE\n",
       "AC///vau/MsrRwuVLh1Ze7NR8uhJcv2IMH1oAAADAADVayF8oYJVUBjg5Cl8UC950wnQObmxLpMS\n",
       "eTd2J+g7snoztQcyhALtINw5UaNMi3KGnXwVwAAVjA9rs+2mg979mn6JP5KOmfCCksxkEWnBqVix\n",
       "SlaszLtiEXeKS/pJKygZa6sQukZ40sJfm5WkC31b/ItGIrTq+odnPBDUTzbL2udk28DI16TgunDO\n",
       "vy53mTqEw1v/NjKeT1gqmF9Ay0jF7EHSC6M1jqJhaGA+2I7siU3tbhzm++kkDMGxQaBznZv+UkH/\n",
       "ME9JFDXWal1pE5md32s8XeFhyNhDYSs2HwYiY2CzfhagmUl6KHrxJ1nMSLtqJutWySarElDFX30j\n",
       "l+uOsFjdfC61UiKrzS+VSAn7xsOlaOTAz9O6v1QsS9kZqOqY0d+gs7d71p12gVr4xK6DAgoNY4ez\n",
       "Pxu2hUv9WF7LkXUrN/TNtqV6WmOSkzexdOBpi2aDtSP8Se060PRzDYxbGiKN+MPx9TprE/FZdz5z\n",
       "nzp6kVM9Efe7POZkMjVaTxLjmpsJLjDTVF0/y6nc8lqVdYRzwjHy0kwkfYPrCN5jOwOUUETl9EOt\n",
       "OuidGBbZ+wqZmuzTUGj3NcZdr/GnOvdJZfj5g3yVQWpKH8HOhXKtB7D0G9FcxuO/0Ndegu3i14QT\n",
       "Za3yxJSb2YLA0eHoruD2JB5Im6k5vNv3THIZpg0mzK/PXuf0N5tIrBcmSrc5Zc+l+FPzycjX2zSt\n",
       "hdoC2/Pmq4wHBh/8/znYpI0JDwcnx60pDx9umegdvNKApEry/yuKjT8bI1m0q2ikGwWOQ6pYmIfy\n",
       "BTO55FmSJXDH7zoCnYBgCJDkSwvxUAh0w/oglyeHvyfGBg25zOOYqa9OdCNQPJO3VQJIBLJSKqMC\n",
       "jlBZcSMvJeTGxgH5LV05vntoq3Aj6OQXuMmZeTx9l6H/t6gQUyQMGNtKpvSib3vTNRByp9Ia91ps\n",
       "qiCZxrEGdQBYwYhCxJfZPThg86yIer5oH17j8A0j1luvkaod1gajmmh0E3jpqqoBtsE91c0pLLxr\n",
       "s3O1f+fLolEv2LwjNr/l4tCZ6/QRo9AP84MRGo6rKJ/xess4PxNR4Yy6mkGX1raGrHqEvzLyZUkg\n",
       "orEf/fpv9+IhKhllMZHibXNsscwDYAs+v25xSvSNXqbzrSIQIjh/CAyY5DG2aNAFWxP+BJP5z54q\n",
       "dRTzbAcQFMszupgagghiDS0jUpSS07/E+n/HGYZ+bxO9EOCouwX76Ii8fEedYZVBGyb5pGhFQfTb\n",
       "PSVcuJUyggjRRZ1UPQnK2MjlAsrb9ctm0u/RxDeH1N6TQuH2XOaaiXtEwfZYSw5ou26aTHqcGeKw\n",
       "n0/afHXuL90UBLCoLqTieJLYLUedvR/UoigJcZyyPAeW34NOxJ4HDGQUfIcNHPhit37Tu2JXTP2G\n",
       "h1VbP2N4opYxJqgHRPx0Zbo+DA6tGCvSSzNjH+HATgL0CxuIuYMX6v9am/xJAfmQzVGu/r1k1lWN\n",
       "mlfVlotUr8zSR24SyYdAltAvTq580fzA7z7wi9BPezI/KFMUbmAcOl2NUarAKptpgM263rvVsTmY\n",
       "MgjNrhVI+4mpx6D3fqCTGXPV2uEwEx54X0Xum4JutofatZfjjepQ7L/26TnWf2Fxv8sQMu0hr4xX\n",
       "j5IKL/wItFojdOb/P7TklXQG/G7AuTX4vZNEixjVt33Fj+IG1YJSntjLCARlYTqQNcWPtrGjtpRJ\n",
       "Xd9DZqzT97U3MBEYKD/DIcMWKJdr1hGICr8VMjSbQWL7Ah5NjHGbnca8PUXnJlsaWz7yEBHyL7ZQ\n",
       "P+btdWGdXhWgz5on2iiBa0gF/5KOKf+Pifh2ohiAaV/WDau42OdPYN08FwPvBdvH8P1sRyIBcw+I\n",
       "oWDbv6LLFXtLUSyGBdn+i/81u/JXacNnTm/SxIRtemTwWpCmiq6hFBsCoF3tV9OyCfcWGmTe1cso\n",
       "jRSe7jDMk/Abuw4fzWOs6vy4d8AtWsLRj5oqsvrtauDYPrFOGaC4/wQmssLDpfv0F1kubM1okh/Z\n",
       "EE9TUunscrR8ZB25cxvJY1m3FyYchQbKYrG1BwFgKUEfjiSlGr3OS4BxYnXtys37PD+8GpkK5E45\n",
       "+3hHGveZijzYFEwljmGQP31q2IZQedGZEsKDESiTfsIXHtj9mdMjKnRn6djbyhAVdxZZUvJMeRS7\n",
       "ScG94yMD9VJoIriX+UXwWf60faIZFeKswzXpVBYHesS1rgkff6bLZZWf2vWfXIZdGozoxNzP4EZ1\n",
       "bmBcHrfyWVchX0cJh6Dwtwf/9+AsteyvYv4kgVbovFyv3eml3xow4Dl4wND7dUtsrBNCRi2vjuI7\n",
       "avQzm1NQoigXHexrDXeE8gmKK+HvtDgOIdWx4HsK0TghDna12XPbyUH3dfCZn/hssMCjT1MKmJm+\n",
       "JSMnppawiH+BLUFOXkQGbuR3vcgAm4dfcZDMW0NmRoR7+A9sIV8TiAJL4V8jNo4aaUCQ5fWIh0Io\n",
       "JN8Ee2pJ1XmGSMfY4PPyUoBO4qHDKjXI6opd7xrWMe+BVXwsrNXHIC/j6kx4dYsCuVFphciI0cFb\n",
       "mDY9fnEIQGho3IrPJDSwwdB0Y3rQxBgJq1MW4KNh3okLFFjUoBLTU4ZlB7amVvVU+nTvSauqLfI/\n",
       "eWfLnODXiaZM7ve5ct6bpU3I6pDH2Liipvmm6CJ36P4LeZ3x75N48RZoprZKtw9Y5teX/nkzV7ku\n",
       "Rth5vsf4Fpmp4Mo8lZMdGb8uZmp6GHkNuxg+G+XMCPld1a9cFOKfh/dyEeSfcFeBM2eEU91wBZnS\n",
       "jM8uhw7817fWurCozHoHbypeKKUEMPS07OZ2Mtxv+/LcFaKDA5RPr04+jSUicbzfKdkQY228GyGB\n",
       "1qaYLj7zKe1+TJq6wzb6RvwH+22X0fyaNcKrOalmIBXr1h3g0YrqTp/dP/OlkBTrlXDZe+N1WDD/\n",
       "ePIQ5lLMqL4P1dnHgbROaDrJi8NaHulWEHB/lRCT34LZ5MtQdNnqypPgxABmSZR1OU9dzxCWssWX\n",
       "8/Ka9Lj7PIedxmLG9pbS89WDCfp7hHh9bl19t90KqWeGzbneQQXSytKU7CKECavAnFpUIehXh9mB\n",
       "0R+6kAZhfrZbpsBzQ2wUDpO/p/2edl8NyXlQXLsL70R+j22X0EwG1twHn4Nzr6etPFL2Ql2sCg5s\n",
       "wOxyLwJXujrZr6XnEyHAYc2/IfnbchPx3Cek3c4/tRT+mr50gOWpm3KceDGRuOAHKDzjrv8kxUyG\n",
       "ozJEOvBfcgo8AALZOROagG5MadDKK2yT2iublQ+jiFDK6dNqQnwLFf/0I6GpVdXnsfvZ2RMKn4oE\n",
       "uq0tWhU9gXGroV2zIGcf85zPoYZQwncJ9958rKcWSx/3733YZpbnaz026LKd3aYLKX6Vm9pSb79X\n",
       "/SRrJGjlFamXRDXCRd7EZpoFDW5aP18zkXBlA2iHEA7hjo3co1glIICekZiKaVPrIkIjD5extEQT\n",
       "TU1HV1W5BiuduEzaqc5fKG41IxR/zPRaiKwpZ/4i8V5cLhLIrbkZmYua07V2WVUfXm8R3t3O66zh\n",
       "OZqnoQhZT0cIav4c/YqrYbdak/fJ0Wb8el0bDQPYJr8Y3AJDuTqm2o7r369jbC1KErYTj3gSshXK\n",
       "THowlDka4jy0Iwe8mCXfsa05mlwkSAAA2vlthNTmDqjm8O9cTedUYio0vV1WGz8glT1Jg9qsU3aL\n",
       "WMNaVdvxoaSe/R3WPI5W7ZaON/RLj2DCXrkqjhg8yFzske/SprK7dEgB4nOrRuX4usCInz73Fvht\n",
       "45aTGaT6JtcuHxXAsqGKb0AQetxa4uLVvcNMTobNfNHVwR9eskOo6gCEu77Hei0yrJ/+U0FQTPQG\n",
       "GFxRCDRXMPS9ZCSgE0QjLxTpr4krObbgz+ZFJsJX59y8vOkK2eznsCPMN/zAfyzIGh3pQSPqK15W\n",
       "EO0YwZVQ9wZdbbampsXPFvxcJxQ/6rOvMZw77TmrQdYN6/LrL0+hSSsbs0a7Pz3hKng61Qzb+rn2\n",
       "bFgn3BjQwKvlALzBgsy3p3Wejgds8ha+r5TZ/YKKYDOA4kzzTnNKB2yKTfIvH5Uf8EXM5mEVl6/G\n",
       "J74vpKE1bfLNuFHyMqHBZMPvxcMKfbvpmmSiy/GHoVtrCWEVPevOfWQ5WNsUs3QG1aLvUpWZ+FAU\n",
       "1NTt74FngqY5MeXMiash4Lz0stFIhphUsG+bM8bGzcLqXoXaFDFukN76gVqRMyx01dWBC8Bfpm4N\n",
       "yf2P4KKJHyHGO8BM8C0cQfyarwiAs5XaOkCAXYhpisKMou1dmDg58HF6DFzd97317/LN+Ub7wBCa\n",
       "munfV4GGZgYpfVSxbHFvn0Zq3KTo13JQMyqUM3AQfj0hQUtGux9n96+rQ+QBYgjkMyRlE8goCdfq\n",
       "wg+nSfOr+smHdxn3yVIpmGIKUwNs1CBjxqXYDhgoQzphWJm6XwZQ8KmHtD2ITJUIihI6bhpdQFGs\n",
       "no4/9Wvha2Av9ofcfTAMl3NUuHk1sgrG5GdQgv2vMjRpJ1R7ktQ/ZLnYg2BlSBy8a2BaMpHTdShV\n",
       "Kx3MPcLjRvaCV70NtoQrYxelBZv899FIRB8trNCxF4dtMS9oz/tTnGSo8hrTje6pVQISBOyUourD\n",
       "QclDt8frkI4CKz0HLI0CgTG3k2S0ZQ2mVxp8v7ouJzKObxhtcTdOf9R/FmYLBsq0ZS6Xjo/SfEGx\n",
       "RtlhBsTheQnGpSb/nnqYGjCcBQ0cw72fK7gXTkGoLVtbTq6kCDRpSvXnQx2/9oaQvo1VSJr4Qggv\n",
       "BXEyNbmXXY+6gS0gu+mwzfb1bmIpDX1hcdr+cCMwrj0exuqWT5vuabgVJ3tWZywQx9s1CEt/RiPQ\n",
       "fN3HtpfbMSv0hCXl6wQHEQ+K8OqjMvvbsJt8LvnLKG2y6pz/+TUYBlRfsaB2aa4rD4fZlrEXD/ub\n",
       "42GNFqxN//vAuM9BBvDNswWdLMnmQ2+RkcjGp18wP2ZmY8ybbrXxazA6Ia730mgdFTZTXfkI5PCY\n",
       "j5JYgNxvS4rkoAzQNifQ5eGWooPOht2zPgadvj9H8OaBojyA7rEYHt/49H3gKBHn2n+1eo91rH6F\n",
       "3BVsymPUw6doImyKdi0MaI8fpKJcCIPFG2VHQF+BniG1BvsaU0nuQwSKe/MsyrYoq8Br4pYj0P/4\n",
       "IF+BJlRJ9h3LtdiE7kPrzfgF7kSOPm96S4uXEdmlKsRWOoNwrYx9n0woQDQojBqj1rVUq94YAtZL\n",
       "iWt480uTkvXrGBpIajUx/3YmnD4ASw/BDP4aWES0G1c8uPSgNMr6xG6irf9mClS6e14BlE+hBY65\n",
       "WfIAdY8j6h++n6pjrJngncItHJV7ZCV8EnJGv2om8XqWyrS3bL8Y63HD/xxu02CC0WuDXiU/c7Zk\n",
       "RzHBjGUaeLS7IldeG/5ftqk4DgTEypehWbGWszY1EJ9ZeIFBRP3jEtCnykBkB7qCMj+J33Zka3Dw\n",
       "ya0aTgYKDcL4AhiivVgZY3H9NtgXZQVwiO+iXDCvA6wFEsYmVwTYqI4jXW8j9DE52R/L2Gw6iQxT\n",
       "7DzcIA7h00auXkf6QuwdLKQUfJf0ZLswdJm+r3AtK8mN7VZUXgimHQ3QExqCupCy5cfZoSb/WKEa\n",
       "NOcza4XvWgTfyAmRvmfiAarl5gaGNn793HWfTa6+StkrnTfTQCvc5lPMWM4ldODhsuzIhvlry7Na\n",
       "GzIar7orpesnatnC4KWz7EXwiFU7/LJlA+Z1+zT44LWLSByrGj2obEZsdb3dmjtKEGm11xEJPJeB\n",
       "ITKycyWwAuwUddZM4GsCDTb9bNu4u8aEurkvM42bP5JrlKIHtg3syXYUF0dQ2gFQdI0BEb/xbzTK\n",
       "dhus2DHFJokUx/BusZR7qjCiuwUok0ig5bpOCP5Ch7t9V+QfS8of2wnS39xV/0S9ocUwOtvMfbtz\n",
       "AZONKR3B7yawXEG8NTCU3jXj9jVbjA62hUz0L8JgK3bp29iWrB5GmRz3GPSm7s4/fuxiX1woT3w/\n",
       "bgIsz8aao4/pL+J8hN/OSxcqxa5hc2Bcgk47ddyMp325e6pc6dzEXUuv0RpGTho8yVtV+AWM/Du4\n",
       "TI/YIp2fMER7Rd4/kBpmEg2N2wOCfSvx3Sfu5Ibxgi6xHdK9JlseXRhU9kR8gsaEI994oSxJZff/\n",
       "sy+BOqnk/8xGlmWEKDu0zoq4BZeSqUHMScuLX3y8xOV2b6yVqvpK2c1YlgfYO3FAIg8lYQv5tkrX\n",
       "QK+h/GaZmnO8xJ/UoNzRXKUIcwAX4fHcAXY06VJx4eCwJuK3MNKHyltvzPczSaKuogCC8q+pJWXI\n",
       "Z7FELYJkRmThwQtUC4CyLjfDYQlXIh00t/DV/nxGpmFMV0kyXHBYMH244yYt5vUBR5Qfzj84Uy6U\n",
       "rsRjE3K6Ef0xwH4cXy7Cna4ZyRUcdEyDIRqvtdqBg8jau5Om896Q8iDPozSjY1YbZj9ZhoUY1IiK\n",
       "e0w7AKB5l6pHvVV+P9SIP04UXYXzEw+6PhuyT19LttJ2ZQ/sLgTYX4TdRK5pqIc3XugsQx+hnOEV\n",
       "zqdu8hat31ssqN1RMJMPekZwBelfNtKJdsuSZ7tGBa5D5ffqLlZmfamD523tM6f8jQEE7xSCHM1B\n",
       "kEX5+fZ7RlWwGyBzMiBA7uLrkaet5Wut3vcZ86pwV6mIrxcs9fllR/jtT0WtA7gTJOWxZrVkCwQX\n",
       "fa2NZLuKjSEZBeP75ouvLmGqs/4669XEmQyTufwL/lcMNhIN/XWCwd4Cy/EopVrL+My0pFzM4abW\n",
       "1q4wShbZrGWYr+km+i1gjRbpe/c331wDrY2mujPIE/vX+uf+5BsyROvXUqp8RwlBCxbokCYU6wHb\n",
       "Lcu/fTUlrXwDs5efML4rbjfIbZUxExNyJYGKZpGBqd8fjqSEmwoRIdh40/2lgAbDOoIPQcATRkyx\n",
       "neDkak1Ey8vLWepO2+FzbTlno8txKpzqKHPZs3TXRY/nOwLZWeYXiUUOmW3IJRN1ldPGXOyhvGFD\n",
       "p/9L9Ot2h5T+dw6RqeF+5A3vPRritpcdRYB63MY6kf5nLSpiXCEeuHrqdlKYfcyXTJGD+HNELlIb\n",
       "v0tZ4O/Q/XOqXqOnqy9CS+3c+NidAqKPwOlPnrrAb4Ce/5m8eRXMOQ3eFfaJq6MJ+9tpeltRHhlv\n",
       "n4qSxzD9s0hPMHuRP09tx/EycEvlQeoQudcLnavFERsBNGV+7Nsl1Ez6+15YwP37Ts0HLavoDd6w\n",
       "WOWMi/QZBNTErs7ERKfZoDqwLcJYRKcSlyJb02MOc0/b3k/Dxmq5vJEsisMPZzyEAO8bxQOEo8vN\n",
       "8knymkiGhF210iC++qN/OIiDxjqKC9C2fA6G0Z6G8bbeXv+JyqbKNeHlxwIfPyWkdhbar81PjiVm\n",
       "Z7iUJ239f3iyZiYNWGtkbqLtGopqG71zG0Vck+nf1FcA2AlZEkXhJ2eHvU8mwXCTAkpdOjnPfoaa\n",
       "pmTOISe01V+V1xl89iJYBDMl+DTIZcx2PxHBdQ8YodfUIEYrBBRZ6xjWBrItSaTL1LPa4XRcUhgZ\n",
       "uIf6b00x7o3HHikCAgYRpQ8LTs4xjQSOsBSZhgtry+TNy7lLwaD2jIl/HVlxMgI2UlhjEYW5U2Cr\n",
       "3Dbzc01VjEq7HH/5Df93nzdSiOfVONgjh7WtunZ8GE7fhGGG0wW054ccr9tsfjyOem9yHT/B9DRy\n",
       "NbIQ0l/qg++0kOJ9oAE9sHNwX232b4Quh2IcWbc5GYTGKBeRVW7y0U9PhmiBTe26B/MBmq2A544l\n",
       "YNX7jljYILZXH3e9WWtYcsAALrT1AYm5QIwSl2LaWTHpOTDsc28caF1sFBm7Q5H/iwyOhWIgJ6S7\n",
       "zxsuI5/xCBwzo4HUOFeY7pb+/EmdgUBP1/A+Nmp26ZrYN3DDncwCj63cUcaR2+Y39TNgdQgyzXJz\n",
       "hnmBeLTvNdAgdQx+Qul9hBkVl8+GTATTiu+QXmzrmQo/VHq3EpzloffxCAbI0HYIz5m+u/mSh+SN\n",
       "euMS0ZXgK/Rz2cR6JSu8SwcKbAlKA5v8u3UjmKG9I0vOHtXj8AkY/aTBqv97bjdM+1ODaHQmDN06\n",
       "4w/KLe9YeNney2+IcuhH+ew3GwqjKBDccNrBmgXaCs3mCcgJR70HP4NXRqfULHDqfxCMPtiDWoEf\n",
       "G4II37P1wuMQ2KTJ+Rseg9ndI34Ypep4o1XcGefYK94t8QzjRpJzZMDXYkSUyANzmzhYzH/qDbvZ\n",
       "xcbYBgWysqIFiMDNZZRZsROiFOjFKI6WNQjNPW43+P79EGdmSsdHmc4+Dp2Fjf0+pfXpLYZivGY+\n",
       "0sd1FEudBCbHCUYOiIy7HZqRsPwZCzNHr9PBiiIMCtLJiEx8WNOFn+/ZP7+N1dMnoqyaJTQ9dqDI\n",
       "gt8UyQvx0nG9gWNGLlBNvV+UnzgX6OlLG6A/vdKLvFs4WJlbxvbd1x2GxodhGqIGCRbgaUiNyIQh\n",
       "K3Wk90JDCnXnjeaHmZeKAmd7PUF4XJRZHk1HuDa45wFrJbhYszEPHdt8AJNWEvbtybpHWNxfvbti\n",
       "7Q9pac68IQJ6TjryQwdmcpKKKe7ZsL2kAcA6zZW0gbjvpoXudA2UVCjuMf4vCTk0g+vfXuoZWmCG\n",
       "UjsSBNJ+W/ohr/2ok9RfWa3AvqTuYlpgfnWAE7Fb1d0zzojRf250qbCZydPRRlQRCJMsu/ysuoSX\n",
       "atNyz0BsEvqkCXcW9iQ1wXOENlebmWVA5URH+iwtAbzMrXupeVxywWhlrzahtEKr//NTke53tQ/x\n",
       "pjnlan5Z9rvReUUK5dwLtHWSheC0LAM5pyhxQwd2dhIR8E8o0DxZmXmdHfGrS7NfUJr2J25ZYucu\n",
       "3emnByAvHNdgnxAMNgYh5BnxV4ikWij4Yw3ytTZv+wPjQjc+NbPtI5DUM1WHH2iDZokVyVrBvDuM\n",
       "4Hrq/4JO+JF/PuCis8gp+AoQ6OL1fmCIvTYZhuf7SukhZoq9sq8z+C1rtup7rmVC0QCTM03Ydnvx\n",
       "vMs0Lr9guKBMbxIlbLebn/WpMnoPd3uhZdCIvElJNetHa2rU1Fi7dUu3Ssqf4Am75mI0O4e/b+LZ\n",
       "X7eGnCItmC85nupI0nmByHRGBnkv+5PnV9/uoD8XdRqoX5EKpuGoBD/yk5faGzgVueUqp1eCWPVG\n",
       "8jSW06yNy+pXQ6wyMlAMRyYUKFky8gRfvuPTM9Ti92MZUCw+0PMYb7aQvPDv2T5eNEw6RWms/KhA\n",
       "srJaf3rRZRXFlPdvXvBun0EmabTvGcxBG3JrPwMHJa6tWyYYk7toYfsLMglXrueGy2A+ogjeRlud\n",
       "R990Htf/agDJATxQi27qKGzZVB15Cj9hAPoL5Ca4qFp1s9gbGtsn8pu6IutUOd7uhHYULAOip2Zb\n",
       "OUR42YFloRYnsXHbwDOO46N0SV3MmrNcc6adZJsQE67mS348w1UTWocn6/+TRe4iPDahYIEdjEB9\n",
       "cbZwaGQYKsntwcWirCi53u7ES1rVlko0UM+K9jfpwVF5sb1boIMjb/eIGq0m/TgTxszePSNdjDKL\n",
       "IKU/qirTdWzSw0tx3uFO+3eB/JfxoHu6SddB1Mzev6XFD6fFLF0nNE+Dwx0PyV9p7u4g6f02PdLW\n",
       "sSyuK13BrbHMakJ7rApI4b+ynnu9dMafbcp+UcUnF0vaci4QVfH57GPiWgcuyS0N7CwvFwxx1Bap\n",
       "1TLsophVsGH+6+mON3zLCnybNUzkzmoWnZFZUNXEhglTRer0YcN29YWdb/f5uP4pzydYbKP1mTKc\n",
       "sDcqnhztbwlLaPHBLfRfPvH6XtJF2UMiQIClFb1yYeYu5G5s0qjEnWfRt7r18F/hHy18+ZIz+AGV\n",
       "bNDwlR+jZ1DRK9slSogK0qbqM6NzNCZ2eMs1MwaTR+6EH+ah4lplTLcpe+E1XJoAaobjLhH0fNXK\n",
       "GSQhoWA/IjF9unoCMfMInnCbJqjkQRmlUhkCw1CAjKeL2BmyToOr0ngQcnPjpV9HaU75YMxsM+Nq\n",
       "2Xy564D9BbTzHkzDYpTugpStGmbodhIgbu2JljvCwCH8Ozd+PHqj/zhGLKmVMKokb/tKI4yPhDQt\n",
       "IOIeFCxSdnyoV9AwVLHGizvm1lYaUnDOtCsklbxhYFKMTAGXvfjSAPLiXoeUCLIWhj42OaRJ2sjL\n",
       "JCTlHnj+S5VQGwgD5ywN9VpSqkHGeHzg0glAACtJX/wuHwZKTiW8W3IS9zqwjFUK53B/sfI1NQrT\n",
       "JB3YGwrxVxGl+Mq8nrDbydztSpDYCFr5dnARkx7elbSqsuVbt65kPKxoOYnp161gvHd1EUIMVyuI\n",
       "bhjGE+ewHGZmiGQU7qlhs1W9kl1tII0nKRMY/HMZNKMWyvkWYGHPjL8rtOJWv10RD/y/ckxi/UVn\n",
       "qkrcyFhwKs6DfXdu+Xmkv8YmISwyXiJAdrUbNpWe+56lgzT+bg/5/K5xi07+ceQ1kzN1jufZ3bIo\n",
       "iA6EDHtts5EHuJqvCZuU9R4dd+jey8mCiCAanTmmkZkJT0oJ5EjrKZ6hN+B6IFSdFcyRvIPsBEkq\n",
       "5aNUG26tKI24KC6RYNx1/vAZdaujT1CXOAE34lzDWjFVJMT8isuelUn4rk8RAzzz0WrsFdW15jdD\n",
       "0mLEsOoZBLVm0rtYgjcZVkrelxSecqnMN3gpsrS/Q+qbPwz8awFs/Fy0s8V3l+GFl8yeW4FHDU48\n",
       "iP3+Ab/5fdv9oJaVD/xNMJicrjLCw2/4cnupPo6664lAzLlRlhKj9iHy0uCZdpCt13X4sowJQW8H\n",
       "Dt0q5GQSvwCp6zfGHj7Wkziov0mKnoER9O+PGvWXPJMtys83u0GX6b3kil+l5aFGAz6lzv9jTTnM\n",
       "WKrzAT8oTCjSs9TDqXemSA/ZS8luSabeXnSuGzt34LL6QL2O0VGgVUh8baTLkJz7w5HR/2/wTkJe\n",
       "AhpvXeJMO72mXj/6vOtigaGAkuFMNv6BnPsrrG6nx0tVm5IkcUjRX+9JGIek3Xm6k8GC4JQ4WDiR\n",
       "K6moY+YBb27lBN1Qoowx4kKeE0l94/u8aomJRLPSw3y26FfnFpbCBckCslpFzSu/tvHodz3YZ7HU\n",
       "84SJT3POr3MpVcb3/wik6vI0MOm+QWXoZ6vmWIyi3WaWeHK21khUIyhaZP/317LYyddHucFYiO+w\n",
       "xqWl99tGNsD4SLpXtvcLidhsLL2kNYAIotDhku6VCsUBjyypPsOlTlsrPLgIeQou2v1uVSw8smEV\n",
       "yG+hXaguvm1UmE7EDasZ+ESAs4oIQXdzQTiI2GObciVgcLLYvD8jBGDGXk5ZTyK700zEwzlMafhF\n",
       "Hh9TOBUQDmAx6/eI/afqyLlaxo9UDwBgLZCUB6TGqlTJRnjvjX1qqFeih5cGG4MZXtwftxhPx17k\n",
       "TrKQJvLo8fR2ZOsMXMdmMse9e5UXmiBguh3BKY0WsuvuAgm9O7ThrU9SYM5qIYdW3AVpcXMFaNwF\n",
       "Yyikm3vfSQMITDYHLlUmvzqio5QCKRI/20K6+oluwF41mKSdxpsnp6rG7flIwOKnhbOnsl9ziO2p\n",
       "PxHdoN28vBjL44qsaM9rAT/od7jkZiNMzBI0WVA7VsquLwEbl0optPb0jGO4jTP3I2bd9klBt143\n",
       "m/p6Hba73LI9UUo+z2pDpfTrkzAfiuZ7cXfQ0Ol/99Zjt0T5dTfMIA2xcGOPn7n2iuLbXXp8Ca/J\n",
       "bffN/ZZqGz6LgN49gpmHBy4JHFSEzZ51qqGeIg7bQWBogrKufFyejUCDiVwVMhmFanceKsfe/ZEP\n",
       "5yquD2W50SNB0Ja3xwUFuO0rgweXVY9V9PV6+DxVHsdDlwFWuN1t8E9Y+uhAGInBzz3QsAT77C/D\n",
       "V3MzLJ3xtCyCoToCGXRGqWZcYmJKEUO0B1Td6alAJl1CuyDQemzrakfmz3FxZeVBGQWeeV1+ZwCp\n",
       "f8mE6MZbntX/PQkYe1QtDy2p66u5xRPYdtJIaW+HLkfx8YkPmKW5wt9+GK05ngsh6eBmykxCaKSJ\n",
       "994CbfrkGx+vxhsPibOZmPhisBs/Bf52Ti45PTmWmDR4I1sqOvRYeJm7YYbw1UfB1PPH457BRSIB\n",
       "TsC9rI/QgaxPCwSKpf2s3PHqOvngMLXutNI0jV8v8/6vlUee7ZrkBYFmnnZyCGZSv/n0TK/jg35o\n",
       "LN+M1QpxCY1IJ1l5fnd96dCKbNKrdytSmUg8qRQncorLcSEDJP2Lx2mNc3aNbHHVv2VED1kSmtWI\n",
       "nderJ833tfvXTL6FBcDNXf7vc08tQWWSKvbCYZZiOc2DLceOaMIxVbsI1Ksn5SE8b4RZzEo5aA9r\n",
       "jM5O5WDZZmqKb3Ep1ecbgh/kdWGYY5I3T8iaYH7vkUlq82ZGBa/RGfrHfvqThGPryueXip90T5Dg\n",
       "ccxz27UBwfNjdQEsyaKYyTkRbXgjI1DjpICaYSb3zwdc/D7Ex+rbfrrhaRXPBCGpa63yCczoIakZ\n",
       "mBExFBbznvcRc0YdaDZ3Gy488d2A83Qd17Kmn9fit1OqH5b74bpI1AsVYGliqYfVljV4o8r6OsI+\n",
       "MuE1wDPmoALC7nVa++iGhTHBZ3uXviTvUKISSXs+niiUV8pw0f8fZkJRkoJo9mdBphuaBNpc3rrd\n",
       "bFoVfPJjuDQCi8fzdjyU+hGG78rMPVFFHE/2OpMG0/81puA1KX56S2c7ekR5JcHH40l/hgqEBJ2j\n",
       "76J1aWadJJbK5gKaOIH44RrYRN7UARDLhj/lLks9kBjoOoglSrM1dbo08M7umrAbeX5VVBDxXP3C\n",
       "kX7y+oLBigUXmsWOMszmBdZAzuALGcZk2KNPCGCDDje+5TzXtlbwazMk/5UoUkW/Z0s3xTJ0PWUb\n",
       "TvHiyU0jzZRjAWAe03zbhBh74FdMLdh3R3H0fhpxXq6Q1yvnqAznm2PUO1G95j2Skbxk5bSDzY8/\n",
       "jyTCSoOJncgILCwaxy4RseXzx3e85rDanGWRSmedEzb1eb3dTi0FPeX3WQyPEpBo834Acc+ef9c+\n",
       "0NpdnZLJ/o56WlegmBqZIP39RG2b5sDNXxo5GW3h2XH3VhjOAt0nEI5+vqVAiNHZH5217YmVLIIY\n",
       "VRZJosLw+jvDC8aLjITfEaC+4K24wm/8mujMzq9w+D/xGPUPBqrnF0j+3+C5+rJLhNffHQRfvG7v\n",
       "os/baq4Nn+XAw0ZEJ7GAzSPBCLs1Mc/WiFAAeDRxFYB/wN3cS+8zVeUAY6ogAMD4TYaHasNe2GM5\n",
       "dHFowxEXOiidGRmD0GF11eVTBtGrYklecX7kh5ruwlpr9j+5BBQP5wTNDICpbuwgYf2swIartrr1\n",
       "+XaLPsaIkvugNeANBEDmI2VANkvIR3ZBqEW+ync/GgE+7dYnGgKG/j5Fg4GfLZswzdpq2MNYyCL6\n",
       "bU3pZ0Xp6C4nlXrPHJnnAzSOov6jr8AQnlBWoR9sso+wy7WGUG6oTKnZK4CcP1MS4BZWlDQf6yWf\n",
       "jYniGY1B2iHkyHq38L5f7sx52C+BM46zT4Pujf4bscHJyuqfWbn0l/QMRNWORmWyVANdTfOxR5ac\n",
       "cl/4XndE+ovQFUDj3buCEBuIz34KrYx9r9/wmd2rTpfwU7BKln504eCClRLH1hiAMqljFq9VWg89\n",
       "lTatNPfAt160E5H64aHA4ayHLYnuzc7fA6nFmd2TLiypKjZ1Qb1KtPm864Q4cbfZHBdwoL0YJaL8\n",
       "+0N/WFPRuNgapeVxxLIbzq8m+AnpOib77WAsXfLAZL08rfcID6zJjNoWerKtUN7yvRTvc7A9zNNc\n",
       "Et/HBhRQ5KvCya+UwobUMHO6g0Kn4e8FqJXP3FrDuoHxAQqaKI3PflWcW922laUd79XpGVYnvO79\n",
       "r6JKhqHappetarxxk1BgGWFtOTfv4NK64ogS985wN6UqCuyi1JPc3nezNFhOUSHjXr3VE7Jiqy+D\n",
       "XPLJ7VarU/S/RxdKSuVykepdSdR6x5UNpaRRfEnhlWqQY4aJXQsNpSogifTfb1fjhkGJZDgzd6Ut\n",
       "KjWRQXP20GpqLyhoA7c6q+k8wpA6oXTFhVjVRiCcVHYYy8CLExkiL/Puc19qA5FuL1I5B2OEoUBK\n",
       "24Ia3T2fLdqU6EL4xhQpil6Lcx8QFeXSc1PJ2uK9w19AI4uNwxXPWGVjn8o+CCth7FMEbmyPB4wh\n",
       "wv3ZmdM/1CK5ToRKBlkjnvoUe2IYTs7OUumc9AVbsvLgwYg1nUj2t8pMvw11DL6LdWyLl7khfK9a\n",
       "qd+kqv7yt73v5ZNlF9zL90iDAUYsy55QMe+ePeeh2RX+OJFXPxOViL1csMJZUdzeFwzQPakEyD7I\n",
       "Os1LUeiSDyTpA7j1n4LiW71D+cZAhFJrvAKUlC3Kf4WC44Maxfs2e+FJHarXsd5iukeWUGp0TtFZ\n",
       "8eIJ6nK65n6GaH2iA5h3kPFd1wrPEyUF/38G3o5yV8ZZ6iSncbZSwopGdAHqhRTB9VYLXCU6UE6L\n",
       "d/97aLlVH6PvOusxaImJ6DFQTTcp98uxuFRvrv69fUPGvVaus3YX9OLLfJfTdl+qWaDkLGlrXOhp\n",
       "as/no/P6JoKKrMPQ0IruowKH4rahvoKoWFxaWQZFimQQff17/d3rMuWGEc3bYiCPkwk/5G1Mt1Lz\n",
       "zlPBB9pXIS1qmJM5Z0b50W/4M9FIweE5HoLi+Fa0wjsUSNZAh9eVCn4Z3WiS/s2zBF3f484T/aIU\n",
       "v6mUJT3Lh6fD+CoQ5w8VqEQ9R+AFdbJCQpP+/N1lOu5uvr4yEkcxFqQ46dwv+8Cu4X2O42hPUEFV\n",
       "nrUDzxCzZgc9P/7+e4ScUeyNsmVUN3rIJLB3VeM8fvEbhzT6QGJSR2FIx37ctiLoqCE0jAMVLwDZ\n",
       "uESs+jNikKFGBNJQcVyS+RMMLv/LG+2V7R/0iLbdNeygvFxxMzpe3d6woj4xXfmF6devUeAzcOdN\n",
       "85zzMmoxIGGt9Yc8UVL+6PR9VE3jUpFZ1dGOwZKwKIp9h097m/z0c3Ep9UILgddrqk+h+dtdT93w\n",
       "gIXtQAD5ZInv8nvNb8tOWwLJlTf6r3QyJaOlK0UsaB5SSuKGvT4UHJaJJu5WVbdry2n84kx2wo3g\n",
       "qE/4KaPgCtr1xjZxrNcTmwbNn/keFRJxedpNtT6+XBFbOIjLhK7JgqX04eI/2/odQSA8crQzh4Ew\n",
       "qpllnrFpwOtCcaKhGG/nAtA+Wgx896ocECuuepwQwPt8lvs8xZz2GIkOkW3+4gEZS2O/85gC3yHX\n",
       "cr0i24cMs56p0WMamW15nuRk6a8+1xLf+u4nu3sGq5YmYT0x4q+moMCl/zQg6lrm5W0kxzQSPcfB\n",
       "QpvrvQATSTT93vcW+G7E3Vev5QV1POqSzuzXiOz4Du+w+TMs4d5fZLeePKhMaxCJr9B4F+RQvx6s\n",
       "CAxojEn001gU3Cu9S4FUWSDzqyaxIAHKQogsn7cOotIf+EgEgxIViKdHosnMr13FCpfQ9WPt1dr9\n",
       "3nO81RC4RsEPcyv6616QvX0423/q6gK/0m2gU23A1wA35Qwah09GTPoZw5RsBKArLk4+YjXk5MLq\n",
       "yVNhCL24+vsa6K314Dk58IUub0W9cHsIYg/wduqVcLOP+pGQXQXWSA5f1AF5nxXOZNxkYcvDFgz+\n",
       "Er3vjWEOQwlGLyySZi+CGpBou8kLCDrxRfXRLC9quOH6MjwKz4A9PbkRSPVtLtn97zPvZDPI7Ah7\n",
       "3hEU0Q+Kd4z3Gje7qPQq7SRYqV3+RlOCiYmAO7VkK6hurHO/kV9CilEiW0LjC3/WC70/i+LJl4u4\n",
       "qwiXWgDxmF2EkJJQYf2Hy3Fu4STBZiZaxQwmbD0bqofPTego2wWmfVyHHUxz7UTInfjFyqez0Jaj\n",
       "hM4UJobnBDqKAtre10dsBZyPt6ZymOfWP55hx55+lyuRJoQO2HO7C4Xv9LBZj2AMDXMVJnpSKqgk\n",
       "i5ItYFJZdP0zy+wWeIisKaC0aNtngc2h7o3t7SUFLoygAQtzD7JC93thmE3cvlcPJ2IzHHUUZWjD\n",
       "pGu2AKPDUPKfoINOc4THk648XX5Inat1LlXeAUv1lTyoypxQUAl1gNpXtYb+c7ZVTVFRydQszObs\n",
       "xBYoZg/DiPT2SJeveroYlEDH3iOu6yO0o7B5Gfp6r2c8ok37QPgnhSHBNcQ6fw57ACczt9I0fE3j\n",
       "0icXVq6+RSIEfoQMtQ4lkv3DK2SLwJ7+EuZ9gOZYdXnCUCl5KORW2CHTyF2hUAXSURJIeL8jdDab\n",
       "Oh2J89cDLM2lDc+7J/4Zk3Zp4EMyqQ+8pk+7kX8Z6c+p0MPbhr0Qu9HQjuNbDU9e42Y7ViYvs4AR\n",
       "zaQA/bdCeaEyfm0zlx3Cc4B3/1vTwCVO97aWspzQ/ia9CVpO7e9K9w9tDdt4CaaPpbdaaURcNvfg\n",
       "dI5kXAigUzFbt00FCjxHbZoYT2YhWRLnTAtTr2TL3nx4B2/3IG6eglj7swdpu0nhsdIX8zv4DVbB\n",
       "u01bI39PtCkef0zeeOgbjmp3ikpY85or/EajEvWKUOtrVkjQWJRqP7tE8nJ8lAzAyz3vTnMSyuFH\n",
       "bat6vqOmEoVYEH3/y6pWTtcCJr2szDJgH0H1Hef2TlWv4V78qsH+uGisppyAGVzvZN4v4ceDbQTx\n",
       "ZQYZWMQwqYXc/zP6r0VFaL+pgPpnDrR3RRHpySl5/TX3wAEqDbfHRLEyRnlxVZtaKnNXskHWRD6f\n",
       "nSKT3sGyMtEi44n7icFoI66fB20wx1U6eTZSJUEuDu6hCqevH3uNbvV6kLlUD7GAWsPs9TsAWdht\n",
       "sGSa2R+Yr65l8AMvdqa+Sa5EPJgFEVaG/ZWRjNwHhp1hIWcQkS6MRj4qCxymYqtZ9ZcygYVdb2P7\n",
       "TrjtHHP6oUwe9QoKo8i+UIFe284HYHxucetkYcQKvDFFM9m9OQK6eniknOZV4uYv324GDiiChUqK\n",
       "av8Oj/ciSl9AkTyGcmlHFy5JWLtPkt+7E3jScrXMzU/M6fzJt++DrEYEeS1NiHoGu03YWAfrOvbp\n",
       "dOqJkLh9DSXH50/hN5UCcv9p3OHvm3Eix7+I7X/2RhSjlD6H7OPHxK/o357gWWSTXs3MthRqihKf\n",
       "rlUQel/wUwumUcfhDa0/UeVW2RNTybaHtW3wfhHksPm7Rr5BcjPVdcN+2Hkn07holG4uEuPa6LnX\n",
       "OnZzxs/1+DuLOXM3MKCYJL0Hj76qeQKiLij2RVSYyxD3dh5gfwsLo8KVaqPsFj+jp60S2BEZCJ8l\n",
       "g2vyUU9oenHJ50jf6gUktjJSokCOxfbZC2mxQVWQhgnBUdou2wTPhWMl409fCoL/HdjloAAABbg+\n",
       "JNmxAAACs0GaJGxC//6MsAdyUEQDSQswTkuBZSRIlNkJAdAJpueBxdAOtUEE+uCccNxr21uPnf7W\n",
       "6prx2xszouJePA/fO0w/F8UjREqp9j2G1bp8FQVjQrogYjbuF0k/8nLvMekc3Cjz0AsDYjiVlgo9\n",
       "Llsg3go956MiVqGBhFZa5WSsCLuu13kIymV96ogsAPAhLytya2Ndsab5PscE4wkZzCq6LLVwwuod\n",
       "CWoTpZrEMzIvFCHUMUTakIqqr6s0n9bluE9DDEtfzZf3LzScE3r/ZQ2iwI03W9Ap5ruIHzo7gAoF\n",
       "7baR6JJegiYrkgDxqQiMG0Z01zcs9lvnbB8fYueOXcCgwgoPFCeph5XQkVYsQ/ksJRKIncYt/kX7\n",
       "kqX90VpZ0WT1hZ1tHbYddntkjhVYJBTsddAG40oFaWtzM8Toxxm7ZeQtAFWh6pLAEaloidjFObvq\n",
       "frBykTzfHv/jcSMud/GRYYoxJs65R1FqNhf8qVYOVqLnj4us/Qw4vfGxCQfGH6EPY3RTMu7Pudeo\n",
       "ppIwivGDDRZH+nvXdzMgmQQLQycPzfqmkoNa+hVcaJ+7x3uyHZG/cJcHQJ0jYgPbmNeXXS/jihPY\n",
       "2770GiXfIh3cNJtMzZJ1zY5WRc906nVdq1dma4H78wucXsb0iNO2Me/Z5OHuJvvhyq9V/uYKlwBU\n",
       "5UYpY1kHn8UUkZawW2otLLdkOiSmJK+B8eWFL6Xi9nNDdff3aAAdgtZGdNlBqXMDia9k+dtOGEbb\n",
       "zM8VyVod/DQmDK26JIIA/we6noiaAKwv4pYAUwQpGe4qSidLnuK1XIbOxwKn63DzZTZszdMEFEcN\n",
       "FaVwn9k0YnE9gM8CQAeQof5QoXLcyV+tKm3YRmG5OPxjbZio3l8sU68wezOSBa+yfcDjJxUO1bRF\n",
       "PKFpNJxnOs1qG8xAATEAAABNQZ5CeIR/ArHNPkyRBWQ4c4BDgT1tGB6NLaLzsVaz9yxmJ0HWCyrb\n",
       "1gTMWl+ufAvBLFxkWFsLWb4oeA1rLn//d5RnYPRUXPHNkyXMTcEAAAA/AZ5hdEf/BcbJWxxxWXoh\n",
       "w9gADA2ynT0GkHsTcQ8EMtGOZCOKFgTTHKE43PWQATt2G7sdoBnIPHxD00O5a41oAAAAKgGeY2pH\n",
       "/wXHv1ISRdzlYOCZJhcRxWCJIXxt0rSAB7j5tHU50JQJsUcWEQAAAIpBmmZJqEFomUwU8L/+jLAV\n",
       "Hc0ksrewCog4YBlrCcFmMkKIofG/HD8GMewZMAAi3/o4bJCzjyzKfNgDVrSsoj4iJrNh7nNs8uDg\n",
       "YdMfTaAgfvak4SNQXpnTeQbVDQRwutszWhHJcX5VilFEFAJRUujK0h3nxCuqqj+wFaI0KJ4hUVM1\n",
       "0zYqPLYgcUEAAAA3AZ6Fakf/BNT3sE5keRYOAGclTErJhOWF9almk8/tm4oR3xCnZv81IALZ1a/7\n",
       "M03bN4S2guLYsQAAAJxBmopJ4QpSZTAhf/6MsAThHCWxUFEoIfqJ+gA5TwFAhw52TGSgc3K9yVq/\n",
       "4VcMD7QVrpxzOz5QlQTv9CeQWs3wBhTd3CJToHvZ7sEthbQTw7R/7s2ZlrtfP3fgbtklVzRLGti6\n",
       "pbtV5SJcQHCWzrO8mDs3X39FUK/4y2uGjCHsbNYOA3p2XZjpHdCfUmU1gHVVxoD83x8+1TXaW0EA\n",
       "AAA7QZ6oRTRMI/8DEngOKO8egTFzTar1oKtAoDKX3m85k0j6uH/QX1RTKPACVFF0vAg4+0ZhzaQ4\n",
       "ZBYE5NwAAAAvAZ7HdEf/BDGPuGX4JJ0D+f6+HRwuHuDyTXaK2gAWMyLufFve19i0iNR7tAsWEyAA\n",
       "AAAsAZ7Jakf/BDPohCUec/TdIFzAt91Tdk6bzYAHE7uKzTWGu9FEv5M8Z/UQgOEAAACCQZrOSahB\n",
       "aJlMCFf//jhAAAMizbMBQzuRvGQypPnRq/4MJbKwWGVlLptUllwcmaKeCcU8wXcSuDyYsk+wCXOU\n",
       "bSNmiA1WEF3+AJjaONc0fQcc6S3tujG+MUVf/7eMV5r8OCrXRPbDgNmoOGa66OYeorP6yyy8bGLs\n",
       "6C4ElgjtEpFLyAAAADVBnuxFESwj/wMTuFGDlCrLkK8xDsgBrZrG3Bgia4EPgy/YGKoAWw5ugKgA\n",
       "Q+Iolox13gqfPwAAACUBnwt0R/8EMY+4XWAs03HjNtQdTtjvmwALUU8gAVRkGfFZRz/TAAAAJAGf\n",
       "DWpH/wQz6IQlHnP03SBZXeGLZssAC6BQyDM3Z7uLSxwfSQAAAE1Bmw9JqEFsmUwIX//+jLALzz+s\n",
       "VhLNF5AFrPT7DsmaGs+Tvu/1+DsSFJnEpr+zYxrf33s274sQE3BByaXe8dF/biDSfz/pUWiKOiZb\n",
       "YQAAAD9BmzBJ4QpSZTAhf/6MsAAAywlUtwAvxhRXD+4iS42qpiK/0XVIwHHFgEPx8t10drJQMe96\n",
       "xX2vEydeGOPVtHAAAACJQZtUSeEOiZTAhf/+jLAAAZQLE1C4ATt3BpWGAmJRtpW/nb8PzUqoMgos\n",
       "2ljCJ+V19yy8a7G1YssSac+aMgU0P0eMLajeCFxXXxaSI860ez0q8DW9MB28L0s37UiXm2LtV7Jr\n",
       "q8pRL2o8Y76ZGKFAil0ZhOjn5Rpx+JSViE9JhzQiTeAB9kk2Gi8AAAAxQZ9yRRE8I/8DEngOKO8e\n",
       "hb2M88ulWuJkiqzSrFhhv/AA/nU586vnCwHHknDcH5HqGQAAACYBn5F0R/8EMY+4XWAs03Hpuy7v\n",
       "4tuZP4ALE7fIYxkDO0rH7JZizAAAACcBn5NqR/8EM+iEJR5z9N0hw/cABavwpyi5LN920oIpCAis\n",
       "fuPG3iAAAABaQZuYSahBaJlMCF///oywAAGKMwG3N2ASZtmz5pAtAdmiGOpE5QvM+kZ6bwqTaMB7\n",
       "AMJXv7oSqMuAaBJYmOiBBDEkQ+23+mN3Zi/m3vOH24XobhWfgapz7JxhAAAAOEGftkURLCP/AxO4\n",
       "UYOUKuId1qRTMleF5ELsARyw/msAG2oyCZM5RahhQ6YLdRF6NGcc3oeExDAcAAAAIQGf1XRH/wQx\n",
       "j7hdYCzTcedFIuGAAXQK6w6fGt+BnEhnjQAAACMBn9dqR/8EM+iEJR5z9N0hWAuIAE40Oh68232d\n",
       "o4OZvT1/gQAAAEpBm9lJqEFsmUwIX//+jLAAAxTydgGr6hesWV/Bk4MSg1zk12/3Z+21W+qjbmCk\n",
       "zl1kJh7ScYovqRkaGBJUnmTFZqPxD1jw8vwX8AAAAGxBm/1J4QpSZTAhf/6MsAADFBYtiGUfNgGj\n",
       "abjaSTZer2qhbIeqB04h50kld0HZ3Y+LCJtHwxv2PsIoXIIcdvL+OgN5cxKEak7I6tBkLA3HELqU\n",
       "aRLQGSSmiuAQSMiFoxt1LYKIsXzNaayNIVkAAAA1QZ4bRTRMI/8DEngOKO8ehb2M88ulWuJkiqzT\n",
       "w6iSWgBJC+mGeuVbxscbA439b2CIhUzUdkAAAAAoAZ46dEf/BDGPuF1gLNYnBKAC6BJO0tqgG4ql\n",
       "WDeMslr9NWRzZaBXQQAAACQBnjxqR/8EM+iEJR5z9X/V8ABIgE1xY6YwD86qkiu477OAK6EAAAA5\n",
       "QZo+SahBaJlMCF///oywAAMBD23AEI9LRV1a2oycGJC06HI/JfpxaFnU/L5b91nhCYf1Go0GN1nw\n",
       "AAAAdkGaQknhClJlMCF//oywAAYB36MAbfqUJcTsTNDUmLyqnHBjWPQWfikfu4OuvYiV90xGmKWi\n",
       "ZK9GCh4IKxDDWsoABRJZtmbGLccJVbPWtbEceeGSZd6BiJouV7mjh706KOpxNvA3/QrH1d78JELr\n",
       "aBK7PdvZCDwAAAA7QZ5gRTRMI/8DEngOKO8ehb2M88ulWuJkir7lEbCGcD4AH3kUzI1cnzVE27Vf\n",
       "A2pkid6YB5ZOwQzZdGEAAAAeAZ6fdEf/BDGPuF1gLNXk9yYAD9ucUdQ0D4nbXfSmAAAAGwGegWpH\n",
       "/wQz6IQlHnP2/fOYSGTYAQ2TZZ7EgQAAAD5BmoZJqEFomUwIX//+jLAABd85BbYAplqgktldYSji\n",
       "jnGzTqW2isOLrXAppY+tCS57z8CMjgzXjvyP+roa2gAAAC5BnqRFESwj/wMTuFGDlCriHdakUzJX\n",
       "heRJdEiAAuLRzzwRd7gExfnQD1D+USNBAAAAIQGew3RH/wQxj7hdYCzbruJgATrCw5BG2ozxlGX8\n",
       "sevX8QAAABYBnsVqR/8EM+iEJR5z9LWwqK58APN9AAAAQ0GayEmoQWyZTBRML//+jLAABdy7QcAc\n",
       "mye71skh0LivaNXYR+QJdnDd1YRFVmsDGk81ffBVbwS7x0p2pmRmp8d4a2kAAAAvAZ7nakf/BNT3\n",
       "sE5keWmIApZkorVdSLjDAtSGxwqAD7l4V/BL9guser7I9gh75RwAAABFQZrsSeEKUmUwIX/+jLAA\n",
       "BdnHtTi0SQAtppZ4w7cgy1gcSIaWjmud6Ey2crorkt4lKOG6K9srTgpdDCxpvuMfVS0M8hraAAAA\n",
       "KUGfCkU0TCP/AxJ4DijvHoW9jPPLpVriZIq3wxD4zLNtLT5DJpjprZaZAAAAFQGfKXRH/wQxj7hd\n",
       "YCzS1X8YDLzfbgAAAB0BnytqR/8EM+iEJR5z9uvTMAB72L0T5U5VwyETbgAAAENBmy5JqEFomUwU\n",
       "8L/+jLAAC7llDADpHrhLexJep2L1nYQpZYGUKr8t5MQhVB0uBevLP4z/nkIXmEk3P1BtkK+3HV+R\n",
       "AAAAIQGfTWpH/wTU97BOZHlpiAKWZKK1XUlzJp8XZAkgfiNJYQAAAEFBm1BJ4QpSZTBSwz/+nhAA\n",
       "C55OjAFW5h1wL173MsfRQbBK7vuhMiWlFQtdnPdDjXJ/5vfWuYjRnhQ8zgJteUWZUQAAACUBn29q\n",
       "R/8E0wnujIJYlqNSUxrOxmAC3eq3s/VVSGe6hzgL5L5EAAAAQkGbdEnhDomUwIZ//p4QAAuer+cA\n",
       "Vv1xdPeaAl6IfZwGO8/wsE/i81en9yuUO+YSpnFEcVHDdJP3WBU8HXJG5cRFbAAAACBBn5JFFTwj\n",
       "/wMSeA4o7m+iqtC57Ulvh8xCzz5hEcNLgQAAAA4Bn7F0R/8ABfcKjwO6QQAAABUBn7NqR/8ABf6I\n",
       "EAE2D/zGeDwYBxYAAABEQZu4SahBaJlMCF///oywAAu2tJAAOWJ373ck5xiNT2cJ0pclsCwFB+TC\n",
       "5+E+cRssQ1+msdlF9rPMDw8kdWOr5R9yS8EAAAAnQZ/WRREsI/8DE7hRg5N/orH4yj1L/aIASoq1\n",
       "/+c9PLvEjXT9ue0SAAAAFwGf9XRH/wAF//PYAJ2cbWSUQq1g9lpPAAAADQGf92pH/wAADG9krCkA\n",
       "AABHQZv8SahBbJlMCF///oywAAu2tJAAOKSTExx2Z75uiSsxd7Es2W/ZdDWmCoyduQ74GfJyX3Td\n",
       "eM2u+cbKH5w4jix5/8mabMAAAAAtQZ4aRRUsI/8DE7hRg5N/orH4yj0zzJrwAkcTsKqR1Yt5O0/b\n",
       "k0ZEFY9GnHcVAAAAFgGeOXRH/wAF/vXgAk0HmzhhQNCTrMQAAAAOAZ47akf/AAAZH7Gx8oEAAABG\n",
       "QZo/SahBbJlMCF///oywAAtxhM+ADb+7mgAAytqhhdz/K2eT/jqEIPyed4eTf3sMVG8wd8T+ikQW\n",
       "XCRrEkWYleNjzHhl3QAAACdBnl1FFSwj/wMTuFGDk3+isfjKPR/9ogA1Cmk/JPrpHYkw0/bntEgA\n",
       "AAARAZ5+akf/AAupAySapNzmHMgAAABWQZpiSahBbJlMCF///oywABZMt0W2i4TLPDtwy7y+2sPM\n",
       "ovVrkWDT/FuKNtujVLFBhbEY0ej1sjx2JDi5gP4HU5nN/4m7OBwKwLdn+6nx+Pc+ozbX9WcAAAAs\n",
       "QZ6ARRUsI/8DE7hRg5N/orH4ykSoVuRxsgAl7nWdvjuL8ZwWs7BZhB0ePSAAAAAaAZ6hakf/AAte\n",
       "bS/UQACcXrxVbrHS63dz3E8AAABVQZqkSahBbJlMFEwv//6MsAAWZyl6XedsA1J/kVPVVFW0Fb97\n",
       "MMbCYdDc3S3aa5GzHYqlxpFrz4WSVLecoUcOEhSAm7Vx52E/K96xQ1uau5KyAdSM+AAAAB4BnsNq\n",
       "R/8E1PewTmJ7jVQrL1l+b5JrEYsLpI3DIcsAAABDQZrHSeEKUmUwIX/+jLAAFlr2vSiLgGjacbdk\n",
       "euQTnGWsc5ZBhNo/4btHqi469aFRkvcPFfmFLaBokuWS8og6SGZj/QAAAClBnuVFNEwj/wMSeA4o\n",
       "7m+iqtC59rWMQL98ACvfWpJBniHQZFwoRCjK+QAAABcBnwZqR/8AC2THAAjqCw5CmDJ+CCyUiwAA\n",
       "AEFBmwpJqEFomUwIX//+jLAAFmKfsXyJIAg7/g/sIqBe+yQIOYB/Z+yBHCZk6IEj0QurpE/StYuL\n",
       "XFRCtcou+95lQAAAACJBnyhFESwj/wMTuFGDk3+isfjKREHQHyYcYXoNp8Fxp+PtAAAAFwGfSWpH\n",
       "/wALW23wAW8Q9JmUXEMo+qlhAAAARkGbTUmoQWyZTAhn//6eEAAWHOPcAOkfcLchgzIBUQM6NkCk\n",
       "+mvxaYF+BVVMA/VmLlVU2uqkMaWzeOf8zfzKCJOLVhz4g4AAAAAhQZ9rRRUsI/8DE7hRg5N/orH4\n",
       "ykRVor2CNUQzKhU1ztxcAAAADwGfjGpH/wALEUgIy5nHnQAAACNBm5FJqEFsmUwIZ//+nhAAFZY0\n",
       "D0LABYdGYJksjqmeYZRC7wAAACBBn69FFSwj/wMTuFGDk3+isfjKUkdK00hXoNbntiBWwQAAABAB\n",
       "n850R/8ACwoJT731tjBAAAAADgGf0GpH/wAWLNYUw8VLAAAARkGb1UmoQWyZTAhf//6MsAAqn+QG\n",
       "QYQhDDKHueenDk2XJHdccmJUnbz8qNpxtvfjWVwYbAVyoYXh7e7zP1fkqKR4kZDYpoEAAAAgQZ/z\n",
       "RRUsI/8DE7hRg5N/orH4ylJHPT/cH44S+SWp/uYAAAAOAZ4SdEf/ABYhci1vukEAAAAYAZ4Uakf/\n",
       "ABYs1fWOACweqFQ0sFJLtjWBAAAAPEGaGUmoQWyZTAhf//6MsAArf6FYDMKUqew6WfFyWb8amEk3\n",
       "zfc5fedv8i90bpEpcoyB5gR24LJVI6kl4AAAAChBnjdFFSwj/wMTuFGDk3+isfjKUkddYFQArpFx\n",
       "hH/G2zQik8HUD8BxAAAAEQGeVnRH/wAKyLlme5D64gZZAAAAEgGeWGpH/wAV6IO6siCOCbjJYAAA\n",
       "AEBBmltJqEFsmUwUTDP//p4QACsWalBhwBWjbnb4fSJgU3fO/bYA5yBfzExomQ8+nhfYhAhwbd4/\n",
       "+5D+tziQFoHBAAAAJwGeempH/wTU97BOYnuNVCsvkcctfuAEb4NXAbbNWzRLUDjQpiozgAAAAE9B\n",
       "mn9J4QpSZTAhn/6eEAArDv72AQERwBshARwbq5yO5VG7TMem8PKJXGQVg3qDWyEbHM7zgyviN9sK\n",
       "XYMNoO00R3fSemnr5VIEsEHxaMGBAAAALkGenUU0TCP/AxJ4Dijub6Kq0LoJu58ACnMxDQWNLnFW\n",
       "tZpgpkqQTvWRcJsr6JEAAAAYAZ68dEf/ABYcY8+XRgBrWL2xJKn9khfIAAAAGAGevmpH/wAWOY4A\n",
       "FoD4AlWrEDKvaF6XyAAAAE1BmqNJqEFomUwIZ//+nhAAKxmg8Aco3e70K3hDImKNteNVXsoEKM+Z\n",
       "4X65Q70UrdjI5zdStUDdDXb/hneL0ogE1KD4mVcXx+t/GrReQQAAAB9BnsFFESwj/wMTuFGDk3+i\n",
       "sfjKUjovVABV6VjcSjwjAAAAEgGe4HRH/wAVnNo3ysBv3FE1CQAAABgBnuJqR/8AFjwXgAuiAfQJ\n",
       "CpDGnn2IzAgAAAA3QZrnSahBbJlMCGf//p4QACtFzMEZHAJpSxYAupsyTCJmRjWCJd25mdS3l63+\n",
       "iO3X8Tq9GFhswQAAACBBnwVFFSwj/wMTuFGDk3+isfjKUfoLEOGVJtRzRv/jcwAAABABnyR0R/8A\n",
       "FiFyeDuRB23DAAAAEAGfJmpH/wAWGCrhFMQXxYEAAABKQZsrSahBbJlMCF///oywACt55vADb9Qw\n",
       "/iGisXblq2IE/0hn7ZsLYFBwC3LKLSAEQEgvaR4ul28esqPwT0tKj4+Cp1bWA7GjFVAAAAAiQZ9J\n",
       "RRUsI/8DE7hRg5N/orH4ylJa0L3jFX0GQYeOTWP7YAAAABcBn2h0R/8AFjzjAAfymHANuqjDqD5E\n",
       "gQAAABABn2pqR/8AFYWLCXoEHjBAAAAARkGbbkmoQWyZTAhn//6eEAAp+qqcAOWIeRv2LT4tBvSm\n",
       "XZCUZZV3dUFzI/F/7Rm6OzMCbS6G9CGFyhgjjOSRhSzNR0EQYEAAAAAnQZ+MRRUsI/8DE7hRg5N/\n",
       "orH4ylGMxBAAcbGHep3DatJormJAxRSxAAAADQGfrWpH/wAVbXyUQ+cAAABOQZuySahBbJlMCGf/\n",
       "/p4QACo4pORIBMPqiyiDXAkxcKNjzAuygQccmQ4I7Ecmi8jzW6WPe/U0Otg7QgJVl78aW/v//dPi\n",
       "HFZPIeVVJOE3AAAAIUGf0EUVLCP/AxO4UYOTf6Kx+MpRgcOD8aaYMI4cBeAsNAAAAA4Bn+90R/8A\n",
       "FZFyLZO6QQAAABYBn/FqR/8AFYeOBz8AFa7g1JPQH68XAAAAQUGb9kmoQWyZTAhn//6eEAAp+ce4\n",
       "AndTwn3HvUMWbpvCAgx0GyX8EQdfOkN7Ij05EKVcXSbB6WJ9F1NUr9/zyYUkAAAAKEGeFEUVLCP/\n",
       "AxO4UYOTf6Kx+MpRrPrqmgAQRhgP+4bs4gJrcYiEY0AAAAAPAZ4zdEf/ABWRWPDTOhIxAAAADgGe\n",
       "NWpH/wAUwESgxTagAAAAQ0GaOkmoQWyZTAhn//6eEAAp/qVGrbO6DIATwd/YN0pyTmjEoqrhsfas\n",
       "umIKltussfetVvNmVJ65QwJLcekctecmFJEAAAAsQZ5YRRUsI/8DE7hRg5N/orH4ylDNq/MZKwAc\n",
       "buRp0yMmDisx42/I6v7GrUkAAAANAZ53dEf/ABUKHYjBgAAAAA0BnnlqR/8AFPccQEYNAAAALkGa\n",
       "fkmoQWyZTAhn//6eEAAo7LCNRsADj1AvJXePcyGJWh+2m4p2/FzJAxSiDFgAAAAdQZ6cRRUsI/8D\n",
       "E7hRg5N/orH4yjZzLx7HvflVissAAAAOAZ67dEf/ABUPRi23hEEAAAAPAZ69akf/ABTAfOTYWPlg\n",
       "AAAAPUGaokmoQWyZTAhn//6eEAAo2qqcALBQrhM24PLbgnSmidf1lqjh1K0xQAb+dk1iirOAkivB\n",
       "BhqO04ogxYAAAAAeQZ7ARRUsI/8DE7hRg5N/orH4ylDdpCC9pnuZvd8HAAAADAGe/3RH/wAADI4W\n",
       "hQAAABgBnuFqR/8AFQe5rAC3ABc5S2srOKg5CwUAAAA9QZrmSahBbJlMCGf//p4QACoL1p4AUGBW\n",
       "uwpmZnTc+F1N4ScM3aXV7JEq4enH61/531UpNFHk7T8yHJhSQAAAAB5BnwRFFSwj/wMTuFGDk3+i\n",
       "sfjKUN2kIL2me5m93wcAAAAMAZ8jdEf/AAAMjhaFAAAADAGfJWpH/wAADJSgSwAAADFBmypJqEFs\n",
       "mUwIX//+jLAAKTr+5AD5uZIdgH7CcL3jKkL8RbVK0zec9XOrF9W8MM+BAAAAHEGfSEUVLCP/AxO4\n",
       "UYOTf6Kx+Mo2cy8e8fOGO14AAAAOAZ9ndEf/ABUPRi23hEEAAAAMAZ9pakf/AAAMlKBLAAAAPUGb\n",
       "bUmoQWyZTAhn//6eEABRsr44AiY+4WfH+aWPBOvaXqDaMZER1tmEA2teaB/0TxQ2in73REwRRn26\n",
       "FJAAAAAmQZ+LRRUsI/8DE7hRg5N/orH4yqxp+AAt0PAEPx1Rlio4Y9IapyQAAAATAZ+sakf/ACo2\n",
       "4oALpUDnq9CGDQAAADRBm7FJqEFsmUwIX//+jLAAUpg1mRMQAcGlGLbrbmNevYHrSKTVdxzePkpf\n",
       "BMoTZjH3MMqBAAAALkGfz0UVLCP/AxO4UYOTf6Kx+MqojGfSmAG62mgxMRlJ4YX/cxkwTP0ouKcF\n",
       "3QUAAAAMAZ/udEf/ACoC5FG1AAAADQGf8GpH/wApyY5RB/gAAAAvQZv0SahBbJlMCGf//p4QAFGy\n",
       "dGAG2u4vpoYgIJxcjT/3lYOrZng0AusdQGlLAxcAAAAgQZ4SRRUsI/8DE7hRg5N/orH4yqjqt12R\n",
       "9cziAbjQAssAAAAWAZ4zakf/ACo24oAJsuj3pQ4lBgHFgAAAAD1BmjhJqEFsmUwIZ//+nhAAUbK+\n",
       "OAGuOSq0aU/ilSIzA6ePlRGSQ3tGZJHsZbVmGXEXbwzUv9TWC/4zhYGLAAAAHkGeVkUVLCP/AxO4\n",
       "UYOTf6Kx+MqqlZ1tg8JHVNExWwAAAAwBnnV0R/8AAAyOFoUAAAAMAZ53akf/AAAMlKBLAAAAM0Ga\n",
       "fEmoQWyZTAhn//6eEABR2d5j0ALPl81jGvpME+MEVlFPkrE2EPipi61564S3jOCggAAAAB5BnppF\n",
       "FSwj/wMTuFGDk3+isfjKoVmFrzDE0gMOycEAAAAUAZ65dEf/ACmBOdAAE1W+eQly3OAAAAAPAZ67\n",
       "akf/ACl7ul5CgiYJAAAAMUGaoEmoQWyZTAhn//6eEABR6wDMHADUbxjC9qI5iRBhncAFqIEtVpEg\n",
       "ktziVU7iBi0AAAAeQZ7eRRUsI/8DE7hRg5N/orH4yqqVnW2DwkdU0TFbAAAADAGe/XRH/wAADI4W\n",
       "hQAAAA4Bnv9qR/8AKPmsJSsJywAAADBBmuRJqEFsmUwIZ//+nhAAUbJ0YAbr1woTENsZsaFIH1tP\n",
       "dX5ZJL3keHK8jPPwdMAAAAAfQZ8CRRUsI/8DE7hRg5N/orH4yqjqt12R9cz1urt9DQAAAA4BnyF0\n",
       "R/8AKOLkVdu6QQAAABABnyNqR/8AKhmEwMHrNdWBAAAATUGbKEmoQWyZTAhf//6MsABScu7YArUk\n",
       "ZmEFL8GaWo591JFOhR8rVBIPAjO8uz7K+LrzQ+4ZxtSFY6c8zS7pQSGebdrf8pnHcGptaGEjAAAA\n",
       "H0GfRkUVLCP/AxO4UYOTf6Kx+MqqlaLXfF3DfBVx/a0AAAARAZ9ldEf/ACoCk2u5FU47EEcAAAAO\n",
       "AZ9nakf/ACj5rCUrCcsAAAAzQZtsSahBbJlMCF///oywAFJy7tgDlGSF9eKaZ7Gx9rMGQTvug+RY\n",
       "xganaM+TLuU0hgz4AAAAHkGfikUVLCP/AxO4UYOTf6Kx+MqhWYWvMMTSAw7JwQAAAA8Bn6l0R/8A\n",
       "Kh44kPLVheUAAAAOAZ+rakf/ACj5rCUrCcsAAAAgQZuwSahBbJlMCF///oywAFJx+jADeoQtLlOx\n",
       "RGuQVsEAAAAfQZ/ORRUsI/8DE7hRg5N/orH4yqkkQ+134da5xJS5gQAAABABn+10R/8AKOLkpvuR\n",
       "B23DAAAAEAGf72pH/wAo+axsPEeMepYAAABpQZvzSahBbJlMCF///oywAFJ0IHAJmZ3S+nOVkyzs\n",
       "uBNfDDKgLmm+kqHFOSGcR4ddxRpJaHyX+GWHTwLtjXLYuIdP9p9FdrKeQse9w6/NBm3G6KYX7dUM\n",
       "YWuzTyCHfGRjt4hu2cSLPeGzAAAAJ0GeEUUVLCP/AxO4UYOTf6Kx+Mqo1MlgATgiyTwix02u0md0\n",
       "P+fxoQAAABsBnjJqR/8AKjgvABOyqqEeV/ravFxiagigqVsAAAAvQZo0SahBbJlMCGf//p4QAFGx\n",
       "i9AFREMsVC9gy1qtfQmdOrEevGgXtET+P+NWhjQAAAA/QZpYSeEKUmUwIZ/+nhAAUbF6AA6RwAGl\n",
       "x2VsxEiwkK2yqDSvb5Iw5lUz9zLY9IGrpxXJQ4MQmLGkN9mNWhjRAAAALkGedkU0TCP/AxJ4Diju\n",
       "b6Kq0Lpiu3qdisAEMPpD8cj0z+HNhj9e8bG1NDea5YAAAAAOAZ6VdEf/ACji5Kb7jSkAAAAXAZ6X\n",
       "akf/ACjs5KADiwam3YT2FTk0oYUAAABVQZqcSahBaJlMCF///oywAFJx22ATXnrlxKDEydJsCwSc\n",
       "uZFFWBGHWYv9FGv2FbQmnrzyXWC/YWC92AlNTeQ62JmQGkxcGjACQX1MKjDE+P9xT9RQQAAAAC9B\n",
       "nrpFESwj/wMTuFGDk3+isfjKqqLV2gBNKSllpTQVfSB/bNxkGQKVYYJXRKzB8QAAABMBntl0R/8A\n",
       "KgK5CkdLyy3aTncwAAAAEgGe22pH/wAUavOr5ejSluH/RQAAAEhBmsBJqEFsmUwIX//+jLAAKFqc\n",
       "xL/+/GAAFpk9+jsCpya4OBk8vxQUkLjkKPpHp/+/oif/H+7Qv7WSgqJHRGeiZuK2tp4YakEAAAAp\n",
       "QZ7+RRUsI/8DE7hRg5N/orH4ylB/9ogBXT4LmG7ek9lxvl4pzzlqqhgAAAAVAZ8ddEf/ABR6xmsA\n",
       "Nr+ePPUh4jGgAAAAFQGfH2pH/wAUd7msALIStiqq82TxTQAAADRBmwJJqEFsmUwUTDP//p4QACfU\n",
       "UbgYAtamEInj8scyIqnWnBZ5QNiqpbPOC6nIuGg5gsOmAAAAGgGfIWpH/wTU97BOYnuNVCsviQcQ\n",
       "4KlqOTQRAAAAIUGbJknhClJlMCGf/p4QACfMkM0LABWMg4wV24j9vScKSAAAACBBn0RFNEwj/wMS\n",
       "eA4o7m+iqtC6BluWfCNvasKEBW9nLQAAABUBn2N0R/8AFIzjAAjTYy8SeiJ6csEAAAAMAZ9lakf/\n",
       "AAAMlKBLAAAAM0GbakmoQWiZTAhn//6eEABPmbEbIYBNfW/NPEpk4/jENSSqU/p0gFAlQRPLGvHc\n",
       "4TgpIQAAAB5Bn4hFESwj/wMTuFGDk3+isfjKT6yjiqqnH7luycAAAAAMAZ+ndEf/AAAMjhaFAAAA\n",
       "DAGfqWpH/wAADJSgSwAAAElBm65JqEFsmUwIZ//+nhAAT3K+OATSYCgibRC0bYZr8geze5PdDJnR\n",
       "LLsW/SOZXilG8Qsvq/ZpT0KYWfcs0ndLcmoJQnsr0aHTAAAAH0GfzEUVLCP/AxO4UYOTf6Kx+Mqi\n",
       "JavQhPqdg6ARr0gAAAAPAZ/rdEf/ACji4j4bqCaZAAAADAGf7WpH/wAADJSgSwAAAEtBm/JJqEFs\n",
       "mUwIX//+jLAAKTnpQgCCRS5zHS2pzY0ujX6K44gt7YCRfB/K9q3C1R7NmbHI1Vh9Art0Ejl80lET\n",
       "upQ7SXjGICDFD0kAAAAtQZ4QRRUsI/8DE7hRg5N/orH4ylECywACxAR4lZ2jBV/HUd4M2EzSngOM\n",
       "YUzAAAAAFwGeL3RH/wAVEHlQATjQchT9odMGYJWAAAAADAGeMWpH/wAVDNYRgwAAADpBmjVJqEFs\n",
       "mUwIZ//+nhAAKNmg8ARIbh+0zKth2EaxH3RgHmzIMGKoQ5CZp8241Raxk6r08nKSk4UEAAAAH0Ge\n",
       "U0UVLCP/AxO4UYOTf6Kx+MpPrKOKqqaTG4fUA/AAAAAMAZ50akf/AAAMlKBLAAAAOEGaeUmoQWyZ\n",
       "TAhn//6eEAAozriwlcOAIkDelqtFXViYlduoLmNLp+dS96AVhhyFNRM0QamUThQQAAAAIkGel0UV\n",
       "LCP/AxO4UYOTf6Kx+MpQ2aQMhC4Diuy0t/vcFWEAAAAMAZ62dEf/AAAMjhaFAAAADAGeuGpH/wAA\n",
       "DJSgSwAAAD5Bmr1JqEFsmUwIZ//+nhAAKQhkMYAh8bVotdgpg1zSPAKKVCig00hxpnCsSYVOc3og\n",
       "V5KG8VwYAOyP9ogxYQAAAChBnttFFSwj/wMTuFGDk3+isfjKUKVo0wALCUzBetCQGCs9BYV29xsS\n",
       "AAAAEwGe+nRH/wAVD+IgAnFsOeXEYMEAAAAQAZ78akf/ABS9avpeXDxRQQAAAEVBmuFJqEFsmUwI\n",
       "Z//+nhAAKNrJ7gBYKXC0eE6Dwy68eJOE2i1h/OEv9hL2e07KxPRHqwpA11sVzOTrHjkrjLJ/KbJw\n",
       "oIAAAAAsQZ8fRRUsI/8DE7hRg5N/orH4ylDSrtRhGwALiyJW9fZaFZtkrtn+4j8Pu2AAAAAOAZ8+\n",
       "dEf/ABS9a5him1EAAAAWAZ8gakf/ABS5nymbxMAB9djnKgptQAAAADRBmyVJqEFsmUwIZ//+nhAA\n",
       "KNrJ7gBYJgK4hAdY6ZNp6GtJZttW5gN63lzhZhXVeZD4iDFhAAAAIUGfQ0UVLCP/AxO4UYOTf6Kx\n",
       "+MpQ3DkbgRX7PYt8FZvIqAAAAAwBn2J0R/8AAAyOFoUAAAAMAZ9kakf/AAAMlKBLAAAALUGbaUmo\n",
       "QWyZTAhn//6eEAAo2sdSAK1RUReGP6ikh6HqWHs/JtUwFuUHwWDFgQAAAB5Bn4dFFSwj/wMTuFGD\n",
       "k3+isfjKT6yjiqqnH7luycEAAAAMAZ+mdEf/AAAMjhaFAAAADAGfqGpH/wAADJSgSwAAADZBm61J\n",
       "qEFsmUwIX//+jLAAKTr23AC/ZUFo/NDisYpIMPSGAg3rkEWUjP+xVKffYbucbQQwz4EAAAAeQZ/L\n",
       "RRUsI/8DE7hRg5N/orH4yk+so4qqpx+5bsnAAAAADAGf6nRH/wAADI4WhQAAAAwBn+xqR/8AAAyU\n",
       "oEsAAAA3QZvxSahBbJlMCF///oywACpYzIALzSjCbTz/XZVsqr8npO/lLL5QplMvDhRCl//DAj2B\n",
       "hoxXwQAAAB9Bng9FFSwj/wMTuFGDk3+isfjKUYiINEg0T2D1BfaNAAAAEAGeLnRH/wAVCNctCBY6\n",
       "Ul8AAAARAZ4wakf/ABWcuaD36qiRRYQAAAArQZozSahBbJlMFEwz//6eEAAp7rjWdTCQAVvVV0cs\n",
       "wQROGgLRKEpIP4LBgQAAABsBnlJqR/8E1PewTmJ7jVQrL4a4jhGEz33uLSwAAAA+QZpXSeEKUmUw\n",
       "IZ/+nhAAKfmg8AVqYCikX/h+QmDYOUdpQIKlolxiLLKG32yIgIqWUrMZBthbsCSI/oFgwIAAAAAe\n",
       "QZ51RTRMI/8DEngOKO5voqrQugixfSrYMhhAsGYRAAAAGAGelHRH/wAVkorwATV1nXOxQagaTSzQ\n",
       "ggAAAAwBnpZqR/8AAAyUoEsAAAAcQZqZSahBaJlMFPCP/eEAAnswRQA3IcBbD+ED/QAAABoBnrhq\n",
       "R/8E1PewTmJ7jVQrLyHM7HZNsWHuWAAAQT1liIIAD//+92ifAptaQ3qA5JXFJdtPgf+rZ3B8j+kD\n",
       "AAADAACurTM/vFjYagIEXFPJXx118MlmN7hDYI+Byp98tTgYEkIDzZDniL7XFCRyWNzV2DpdHLol\n",
       "rmPKIuFhLAAE1RlrImFG9+2bau+YGx+D0vJGOFeZTFiTuinoPKiETnMojJ5QhXQkg9dWtrMKngR4\n",
       "cKbnL5g9VVic2ybAx6nkWyonHSE2K7W81XuVTUqR3BXM9UD0cu12UasYHBHX7fYS+a3VM8qPr0P/\n",
       "Nz7c87husOXOHmGwBvnio0/5+i8jZe9KwRvFTK+Wz7FFywidZGGJlFBejOMXbJSVggvOtXlx/GTu\n",
       "WLQrpFG+46xqpZ4I57XwDfRuGLMfbYG3pO1Bw9XuUGIfhShjq3dk+gg8O/VJEJJwHGXu1GpXtjVN\n",
       "egjAS0uJH6ZFi3FILFt8Hz6oV1dR+G3GtPLeX9DnbIbv8LNdGGm5D4LV8vogg/x8Welg9D/o4VJT\n",
       "spI84OS0KeaE08OquBLtSR+abLCSf3xxxtcPvJ0qqyXoa9BIDN89ylawMopPtuEFmCemUHPFeDT9\n",
       "6BtnNonvwvVjXpWQi4K+xWLMKTtwsXx/GGAPt9kE1SIYQE+fLC8JWUJTXacFHum+fc4H++2bZGl9\n",
       "++mOPbKI/dRsu4FCDsxZQ8+iH/BI54Al9w+mzjNsQZc6iCwdX1WLjYbEx3gK5JvON5yXI5GslBKQ\n",
       "hCwJFjkD3aMYshmC/YAH2ktd0ZfAHCYbNIB2KyLoEZKLj4MNaNe8RkDC5hEZpCn2LNIIDQrA+FJp\n",
       "47/IMvErYXuC4j8QFVEuW09jIgLK4z6O5pFJzo4XOtRV+GdSnZh5vJ10F0RUMEN7PpgWqr4+flRu\n",
       "kOWHmr8me/S/nqwtVRNaGdyWax624GddQcZDLtP1HG7EjLniUS2YnehLbwcfH5piRkjo+eq50SXa\n",
       "3EqOXeITBb4+e2ZE6B7prL1kmBcTBVPysKWZ/ZQuQcy5ElFI/G4SlcQSydDQyxbTjlKoTGozsqpL\n",
       "AYHPV1XALqBStMw+4U4ZuBgzwuH7yjjLyCGquiSSP2bzQVht5U++ZezfXWQN3GHOa1lzF5pojx8p\n",
       "XVJotTVeahrSfRYMT5dwaY5WxOuqAElUyd2koma/8fEJ9AuGYkchhyUswx9cBoCQEK9HVajpJqNC\n",
       "M8Rubd4YaOoD01dew97ZPCCGluMRSDBQC7NlJOKYZ8uy/hGMpMQnlRbhYpmpbEb46eeoFopndJ4Q\n",
       "4kGv5ac5/X8+ci+n+jOWk9pBwpN+EXOLpK6cjz65s59RgiUMjN/2buneIJekLLHT9fy2/3kqRwkn\n",
       "FXoNL9xgXN1q1IISST+Mmb3DTA84XvyrPDWob3wrtX/GXDLwj/hlFMsT2Ocy0inqA0EGLIukEfR6\n",
       "DKZU5/YglKBNFXO/X+0kd4B7DlBdW92EUuQl3eJfAlv5Dcd0gHkQEr0m+jIir8AQtL5RnyZevt/R\n",
       "hb5norcsUcXx9B+EkFATYs+0qg3/pYKEPVvpMPRSEWC1lxIXP7AWeFTZGgfeQ2MjAEnyTU7wPk1p\n",
       "7o4PQX6ZEH2MMflLIj8036dLPKpS+ZnNiljcQ3PS3C25Rsjg1rpi0dKXY8Kiq3uACUaPc2yK+XwB\n",
       "R9l+l/U6Vh5HH75P62qnvE7DChGt37Cygg1WHZQf0YLm8Sngz3vmludsr48ctdDnCeKIvJc0J751\n",
       "YuOl+NAbMB9paryJkEdN1wz9ZMaHYm8k1/MoXAxSrkkuWhiZ6OptDenFQMoxFJ3jWXbKEzLK/5u/\n",
       "O4zH63InqWPmkCDL+E24w0tTTpUSaXzGppCsww7ZipjdIdFEbBgpTMj4P6uTEjQVQVDkF6U9BLqa\n",
       "+T1x49nvdRu+xfgCkrdwSgCxbGaT3rsn/gYRUaKYZaqVsjrwTTonk8dLuOHxkQ57/Me+9dMFKaz8\n",
       "Jqs8NuqsR8VLqgSTyO8PmhmUCTqcL/M+tyFAM9kTI3u4ycOoMacYOs4Wh97F16osYpPTwBqHhT1q\n",
       "vSdgBX6ZlYB/dM0uU532eMFzSf/rjeBY8qBJIfwkNkjg52FXWOrpwkjjzLu3Xn6o0lHtu9XdFvNn\n",
       "0ck5vn4cbEIekuZrE/xO8evBjJcHnI8Y1e5YbXUjD0YRMzguMiQRPonFI0pw7ukeiCa91LL/e8pL\n",
       "GBeKNdCagkvpnOsr1m5QI6FIeU0gg+2zOeORxk+g79XnEWMs6CnemcFo3vNma2saj50lbkpoyNK0\n",
       "tzfg1ruM8xPUkcWPEfkaQkRxv6/iFThH6WZOAG45lPjooCpxWH5Yz2d2yq6BNeXEsBg7QeD7NBAu\n",
       "IxA1qReh5JjbX42l2UE/sDvKAStAVFKbjp/ah7QXQVAG659CXQY8BE/bi0rMxq8JuPRgt10CtCRq\n",
       "vNvo5K3Iyk+PnNK94z0kkruWK3IlpnaQ7mdtLIiO3LIoiabzltSYy5mhHdeZZSkKv9A++8FKRjsz\n",
       "DYFvwbvmdT7G/ZNJBabcmKQngD97nkODPXQdIOuxNMkKrE7pEj4n/wl97FxmFowx1BJKSoc8ZMhb\n",
       "055T4MuFCK1lRx4CZSPxkpP1JIHm+pSNVaOi64bfBN7/GSZPn5ln0ELyw5Qa0OXi0EVRUYXKMo6M\n",
       "jCbOBD7LC9n2qSIUIlOpe8YBEiypNy8Z69CpZ1/l4OQ0I4llmv7q2/Ldwc3TMkcH7b8rdvzbubQl\n",
       "OZZzErYsHHaqeszzBWRgDX/sw4q2Yuzk/xwc3AF4zcVBIic/uGx9MgmIxuWtZQLQ6g8uEuJyYoEP\n",
       "qLGGBMFxM/FdfuhTme2fhhG8Tlon3zLbAEmpCHyQxuYpJmp7pH9UU2w0M/neqjwdqadTHWiPsdVR\n",
       "D2D4FZzpkLGsWRDCYc2aYTSGnU6KW2dnVQcvGxEVyotb7A7gylRvIek+W8O8fCSX0uYqXMY+qP6z\n",
       "0WkpTIaVhF2UcfX5Wv4higk1FRHnHDoj3pjk9BwBcrdnK8IEgP4ocms4gqdhxgQNg1Fg6VdKn9/5\n",
       "tFx4oI3tE0qqLhColiRLLU8vxvQ03BBkkGI4KyGii3qouLGoL6Fx6Wbox36EKx6k31ngDNzhq5S7\n",
       "P7WJFQU0ZCQzjkEXTre/Q7RR43zlCfNhbf1rFpWJWfLp7O1wPfObm4qTTuOezWWj2MTcSN1u3xuj\n",
       "abwpLnzqYYUnw/uYXioImRSfnmOKGDybyB+LPFfN9Mg5qxXfoWbub9Urhquh70PWuNjG4cHJjOLr\n",
       "G541lzyzBWbFVZXO/PISmc6hfZtPDbbjzibcIkS7yRKbCzcb/+R7yTDEgSiMeYiI5l1io6WnJB1g\n",
       "7xyaIzTLXdMJH2xBAs/naOpQFkB0pIBm+p5NBogoTSaeXUynIQN6qRdY9qKqDlxU7NtNx09kNtJ3\n",
       "E0mKhmwkXBkVNHH69oziUIoc3tE6TbKs1kI0QqNH/JAQeQvp2gyxbrgRYhmwtSuoTADQsnYWSAYz\n",
       "j9NGcMeOF1FfJXA384R+RDBeEGmPdz43vxfqboUcE1IPSfMW48MeZ5FIWZ+M3peLzYGew12eEZBm\n",
       "EU9KWY+03JAddptBQCXt4BbBS8DID6pvGE9ZGkx/qEOxd7bZsBRrA1LPDkJu+NIjH8/MSCNm1dPX\n",
       "GNjAeQQ0HECa4uB3GB2bbJrNV4K3gusjGXeG4o69yGdJ1D7UAZyG59qw8Inp3HfeUxiL0FLGh6S6\n",
       "8pWREN2SHq6HPi917In374Za/rDO0zqyEj37cq9eqszOVUyHP7tefeNU+L/jaqCEnWbc88SoWZJo\n",
       "QvwEZW9oB2fFC5JQTTntzM49Qau1O/3+aPnNEw4gK9MRtL1w7v46FyPA6hTlBpPriSkk8ldfzl8M\n",
       "YqWFEsPIbvhz8Eka7NGj6DxOhqYLtSbfEh90TuiFb7HPt45mETulMWWkxLCW7hNS3RYqUtmC+02J\n",
       "CddZhPMrwj7MbD3otKpqimR0j1KM/YCYry7pwXrp3xpvSsNfvaRQwMEcU4pruaMqWG32sAa6qGsZ\n",
       "Y1gHGxv/4o45DuTUus6iedY1iDjW91a2wrrR9GH9NPaUCHocYweEOMF+CwGzEKXm49jJPIKMsLOX\n",
       "PQrsuRbQcRFiv/1FkfirY2qkDQrScI/6HhTWAey9KuDiv7ns7uXsbpt2dQtxIZsnJPZt3uGL/S+d\n",
       "ZYyDsrticAqcOBSHgXTa/z2pUb55LmzXTrND+qWLEBdCZmEy38HVBuIoG4jDPQ6LatWy3HL6KOr2\n",
       "dr1j+oAyPi6zK/mlk6lLbmMBZP743dCaN13AW5W3QEczly3OJPnINWL2MO8P+IRM49hUYslDU9LH\n",
       "V1mSnCC+lv+bR+y8pj3xqhCHzkxsAsKlrCY6rkBMXWU4Jo6+ToEx3l8tS7mDmHmnx9YRCL4iFXmx\n",
       "W3cnF9FtWL/OJqweAc2U2vijjg3cZk2eqAdRr/WWZNwjzYAv+vWGMsNSKlsKp8zsbAxb1QGGjPcJ\n",
       "lMKPoOvHtty4tn/flBiNk/MCjwxmeXJHfV+cpGXcbxeOVupnb5mzLg22mVEOXkgnaGRXNSbu9KU/\n",
       "bTeR2U1pnCdVhbo4f864qEjzWUoyDCeO1K614ddsLTicPCb/lk3CwJm8EaZuUBDxY971ISQ70x3m\n",
       "T+W0naUnR0QMZ2MCoXSPS6BiQmi7IaQ4YOTYYUz0k1BbdH6pe7MvjTt9TIk8VXQDx6GLmzlzkFiS\n",
       "n8hm8UZy0R3CUVJPqsMFM5eMjU1bPK7ZQyHHwO2FJiyn8Zwk82I1NsGN9iadn7SmkeGYgSBrSzix\n",
       "lM3hVSiG4PVClgytHqGQTf5tiAXam4FIlw+8G51dzs/OvtN+ttvlNHEPyBHpnXr6GWWYnWk06BzW\n",
       "H9DDAmYj8tZWQpTvc2qGg5ogMOi6Gg7oBGZ+QqjgyAyqhqUBf+lVPGeh2ElwiO3YZYoT7bWGrEFW\n",
       "xUsfsUg0AWSf/I4JHMdEAJ3WrbgWgRB/dpg7otH6BSQxQQntp+N16PBCGy1bAQVw2hAX2i+Ajl4h\n",
       "wQdJGlnF+aqaV3NgabOhZMfUFFtv3WcSKb0rDVnLiv/W8xmwKHv8l/oPk5ceV6czbkpwBGgglQmp\n",
       "ppmjmrGjTncS7ZYqgInBRshIPdUVEWVjouYaJUSQmWWSKjjA5dNbKwlyq2Ng1QA6bfzeJ0uxQcKB\n",
       "bUPy0vKa8tGW0IQldFplgu5R8YzCHgS7i3lXLRraMYe4Xczd5R60lBhGLVxu1BY9GUXfT2G14Uke\n",
       "H8tIMcbCmhaVYAIbzDRVs+UO3CZn1KKYTMicb77NQV7k5PTUJC75BOo+bHwrFF6NL9xJZZ4xaVnL\n",
       "yscZPCyWXNe3vwTmBBLkrUJnwK9VAoftZoQ4iFRTyHZvOeh7DNyAm9y/Xbuv/Bb6xXp/8G7aN+xN\n",
       "7ggHUyolfzWrT8XSZv35NFWccjHIPpfrORR+wehV42gd+Ktbf4ASObmE7M6RRURibI5ABcX/aYBD\n",
       "30I0xLNDV617NZ8oZ8qQNwikxVjHsFMCX0xEMdXamFBZOL9M5u496S3tRT+9ywFblHifBpKvqBu/\n",
       "+Z/8BU2bZgFc9Y8pjUX7w3Wm4KQvlcvrce3zXFfb0ggh/2pDMp22WAsZT4Bxw/RMlKaKm/P/4xzl\n",
       "PC+Zco85UGcamJS+FZSbZaXWiIQPrBkayLRNX5AEvXsoHHt//Vw9GMPlm99ndTLP+MW9n1dGbSi1\n",
       "xYz2H/SKo4qFQOkNms27l1Pw4E903M+DbBSmkl6kAF0vcbBnx3ih3q3Zn3saEEnPk/AUkLrPBT/6\n",
       "V1DoaSUl5FDh93Di/6pHJG4O1BwVLc8MBiN7KWfzeMaj5GZxqMoC5nOm0KZjf9pSZ35nL7aSkf7z\n",
       "hujAlwEbzA94c44Cs7dsRhIVYZBe+gVS3ueENZnaLzkV9ZGgm0h3UmF0BBUpmLMu6G5jOFKIiStS\n",
       "HMSReIEUcjAIAsuKVRFQBuKxFizYjSQWp1C5FyJSWzHEPKz6wCM9tRv1zDlkn2IZ0WipLAX94qM2\n",
       "bvZevZ/svh49Y2Olw6WitRhNP4VkRvraRCixzHlXisd6MfkcpUqRGCoSe2JABWWKq7VMJy8GJizj\n",
       "Z2qgyDAgj+czfyE+FM7sDm19Xzou/wHNjmT4UPZ8bZFQockvWTPrFyJ7uYIS1ZZS9lagjiHl8/Df\n",
       "fIzxtxx6+KGBhhOOXvYVK2AA7YJr/NWZ4lzSi/sZC9+ULZF51zsv/lQRfoCodjjUlJJtUmpXLEP6\n",
       "mnc3xvQqIGcict+XHomr5w5OwxUHUv/pNV1uAwjD7/6MadijW19bVt8x1GZ2WkUy1jTElus9Ee93\n",
       "YEe2ZDLr5xFzWc2u8ODu657IefRsrYxcDbeWrrmBbFLYKIRUF/zP8NpdpVDvOHKMV3XB3rK6kOdj\n",
       "aB+OJtASImUgBUGVhwf77oygqzQ+vht0kmMd5sU2Iw4r7QbOnGDHez9Ogn3ZjB1NCqvZ+2HO0ban\n",
       "NalnHb42mDUK6lqaZywtZraBvMhQqHznNNZUMA3/c1TXKShSYRqR6Bm2mhHy6BMSe21ALqQpbqIx\n",
       "v+1dpeYzE5NbZMQQrF2h+W6boOrXyiSOtPkeQl2NZwOmUwNTNYuecWR99vk5WjuNzhrsGjyoQfVU\n",
       "7QQXVvl9y9o4VHd0HTfVhkl5vtybXetqAz3cN5w4PPHsZkves1kD9OTkBizEo666Z8Hr09lCoMeo\n",
       "VoF+sVyvknAxIVvP6PEk+MbApKc3JK+aPJCHp2RxK5VwD5bizvJ7vVm2WSfZxYcwkhrFYAl4hOyY\n",
       "jAFUXe4hpE7H95IVuYQPNEwD41pkTG0PMeuPG929nx8KhrWhifPpOKfJhVzhneD8bZeOKuItU7x3\n",
       "hGYQwT/lFCYKuLMyxQs1bOd560J8x7kbOM/lj48+senQptQ64EWX7w1S0xgDI/psKPElD9O/P1td\n",
       "7MQEbCZ/QP2GO+iCGV7w97UycjgupGKqkaQRKwgm2O0EeY953bnk/ZfR5Gf8660Q/ykq3RdwVAmx\n",
       "+its8qC97yfDQNyJOTEh+XYRGoNOZfUPOMRsM+j4oTzz2HOkOITSPvFGp1NbtEDZpRcEavayZJbq\n",
       "Kl4m+Pj1dVBXlfpQaLyGS+DmT7P11iIV9EHYAMSG9hzteaj7bf7XsxfrGOk9FrwEljrB+0MLS+rv\n",
       "+QdIElW9bPUkslRNUEbJPDwPS8NthlCkIS99HA1Q19uM+zdf/mbkcSjKsCCSPG85il4AYS4Pg/rO\n",
       "Fd7Wr+I0DcfUCvaD1coX/2KT/bCG75q8+oWBrP4CgkwzQ6PKuCa9hYt+1m2530xkVZhKAadqRxl9\n",
       "CI1xSMCzLlrUtYUlhJgurYOmEoMPve8uKv+Jze1MjIJI7AMDyCb3DISutoyXQKI1s2hmeW0sigG1\n",
       "sz8tOdwvR3qWkm3ouIkrNVFg/E/IFbbP+AKG7eE6ZdhnBMzIYoca6c+Gg9oHo2WUkYfuEDWKWsrv\n",
       "J8aUqzj4OwzX6Mtbj1i31sb3Q6xyhGq/YEX96nOcZDJ68jr5TajE/VSEMzOrCVhHNs6Ni7s+U8k0\n",
       "K1i3LBI8b3r/5bcXq0O0Tv7aYKArihw25lOWtqJT7VYJtCVpdpHqC31T8sAZdjbgir5IvEz9wgB/\n",
       "z572xeeAxjeGrjE9F7e9eInnrbpOqzzzfmCOn5bfNpWQe2erCHl+6ZPb+N+D02fuI05M9QAxGl5Y\n",
       "wiW46DzY1OK++AF8JNH2rDumsfs941zEtfsx7fwaWEkfDnhvVMGirCswbB4wF+nQdeIvO0fWNa0K\n",
       "o7zOZAy9A2+HF+End1Zfilub5iJ6XrYBz9PtqdQzeqUjqnrASzFpimP7QWlzWrQm7ZKC6BUCGiJb\n",
       "zQFzqwNANsmht/LaZxOpuvuArD6OG1oBuNd//Pc1I2j/UuWTEEn2eQjepxKiknXGXeYRosTW7k1/\n",
       "869Hso5kotwaqDrt3ne2s4CleobylaNpKSOt/njuGZ+zpFL1hGxtixT9qvDDxbyr8NTSpunki4Bi\n",
       "LXVUZdSsAyjLSkfx5Nts5NvHFoEZlGQH03fEeStRm17681EP4RQSzVc/onBWARBo5WAp5IJckqIs\n",
       "d/19GvqC3aW1m5QiKxGhls9iagZ0NqUWGO0Ysn5PtKShf3hX8nTAlipMiuKgtT+eCO7V4K1J+By7\n",
       "XCx//JhxxLc+ns5fOUH4tuwpqpsDuwO0pYC011PY9Eznn/CBHyTc+6Jr2QA876RjoBtVfr65aoQv\n",
       "tuHlljPDb8irunJD1YUVmNG/gYR8YT/7AfFn1Zd8np7j6PqoPDfeIQQHFhxnBqXh9TnnPHfArjzu\n",
       "JVbwTdf7zcgXx6qacoqSwcLoSCVu+9xHFfPCF/YCwwnslRayU5LIdKm7vFhZx9YSzD8N3iKc6E9V\n",
       "vrFi6bBso9P1qafNxLDkYVdDQfEdeaMvoxgC8buxzovy+2if+dlRw2s38qyvTpjzvanhP+eS7fQg\n",
       "r8E1P/7Zug9FdavnQDgQvpeKYG1/N/geAfUVhMdfP/Cwa2K6mE+xUqMbe+LUC3T+3/puRuU1u5o3\n",
       "3MUrLIyzuKbDl9r/ei/JeW5YyyRiooi/seCIoKGEvCSz0m4VMfWP+27+5vwGg24WZD7jb2xX29uH\n",
       "BNPoZV7TrhLClv3kNLcvX8CTbiLYrkIC0Ryu9h39rcju5Kvum9/3eBWW95FrD+OtUjVD7MtXbAFc\n",
       "1LwzrB+tUL0hRFkbk7c1Ef0iiZPvuQUKRB07890O8wv8zMxDNT/rWrTiMO/t3lQjf4aJyTQjT3No\n",
       "pCIqs4G1TAUK7hmpdNucQc5vgwvDbFs57fRDKTk/c8B7mVh8x2rkPFxh1i/MmW4Husqgmxl1EqRL\n",
       "KHOwKUfLiEHSi+kpTe/XyCTi/0jdf7wlD0h1vMChujC22WGh5pKkEpM4SubDKaVYMSjWKqxz7Tru\n",
       "AL4b4f0UKwiswC7DA4wNoUQntnGx8huahnKS2yPm44sDunlbS+zTIU7R64UFRgI/3mOuysznMkqg\n",
       "NLDmbfcxlsWMzqn2INe91Hk5uZUOHGDXRShvoZH/ENapKGX+U75edfm1PCGvu88UZdEKCDPMf7dd\n",
       "4954oPpdAIvtl3OgahL2fzH6NobuYSvkBR542rMddNrNMRXBcmor6jmqeaa18rVxbfXZlNpVyvoz\n",
       "ZMlAtDe/qwt26b6wbKyInZvpCtYZmQpbFQuWeNUyhL9fk+71opPf++3ig5YfDup25peCjEqbBP7y\n",
       "VU5JM88m9K4gLlWSjhtPYi9AybAD7uZwXlXpc4xnBDJZjVASq0fa2bUXKlcr5OIOydYDo64guLOd\n",
       "sa06KH2pQx2ZIBjRhSyi8i7GS+AgDXcJjonaExGIRwuiP33okJvRiY2xTqjWjg80bnYt0Xq6wv0P\n",
       "4HsecgopAf9lZc2sE20z8ioSqIUKtj0PPDL/eFi/0Jq6pBx15q94Gp4XzrYVi2deqPgYOG0loRK/\n",
       "pBRuZ8M/4Wse0hHr7EtvtZhBT0KllY8kV26M0A3U0DpaWQ3zOYeLaXDWZldWpbO3dzyfKB9Uom8f\n",
       "1+BIppHwcU3d9RAafd7fY0BeyxejLjo8CdapM/D5DEbLpD8MBbDYWITxm0lPWZTGw8tuQlTr4Taf\n",
       "P9fI1YJxRA/1VpFWYJrsYaoBSma7PmxL1pxOQQCizM/9KnhvkhlORJpGoEHM7v/qe/ZD9y8tGuF0\n",
       "iicYH2UxViWt8ucmIvBkspwfatj0l37p+wqnuZCzyffuI/g6KPoD6RW0pAVTJuF09M9iwyiLckle\n",
       "/LKluz6xI4RceADPrajj81l2Vn8vNlr6ogqkdp6ynIE+5HE8g1UTM/H2oDgYMJWn5vQgWWhArsac\n",
       "qRTzinW9ztGo9ZVQX4Hfge8O0EYBM+D0WCWpM1asDkcSE5Ru2wQmqDAYXxPLKUKa9X2Qq7TBdK5S\n",
       "8B35PFhhR7SHy1NkPVaOZgwVDROvfViy+2qCaCHScHxdKo68lVqZWAdyuwRRr9NDDyfABqf0AP0j\n",
       "DA2nwicwkldFWcgrIjCNXzD13hUd5UCRHtmBMO0EQg0w5gsuSM30yOCUr30PtwY2jWtUj9Au4uvK\n",
       "X+01n2UWbRbFON0ygfFmv7uqqnTwR4NwTUwLr5Ktgj8sAYOEDQAxbKwbcKuwURnuEYBEqmL254zB\n",
       "jo+wW4KIFEyFMoHsSk8bEUNDfqsHSl4tA/24kAajdmQwPBBdqkKS2KWby2x+rOtnvAASH+SJquvO\n",
       "ilzBxITT5b03RkRKFmCW0hk9amdikQgMuUpBqebGeFbKzr/W0WmFnf3FI8ILVuPfSj0Rz2nGBrmD\n",
       "9lWLPpK8Acq5ndVL4aWbKba3NMo8Q8MgWWz++JCyLPMUiY3Lm5q8SWXMidT6ToxD6Ptcwsz6BWw2\n",
       "3pO1CGPXoRNYJclsWcSVz4mHRebVWUgrBbfsVcTnMv1q8OaiUpAhmoB+vQoyUNT9WQDwOpfvAvzp\n",
       "uFQvv8FF7+a8jhZRXTRDtDtcz+uhtOAq8yTEwYnG94pD6IU83cLoJ9diu/xys7e1ZmRtM0ckgeEH\n",
       "Tff8Crha9Q/mmFqo6v/c4BOPjvuBC8jYx+Wq5vZysLQwu8BuBJoaxL6d/yzFuJLyKTq1eci2Rv18\n",
       "Tw6deph75wOAXrM4Psq9hcD/YyThQlczhdfwA2v7Z3JxJZrxd6x3htWIrLAPWL6b2jZf1kZvdngJ\n",
       "6koMmczYQad7UgMu2JtuF4g58T2JTeADdEOPc0B1KHwK3U7PMEwolo/OWDV3DeIXNVMb6cD/GtP7\n",
       "PcxCKxtnoT4b3ap/Al+lUC4G/+dl8+Lph49hWOSQnSMLfJSPwxvebvHzDlh8dTEVhxthfyw2zXjN\n",
       "dcKoUoUNYU/v0J/N+qyTjUrf71QVFhNCq8KAO+OdcIm5q5MryarsnooyRmtlrS7OseazSoqC9NTD\n",
       "zl2v1j3s4cPgKtj/AS1+bd6KGYIN/Zmo26Mr9IAE8LSCqIhqvc7VxQartAEh3ALnxvv2tp9VcF6n\n",
       "Ny1RLVLAxmcEO62Zj1nhr+IHgQqFHqkEc/Rel3osjvtZroIswYkpy2em9dOq9HFKed0Y6IOskOn1\n",
       "CDBXeen9mOPyKiC5zxmP1XYfuHWiQvb8GFkEv1cz5OpfAJxW6AKRSxQ+RHwU5Rk8sgDihRyt++nV\n",
       "/wmAy12GlF3SRG/q9HpyyG1R/mdWyJnCRznXne9NsfN+MqkFnQHlFt9DeE3ZBdIWJEOzzL8BTV3q\n",
       "wokxJc9L8ThLOXhpyje9pyfX+6DrRyJ++sVt3JZ/fpcrHXOv/co6oZ9F1qk0GiHB/ybhBdgVFaep\n",
       "OxTJTaHTt5oCrGamrkRgBKZIR/cdf3douunZmpUGNHF3oZdBAknbqOeuM7iYU214uBFzszGRvekz\n",
       "bF8bZIsxv2CL+IuqkHCHfnFx9DXqk1g+YhiKgm0K+Kd//kqZmP/y8yeC9Bbtk97g1yYFI6MwHRp0\n",
       "8cBveRZgw0HKWyjS5GjcDHQpYIokOL9ls7zohzILxSO/wWVwBBxiN/yhAc7ZNCinDBsUuzi0f18m\n",
       "rk284ldt14/beAySqQLyctidNj2v2D+7ueRb8QUVlgw4wqrYP3b7JkMktNFBQy1fwJrxWq+/Wvxb\n",
       "D8xR4QhDHIdRFeMfjZLrbCqtNlFtU1ybJGug6u2C6lAe6ljpqDShOx7IQZlVQB7ZMIgHNShTcvwy\n",
       "yQ0jMU5M7hTE8KxiNBaNoTnBrWdZmNvaN5xjADafy47iJ3U4irfqwMgLaTxmERyFAlWb52EUTrxK\n",
       "GtD8E484tSAtBGV1foucnT6FG72NvwOde6IBWGMcUd8hxowNEld8SO11XB827Mv43U/fdNCpT4HA\n",
       "ZoCANk9C13cu5jv3Xidtyqt3TQZNPvxQxbOS19KPaeJz0gA/QTNeooDPgyRZLtuYGnQUOeDhN8KA\n",
       "BW8HCEIolhjeRgN09/b2Ac2RjVYBc92wF4zolQ+cyuvHV70H2IRZY2KQgDRdsgj58Z1vacdGqYYz\n",
       "mVpx0L4uG0J9SWhYwyOvf6r/3rsWxn0kb92LE7g2BbRXBHVW7J3tpO+xeXH8AKW7fauuBUnvBGlL\n",
       "tqoulqHJ/aeNUkI5u5wLHrCzhzGFYkfqy3DnHcz+1y7m9GaEmvPeA9EDeC6DpGHB3THZbm3RP2tP\n",
       "cOK4gC34z5nZBSVuHDaYpVaY/FGIKmtUndkIq68DlAVEoWHW7dsTHCPqlav2G16PXgtp1jyIqmXS\n",
       "HW1li+MZY6+CELigZCH3l7uwRyeIAGU1MlMx2LVIlRB4eWwTdT+j5XLVl6WTK3EoQMtsK/oAeQnl\n",
       "VSwHPCtShr83D+rtyM2v0DahA3TVA9ehPnOpX3xNRn20sc6tlSKy1mTgHnLd2yaK09vw3xZhHcUc\n",
       "tHa6wcXeNI9/kCAQpgD8s2IHMLfiqH4/XshxD8EIFvTaYEEjBIhC8dSBze19+nr8IrlTAvdhEANJ\n",
       "d4D06mAYT47fvIcZd20miGFT2rsljbmVoTT9pOqNwz8mwh5usvyk88cDovH8o7vVcQIZgQvPY3a8\n",
       "mI5RbtAxk8Dc7NGmJltU6AGCNWW5lN6/tWN5i8PUVkMjjIXg3YWNQ0zOFTiI24da8pR7mbwLpCT3\n",
       "j6WKh7dpF7atZuKN4JwqxUTrXKonVVMz/mv2JOyxrNyzNyeG1Cw6BBdzuRPkrICtEiR0i5wmpkvi\n",
       "WmoHq+oxb0zzKuXFoXgqZZsAFRTQcqQd6ZJaRoe4l29m0gJK8ZvLHCxJUr4ZRZAQBWkQKbpT2o7Q\n",
       "exhhzPFVssszYa2Vmn3tweGTseRUpgMcQxmdazXa/RSlEg7tGhPmjBZmWh2AVkzb1g1P5bxHKxnB\n",
       "On+dxyH8+S1IbPHZEwN0e1rH/dQcuJeGrZCsj4YHk9zu37Khs7Z/+PFQkchgurQoUnp/cba0FSwt\n",
       "uf+JVSOAPLqPIMsvogDRsD3/m1A8ZHB4SwiZG0XsPqQLsJryZgkBtUeQsVYBUg5f0k7O8FZnHYUh\n",
       "XikIMHPDPKN8r15b+D+W1mocEYbyt8TTi7p654yr0w0gbwilGu85sByguxX+lwW8UteB7aaJap0m\n",
       "Rxt+DMd5MZ7VeYV7s1xB2CY+ARrGI3h0m95/5wz8qpPXVv5sRZ8x7TfxDqtpZK9b6y2Orcho/jBW\n",
       "ZAgwatyt6poEVrpjSDTVLeEUcq2zhCUvkGRTR6EooK/NQU28xvyrV84YIkbmfWgMTzY27idvP8m1\n",
       "oFraQLlyq6feVnnv0gMhmwMP8l5A5EiHg+zPt3t+wFosI/rs8LtXUe9MeFpqCXW0iyCm/knjzCnN\n",
       "/PE6J6Rr4ZZCFRIRwtiym5uPn+g8C6Q5QEeEYwwZqJeApZ8Cbx7uD4ewVqaSOMkTVSxxKP3dZMVU\n",
       "7ONu5b2z1s04in32Gr1hajlY9ysLy0Q9jx/yTq9916PVdAlyYEKrC5ltDsb8gkY/0HAZQtdzVpZS\n",
       "Ro2zH6hS5C3emN9BxNq9lajmVTPH/8AeKDCCx+iWJMPjt4C7tRHiMXTmOIXvPFWSrJT0NCMmqJt9\n",
       "gL9xyFeEFa1Ji7tz7ovZS/7A5lCn5Cmy4xf9YnDkpPRYNLtwtE6TPovOSUqI7KhXYe1vMv4TqM8U\n",
       "jtWiZcXjpL2/V7WEeI5Ol7uW1Tvt9T5Gx/6rZM7v9eOIJiNmRp7vLJ1AekpqeDWpaGnyZdiUuPoy\n",
       "rSCJjB92O1Z7jdsWoTUTZ00lJWJ/CxeOH+L5iZL3cFvFHCsmpixFRAln4hW6QFMEKgcx6YeSJQmu\n",
       "rS0973THxZnhmiFeaVMM6wDlNL0FKjsefqov3mApESMT3SUyrC+S5i6IIaPAfv0ZxLd7Nw+CWcAv\n",
       "QPz3X9/ayjaPH8B/Vf75Ql/ySpWLv424CGwyInKpJlaRL33RF017p2i8DwWKySRxx/DSdi97hQWO\n",
       "NrMb8reHuIZdVUdtf43flpRnmB29uD14R312G3CpvD4/SjmJIOciNCN6iD2CAxQYyFF62TmLRsgc\n",
       "Cc0NK/PzE+Ot0tc1idQjcPg/Zl93cIoF1HWq2i9gHkjDPCD8BS0otVPFi5ekgPa82VLLOxPlw2/v\n",
       "2/Juw36HafX+AzNR8Zfs7Yq8b2NwFIJPX4jtFKPnCDZX/PxwZd5pIKB8KS0Y1U3F5PbmP5SQxtrL\n",
       "c2L5S23XuICvryHJH8WYzpcTAw3rgqkGvcwQ3o1S5xoHGShDj9XIaKEg1JBUiVr18ZmzAz7iQliJ\n",
       "zTtck0voF3x4EAk18/IgcZGhncdjiQgYeI9ra+K8QkbDkG9NRXALMSJLWXxQ+O1rWtPoUotnKxpO\n",
       "L7qdoN9VEocbVlD0tqELhj4HFhstuUkjzVjyyv2fYN708PrmguJv+h5xjrCwVJzGHlZmwNJVTlxi\n",
       "HE/CBFh5gkc/+C3IsGp+BsCIWVMO8QVt+FnMF63AT1ttJ0D/mMvcQ2R/KK1TTSznu7/Br23wGZh/\n",
       "nMQhkk5ao11sHN7vuFgn+CnLrX4Efx8HMioy7AOUk8kYK8Y/JBFp2A1pHH7MZy/2t1F9bPlliVkh\n",
       "SkyzqfyFbYntIfSAd9tHmqbIsiOulQojlFh4I2FzEDVHD7FuMi/EriWxWF7+QwRt5gXuETZEfnCA\n",
       "UGE/vnvdZS6BI5cfLwhC4WexE2Y2DNnxn3/HmQnj37QgfVXqwgAMqmToCt0+0eE7Pl43Zuj/OfbF\n",
       "pbCAM84MCpSq4SsMtJE2rC0ylS+3LeeVX3IHMJp7OY4hMybRhgGcXaLIt8e6ih3v3VK6GdBKcd+t\n",
       "XCbwW9zRdaxA5lFhuhfooDiTXv4WaBar5T+uaICgMuvNPecfYV7UMsWwJniEuXYFtHrMmGKEDiAP\n",
       "M0fmAIM/KGIBo9hUCiZTb1gfvyQCpWW9qvwO7lrcA9Ju7EHUMU6unEWRwrPJ6IHfiISXLBm+xVkN\n",
       "gr4tAgXsXJsYH32f4FCmDmG9bylU68bX11DEG7zwhCsebEa0SaCV1jZXYCMQNPGD+fzz3U3mhb/9\n",
       "R9zsToer0gBSYDotTzx/xbIYkhJT5aTAotVga/MOO82XE0ixiyYu/g6VPtfv8gC5mJK5KV6f07hO\n",
       "3ub15sEdwF/OLONgU+U7uK0VfUWJl6JWWc+BgVhbgEwppgJkD/tkFXTKet3F8kUROIoM+j8+aWYD\n",
       "b1oh4J3PQENbexuB6wo16CnDVFlRZQAr8sPFy3R6K8QMDSels0BoAgMKkCY09ijiLLGKxXK2bSYJ\n",
       "LaY+59UjmQjrQ3hYA7rixHMwqKZIp2xaj55oAMoNU7QPa1PEYQHW0bkqadg02/7wOt814yUufcPL\n",
       "zvzm2IuTqWI9i5BMVajcfRa+OnygiOOZvWO9xR9T7QzuCMn76Bxex3OT67jybjXwST92dPCKS4W+\n",
       "ioFGNWV/0q3668yC6+dpXWjskx9HBwi5nwdrOYgzxEqNtlemrTNlL8wz3bZvHK/IqVihpMwHwhjQ\n",
       "lIfQ5g0wbbC/MNYGmeKc5aOUv8L/dCVgJaiwpvNISWD0fbAA2JhE0wtGMmSMKM+P8ubUwXRcIzQq\n",
       "TnrWQDSRSVu5biXt34BLRCDFN6zehzAvQG2qs1FvT+q6PMK4JUJA3TuAdaLY74N2hJOsDsFuhd+C\n",
       "PpjzYx52zhjxeG8F4e0P5yo5GyS6DcPs2dJUfaf8yL/E+hWXeo2EX5VRfwiXnbv3AFnXhk1sg6rI\n",
       "rdTEUcbb8ilx0pb2oOZ1gmYOTopSLxqnyW/HG/SHqZvQzsC1FNqmk8oXOOZa1s8MSmTM1kNk+8b3\n",
       "IU+X6RL5qwEd3Q7kPEUYe26t7MgtDYWkp359idS3/awVEX00kai/6M01r1fGsAqdQ+6PDWaToaLk\n",
       "13q9NYAzbhAzK0JNP4d7yDidFMaZWsJTEFVVxxT9O8DA+RVcX+fHTNyDOhsN6J4zjuXKKz/gP7Cj\n",
       "fWBhctSeBD67gpni8hwGJdq4/1MbgQl4ff6rnewWaQGzwivx0KFyT12MwFQgPUQfYzUliO465Vyz\n",
       "aQtDz7ra+H0Skrp3ON4r2Jnx4VMtjWhEWbGd2sNEk2EaO4Rbgy2tFUMXubG5A9X+ArHjxno7olfD\n",
       "GrN6exoCUCO2GTAjoFY7cGaklaY5ynRzWDKCjpQdKpv+PEajItlOjGx/qVNuj4P8s9adz2CUm5UC\n",
       "iz/dsiDuNbZjXjQNvy4oRXF+b1+tGeVX91fkqMccUvJANwE+ljdhK1jPgU4PuuHnFXcsC3O4i1F2\n",
       "UjsAs1/7E2PUlQqi6gdoEgrQTryTSYaowK+7FB3TMGDPdKXkuzN6HulqpBSGwGO5JmmlIPKJR9uv\n",
       "pM6dZZQ+PyWOZUoiNsuwg7WTd7M4G+O+ykUeqZh5zQ/OsAebfnZfk6sDno2Z7GLQ7kotx9MRyP5e\n",
       "fRQmAur/aCpV8lbGfTrvBQKbBwXv1a8KUFCKj+gQyE0QcohigUNBfAQCLEZPhsNIEt2bVl1BjdYZ\n",
       "zrC4IigspEIUtJOd1HbvtuxMIyigHRJf1UPqyCmz7NNkDqxvCQL2+U3d5KF2vEuyKvdaYytkyrKw\n",
       "uZE03sp9Ug+aJBDvDHQNeqpy2u4j+g0kSQKPklOBwwLHZm+/Mmsiy9WRZiJwLPCJV5XqEKIuG+8U\n",
       "jDyzlnVbcpSv+vJQ8dYRjhcZfjahi/wYa76wMeTOUDmt2B39JMQg6f9NPrr5OHHANkljzkd/pXdm\n",
       "rS6/XZfwQBTgXGZ4eSzkaZm8kZ1Z/tjLri+vH/GNlOeyF/GwK/s9yM323Mah5BddHVEbhDVFXjpX\n",
       "CPaZ4W0O5V9ECQ78iVcyU9KfxYwsfKICkxJNv4v3VIimXNA6t7KNgSwglGvvmemkaoDUS89dDn8I\n",
       "atV960mWGTieO5tF/etV5zBZvh5cuWANw/Es6LFPXMW07zdeE4jIW5qjyQW1+8Z7diD1K1jpefxr\n",
       "akkPpeulyxF8rxUZ5QtdqpcEkDq9E97+Ulxy7+RbjGy6iTteatCyyUpUiJDPbi+no0jw9+dBfwIu\n",
       "TjwmwQqOmtrglppbYNa6iQvQ5a8Cj1v3pfrFfoz+48bQV72ZLiwaTbzwlAy+wsbHz+GGgG0TL7Kj\n",
       "bmgZLazMzAaKo/E0iXGx8sMIAhXsRv94qRxxZ6r6C6k8OJqOmxSqcID6wkWF7KLUPsSiirtveAwP\n",
       "qWMSq4dy7bk+vYZELBFlbQdi7z73iToK5imNeHCS3hXNcMOUuRoY5p8s9gp9ptqPlsXSC/YmTc0v\n",
       "mGQAeVdLMNynQys7+P46P2UU6+p1abwefHBEQ4aTkrIklQCYZeRT5pnItfUzh+f8C3Xf6QMbHGPT\n",
       "0Lzgk07XiU29bf/z/XzkClHb+Lu5pIFcCxk3F8rkoRfMnkpR2HkFxMP+eIAPr1xFj+92BuYz1N0h\n",
       "4zEtrXuZZD3v4KdAFzME6vy4bF2f4iTgrhRy69ttpP07E6ZjnZrISvblFqLCnNgCDgHw3VcaZcfr\n",
       "HGOU98pQB7h4rGhM5CG+7drt627t7zl/ax3m983213Teo0XDAZ9pYJCjAaSB2gH6DbhE1+O3L1lx\n",
       "LNTnHx4MLVwTWEkqECSQYGM2kv0KVtDoDltSCckfGt3CKxsBj9m4/5DQHK3Oy20sAiwZKnV12fBg\n",
       "i1bKnffwuxWEqKSFE/maLEgZai26S0UULM9CsLWZonUhofiErkSOxx+nQaYEFl0cTihld4kQH3pz\n",
       "aM0kFsX852/sxKTKxMkvIXpU3BDcs2LLYpCUmybqVc7OBxPpRxSjVr+s2CBg/PHfnoSVvL8QTw/0\n",
       "LIuJeABEzKDzfDULJOjQPtu2cu/Bofrn4vUxqYM4/7hU8RQE2tnStSyiLwfjDNCekbeW+8+SdNbq\n",
       "bGk+PyBYHXT9hfulWXUt3Beqa5rWTZL/fGWHGQGDc8PnNMfZcq2c7t+cbdi8vVng4XpURWogM0Ed\n",
       "ZBNP2D7RUl3J2Fv6ufEX3O9C15FCD0kFkays2AhGtOxs02l2pes10Bj7znYGSOMuQkF6YQb9tqb6\n",
       "i4d6zsJB7j/kG4j7UDz1OWmr++AGaQbe3UZRbcDqhg8oReiwvBnPzAzvKA6kcl9+Ahu2C0XxemTO\n",
       "oEYEiVX8xEGParJdWsN64YPO8ABMtbJSE4PzrMYAAMy4Msq/ieaV9+/NhW+OKgVP3vyp7Q9QCm5q\n",
       "L5cv0BM+47Wqu5Do9P5BF8JY/zbw2s7nqw+B0MjZKiUP6Vl6PovJaFiiWISWfvSkvviiHDEE9HAW\n",
       "CUbw2sMcu5+KHJM8lipkWORHXrX3Fmh2Qco5dk/MFZ2Oq/ywbQnUOid757MvqGCzJlZJ77h8nGPF\n",
       "9CjfDWxzFt36TXpZc++h6PevWeYMDpjeWxbJC99yMFPXYs5ER5uokuWvebZY4EB7M4ufKkFCipJD\n",
       "SoM9lm8LndVyxf/6z89iMaYJe9jCcgcVzUxiaRQZQmxoX+mmHz5cVGs3m//l9osHM4zotkOsqxVz\n",
       "NPAIlvf4Cp7nCCBd+GvJGX8x7RItP2szywI7+OgiiZDpjH+TtU9vAVwETD47i/Adk1fAYv8F9NIs\n",
       "vPY/vu9btyJBxm/vBGZnt85EOpvIYLM2KouzotHpx1saYQP2kiOyUx81bSyUMnwgmD+n/S+NXtOa\n",
       "CeE7s1T/+f6y6kM1RmZOYsCM6fGwalHYr++H0ZDI3j64y7rA3jisOFjzZ+hm8zvqHupz26e3ljOk\n",
       "hmTFca2HK8Z0F54e9aznRgEccUWBSjqJnTzDGw3oylkHKBogc+r0Qn5TREJcMtdr973r26ZrveVM\n",
       "b6Kc8/xQSj9KAFiYAu2S+gCZIeJ9BK8zM+NqfNsi3Zv84nQ4/bw9zzFjVQChKR9FgkwU6IkDHG1N\n",
       "9rxG1rlWNKkERYKaB8eKHKcYO8pY0iegzzFkflcxrGKvcUHgarPcRn2q1+ZwqZLQA5I+UN1SMke8\n",
       "OVnrQbtjMrQz0uneMYP3LU8xf7X/HmqChPVpYpDkt21+uxsq6Zs6Ip22rpc97ex2NL0s7iYSy/y1\n",
       "QLeXscbiYz6vjpMstsWUd6tWZf8udCdDXpOWhPhu0oRqiT+TZCuJhFyF3gozf310i8yobIgMaora\n",
       "mZNIhzQAad/0hfJJDBeHoDUctc0W/OlOY1Zuwi6Mqvsfmrj+pO72SjCO8bRmRuj5QPGJgaLaDDHb\n",
       "STIdzLARY48Arx3PgfQ7c2GhNP+Xn2K+TIDkxHbsw0baujYV4BXxxpk8LDiSJvYcolQHkQqyE4aA\n",
       "6txIDKKLWNZhXh3derH+4bw8EBkF298a5ohXvqvq94nrsnK8EeB/QoZcz0Rd+DmcW+4ItG+kGHMI\n",
       "WN5t9K08fw2L6Oz1FssF3HG4A8MxvCsclWCgJDiNw+/uI7/rKX3kbjkDjxb34JfnNyrHYdWeDrPj\n",
       "bSjE5R5Mec9pFVuUZWiI8ERfZD5LBljpljaGHaJgrzs4yaxsKEbdl2COxIGFq7mx1VvGZTucBOS6\n",
       "45/9my2qRmBJub1QKRYC+5SxMedLNB1iU70iIvygyk/XHT8qcDBZVeCq4cTfIAPGFE9mmjeROm5q\n",
       "IHy9WwqomYVenRqSPyQZlBz3k75lz1n3rpnRRFj1Cj6G4YlZvRPCNUANq1taA4pYecL/z5+iaV19\n",
       "tiTUUow4EI7I/DLz/ywUJh7bOll1R7p0+HZuGc+uM74jDvvMOUhMhZvg9Jpea2SrDQEi1CyaloTl\n",
       "Jl5T81gixGrZRCyobH/Pr6jbIShATiyXDHxD6EwKAFg5ndAnqI3P0SG9h7quXTw46kuJ51E7hUTy\n",
       "ORgxelWWLqPZDQqf/8cfBPzCkRhUUKqXO9lNdSBs2vPaXiwdAdf/E4SAwnFBQBzSblR8ohgyEP1J\n",
       "vsAreXEidykPj+gvRIPugDPMXMuTDw2aQYhnrAbvBUf2jYc1R75lW75Zge3DRp2gYM4Vv1L8+q98\n",
       "QA9bJxrM9bmMo9Rt0fVc7cf/vyug2prwqLiN5Tox7PTJVOkC0V0U/w/DdJ8CIVACkhKErdvf85c9\n",
       "tOYkJT6tDFQpEkZtKauQJ3HEA2Uzcqn8oZDaNFCVZjmqlMxNgs3sGd+s5JVxxDKht7XT8jNsTzh8\n",
       "ovHJGJQa+hi66PfcSNv6zWx0D6HplTGhWR0S/RPKAtaBZpQIJ4Pp6RsA9cHv6u02YSwQ0PESNKzv\n",
       "64kUzZIuHoHnAOoJqH9cSkshxHO/lTOZXmSicRXBBav2SgLQaOBDrra5mqfOGnMdnrkX55ZIY84a\n",
       "kYWKYFDNfSAOgM+lTXrM3vOOdGcPRPSzmPAvT26vCVhjH4E9/t/txD/LFtBso8Ptu3sBr/4Rsvgv\n",
       "Qp82yo1dHI3e8dP9JH8iUZH9ICVV3EzkzT9quGD+Av3Qkwtxc7GDJuF76iXnUCTrrTUrroUnQMOL\n",
       "ZfPPbHJPDdjza1fJlsO+S6hmNMG82/2mdTo7m36yb9XK+O38EWKHwFnl1Q0FK3Dh5ewrZ6yw6hYb\n",
       "YkdrsnsKkzx7xpmNlWFQThZ8KPN294oCEzinfL0ZfBiuMv9eaBmZcLWI0bcbIA04OJZXqI91YRrw\n",
       "Kf4Cp5V+KByLdfV9C6PIpdfoxGnaxuiL5Igs+cdO3/hJdkLzIZdkPDpCf/IQ68iL4eIWZPOXZhTh\n",
       "ul/PJbd/D6eCwFL/kJRozB4qfuDz7h59LWV9+WHIuktxZ9DGF0QWr+oXqTw0cl6F1zNY01P1ngec\n",
       "PR3t3RYrvuKbCWGbvIhz8dbHUGtj396J+Mt0l56bKWPY98WY8JcofQk/AwOi3yWkGMq8vGHcHTLu\n",
       "YSslflI1j5YRThN55BdF+dCmvQFp5mnCUx/AzuJdvn/WW6i0AzaCU+QKXTWAGxHNC2Qv22Hr2S3/\n",
       "dfj439NJbPNG9G7NLt0jfhYA5oX6djZwzGRyKkYl/HjkkD9NZZ1KQNwxOMx7kFDyZsbS7rbbnBsp\n",
       "GP9/jiDTk/pETX5uYlkfJaeq5izqXVQnpSZ41tN4rAWW5Sst96/XLV3Y0ssR20DoJ2dkRl9rNA9h\n",
       "GGRUYJqyOWO+7zBxmCF5N1kYXoMkZBhResJBxSfZ/ewWeC+p7Jd1p2L0K0M9ba+TBGQiBSRPtc9l\n",
       "saBGqL8uja7RB6aCwftGtudmKoeaHzrk8GbPWMg27CNEXtgHfnHrhcAfuk0PcjB4gaz/V6RH7P9h\n",
       "kvIq7Yb60ZgCgi0rAp7OAkc7okT8feCM7gs+V38/sfbbnKXL+sg56QR93U7Q1KUVe6438OK88AE/\n",
       "JNkkB+A8MXAd3poosuDGbfPqjJ+4h5fDYJv07rPCCqBJZPF6vDWFvc31Z3/X3pue31qmUVci8rb+\n",
       "mXeTJuCtSkRTlSf9MwkD7dReLd1dg1WkG2vX5NU5WdiCS9TxV/9cO89qqxjLsKL/Gk+jFW4JbRHV\n",
       "mPG7ThSj0Q1d9Kq+M2Fv0uH+N8YB6pa/fGAsXIceEpXqNdUzojF9M4ovOxKq5a8ofNI9+KozR+ur\n",
       "Pz7AhnN3toRQIL1/Ya3i5C8ZYyleerW+jjI8QrRGtyo2U/CggX9BdL4lXD6D3eDySTnZl+1aQhtn\n",
       "JIoKzGw2BUnAKFa6JhPsCZTygI+6dgwIkgsIOq0JYrY7Pc/NUH85Ass3JcwnF5TSs08bpsvQ2Cqq\n",
       "v8G/aRmS4s+WnUT0u8N9AnNyGLH//WQhNna6wHZCKYcmIB/iWpUFpQLoRvISMjWEZY2XqiYirRYc\n",
       "SEngln2SmNlAV9cTrdrDGv1Q7z/iCUefuZDHSsSWqhnd/UDm56su4TL91AmEsCnNaTDLo9sZwpfN\n",
       "zokEsgY6/UIoLtR6ZQImaD/Wf3xYBYubzxe9n7cFQRG9N2jFddqVNPVNWvVqB/vhA/WiwL0TsIUv\n",
       "8Z+IERALv9xCFUZDXAMbtClP2ZZUsUUCiitmtBHgdIjqRTv0eMTwljn1F8FJ0vZjhwv0VxKnRZdM\n",
       "nm0gZWf7qKJhXAe4S5JAG4mU4sPz2UfJpiDuuKBLOfWLovsXEoiUGVTTkyDXJR2TTeToiu+igHGI\n",
       "2NvrfhGRhD2rtLmjCSWTiCmxnS9nw2df2OHJKvvqJcmwlxti8hTZkwSgtH94Gg6lhEZ9rJP+Unnf\n",
       "7WlUEZznautu0qZ3bknmO+LQG0r5xY2WJk0PQAy7FryvLhsMg12BDHmdGHKe3Evq4Cm9MNTOpwF/\n",
       "1XYf8luaA/l2hAX+rBJ/US48rtaeJGGuy6YbwNIEfHAqbdG3GqePs5MtTwMLmYn33l0EosOCdU6q\n",
       "JdB9yTQ+J4rgrk0mWJDJGyd0WlGsuV7kgrtBP+ne3EmqOpKobeRnhjQ9+t5Z50pYPtpFVi30Jsrr\n",
       "whdz8jFuO7TpO+QcE/t57J4K533q5PHqdhYsmUuX/OFVBooBGKWUX7yDu+jkNu104I0Q+/FtZwQe\n",
       "4W1yNwlzFXNTsWaWsijEp7k37+zMfUzF8GrBQx91ntVyPZsxjs19Y2WxCa7fFpNncbxyDiS7X9aQ\n",
       "YwIpI5o6vRBBdFKAABRWFsog2JcAABHCBI0AAAFaQZokbEM//p4QA3PseCCl/AG7zobyRU9mdML6\n",
       "gNTdTtA8M9Kintd+2zXMqIjVDLADvBxS6JvgoMjfowqv7UdjCBnTDEbjtOCV89tt6xOklOlYsj10\n",
       "k8LiFcwaU4H6JrkAsvmT/4Licl/41IqYYWeyCimI+f3bh60eFmSL//tC1p+/tOfYDbg1/A80jWNU\n",
       "f74AHhocmSa9yjQL3y+g482sPLi+QUceBS0DnMMesudHkpcn4NXqPeo0sKbodLA+NxPsNToYJeqQ\n",
       "rfwMd0Xl1Ix3j0D95UXkNgfg97y+gBBVkuuO+h3tu6ilPUte59TRYhnOjDafKWSyd3VqugUswDFL\n",
       "SmM7xFxZLCgXT+25466fF1CSJGUfUAzL2KCkqyP3rqobx2Gbeychn1ZhZvhWo0P0YrrZQQWdjBlv\n",
       "Ffm0QzLQDCTtjsvnEU1an/baRV5wSK8KAHEhetlQYgCRgAAAADJBnkJ4hH8BGlFQhqUizDoAcbfo\n",
       "itRXdIfEs3GuRp2RPccOzVez3rMBPt8tMmUTXlIKOQAAACsBnmF0R/8BxIo2gwRAKl9rye0pUJfv\n",
       "QZSbMOhOoUpEHLQoqcIyikqVoEpBAAAAHgGeY2pH/wHFgAQpmggdV9+9lu420/LecMA5gnAYUAAA\n",
       "AFBBmmhJqEFomUwIZ//+nhADc+x4UqUN7wAXmrVYu3xbmr+FQS7uyufPIAxLY002f3iMYQEURXLM\n",
       "msqJcIGzy1O1G0xTIB1sxsPZMlmaF8G55gAAACNBnoZFESwj/wEdgYZOIMnsiNN5DCUpE73YqiGH\n",
       "L246+87KmQAAACIBnqV0R/8BxIpxHffX+GgAlq4Rc6k29U02b8b+ouVx4QLqAAAAGAGep2pH/wAs\n",
       "ZA/WKLsXArCUx9esnuaCFwAAAFBBmqxJqEFsmUwIZ//+nhAAVjw5AWyCZQeeq2CzhdjN5MVU0GnX\n",
       "9IwuLrzqVbuPHDH9qn1wt+UTjIlL6b/atVnpVekYU2eIX+Sp8AMf7RVZAQAAACBBnspFFSwj/wAb\n",
       "qCLJAelHs6B7GXLN4/38PV248YCSgQAAABcBnul0R/8AKz6KPlagN3duMme6HBMiJwAAABcBnutq\n",
       "R/8ALFlzQcJ48D6hUaTFU9nhVQAAAEFBmvBJqEFsmUwIZ//+nhAAVkFKSQ/uAUj3xXdwsUqgkW++\n",
       "tVIcM2/q8mKjrRcGB50UqyAoukg5oFPxflLfITc2JwAAACRBnw5FFSwj/wAbm9rQAjGqz2jJpmG5\n",
       "R1bbqoYHhNIrjlnIcUAAAAAVAZ8tdEf/ACxiNyFXwb59/Z2CQo1cAAAAFAGfL2pH/wACw+87hcXh\n",
       "/SM4JHKxAAAAREGbNEmoQWyZTAhn//6eEABT8r44Aqu/t7veapaARhbbvZ70BaPLSmnkIBbdJVZ9\n",
       "/yKZ29sH59ceNUBZJDHRC7D9ZQAgAAAAJ0GfUkUVLCP/ABsZdwAF0Daky7U0zcFk0xmHnE7prAuy\n",
       "BlRO/SmhQAAAABYBn3F0R/8AK1bigAnSXs65NvREwwH7AAAAFwGfc2pH/wArVuKACdnInYifMRUn\n",
       "9nvBAAAAhkGbeEmoQWyZTAhn//6eEABT8nRgDijO1tFXXOGSz6bueTjxp9OaAy083ekxjEVIXqd3\n",
       "NvH9YmZ6Uq228oGNsQaJLmbLc+KV4E4Ma0rfVrm0yWUK8C4OcHWp/lciKZvwI81Kf689nCC8VfOl\n",
       "HYDsJG4G2skcp7hBPolMuD/a+ZdLl8mH8k9RAAAAJkGflkUVLCP/ABsDGMAGtn7WB1pVZki43Gr5\n",
       "nyQhtVXDEbP0VNdwAAAAEAGftXRH/wAqoPnWsEm4roAAAAAQAZ+3akf/ACspp8uiSNucwQAAAEFB\n",
       "m7xJqEFsmUwIZ//+nhAAUbJ0YAhH71+Ul9nvKUIi9R2Pw19cFOCesf7uqeCaVotm4SqfjRLnBIyx\n",
       "4TyHCGmpIAAAABhBn9pFFSwj/wAaQMb9iWfYObsXBL8Cy8AAAAAMAZ/5dEf/AADiRTKDAAAADgGf\n",
       "+2pH/wAA4r/3PJZAAAAANEGb4EmoQWyZTAhn//6eEABRsdpQBGruEcSry5Hjizqp8/BTLgr2zUc7\n",
       "ZLfQLvf/KCFo/sEAAAAXQZ4eRRUsI/8AGmJ5mDk0FicYdee44vEAAAAPAZ49dEf/ACoC5LenRAMN\n",
       "AAAADAGeP2pH/wAA4sABmwAAAC1BmiRJqEFsmUwIZ//+nhAAUbN7wAOPbC7STW3dUo0NR8dQoqYe\n",
       "UP+idJHSL+wAAAAWQZ5CRRUsI/8AGmmRMTP9lGfXrUc5eQAAAAwBnmF0R/8AAOJFMoMAAAAPAZ5j\n",
       "akf/ACoKAPdlD4CTAAAAR0GaaEmoQWyZTAhn//6eEABPXVKp0TgDjU/FWFJTWv5gdnyvjOB+n1On\n",
       "v+a3HFYeOVxotNo4fzCqspawGCrEXf+E8XlhVqSAAAAAHkGehkUVLCP/ABnD4iABcVle65Jn/5XT\n",
       "OLE8lKB64QAAABEBnqV0R/8AKFrCXH3NfAWGgAAAAAwBnqdqR/8AAOLAAZsAAAA+QZqsSahBbJlM\n",
       "CGf//p4QAE/RpN7gB0AJQ130+//tjmXYfXW+0aIfmrKKFUoUKHumdc130sJS/MG/+RMl4GYAAAAS\n",
       "QZ7KRRUsI/8AAI8U/lLO1G7ZAAAADAGe6XRH/wAA4kUygwAAAA4BnutqR/8AKOoA++UdXQAAADhB\n",
       "mvBJqEFsmUwIX//+jLAAUvBdI8AFgdmF2mKtuExjAgxockXT6ppiGh0bhH/jniahuidJiciUEQAA\n",
       "ABZBnw5FFSwj/wAaD0JojCP+ADOtdJyWAAAAEAGfLXRH/wAqHoy3obqoWYAAAAAVAZ8vakf/ACo5\n",
       "xgANndQ2EpXMRgNtAAAAQkGbNEmoQWyZTAhf//6MsABSc9KEAQNhSUp7+qEhjM3jTg2LDcuj0LsZ\n",
       "JWSEXmTtw+qaXbUVoHw8x13jcJ0mYCyggAAAABpBn1JFFSwj/wAae3FAB9mGqlKY4LXWuSIdZgAA\n",
       "ABABn3F0R/8AKh6Mt6G6qFmBAAAADgGfc2pH/wAA4r/3PJZBAAAAYEGbeEmoQWyZTAhf//6MsACl\n",
       "74+BrEgKn1KEyUnHjoXrFItsiXpH33WxSOG6yXvwlJQHh6vf/F+HG1xNpqxOFyGOpMQICcEd3h4d\n",
       "mpgnmURqwj3UO8MupoXbRwV0Ip2MrwAAACFBn5ZFFSwj/wA07e8Ff3WBTsrs35arroz3gvgu++z4\n",
       "rw0AAAATAZ+1dEf/AFQF2zHjUQbBOSsfwAAAABIBn7dqR/8AVDMfJHsU5MnisyEAAAA2QZu6SahB\n",
       "bJlMFEwv//6MsAClA0RmCd1NeRKeD3qfxj1E1RnpnFbCvXQGT/ATk4wXCeV72L+wAAAAEwGf2WpH\n",
       "/wBUE/v42++3hPockkAAAABdQZveSeEKUmUwIX/+jLAAoFbw5IPzyAKtwMHyqC4DnlwdemLWg2cQ\n",
       "5grCZ7TipVS2JR0IZsnM2wBk2owibLWJePL/WBX/o247oaepXHrZK+Eug21ECXYjSJRMly+BAAAA\n",
       "JUGf/EU0TCP/ABsJc/H1aABN8mPHVgh4o82w8syCiuR5w8xRTYAAAAARAZ4bdEf/ACl1SJa4k5+1\n",
       "vMMAAAAbAZ4dakf/ACs5mulwATMJ5DFxRkTCrf3dyzZlAAAAPEGaAEmoQWiZTBTwv/6MsABVBpxe\n",
       "ACwUTktp/f3b2aN9/Pt1etaAEJ8BF6ULA6ztzSmQTPUrLJssm5UJOAAAACEBnj9qR/8AVogf6ngA\n",
       "D9m/XJ/18A1z5yl7CgdgK31MBpEAAAA7QZohSeEKUmUwIZ/+nhAAU908sp+qHAEd1xiySQJvjtVb\n",
       "Zyptmkddzo1W24/9klU88uu4T5r0PNogYEAAAAA3QZpFSeEOiZTAhn/+nhAAU/K+OAKY8gYqmURv\n",
       "fwa4gY9A2iqUygV6JAah8sxRvnFtXAZlgsDAgQAAABRBnmNFETwj/wAbAp2Zl1PiIiYT4QAAABAB\n",
       "noJ0R/8AKyLktSeWG67DAAAADwGehGpH/wAA4sAjIjfJgAAAADVBmolJqEFomUwIX//+jLAAVywQ\n",
       "9cAHNGCghGd73tf6EIPho/Z2zcRFOyqK75XlTxie5MgsoQAAABVBnqdFESwj/wAbqZAQvsG4br4F\n",
       "4pQAAAAPAZ7GdEf/AADiRVjVszuBAAAAEQGeyGpH/wAsWax3MKts12GAAAAAgUGazEmoQWyZTAhn\n",
       "//6eEABY99/A0jQAoNuzxpJvB69r6qjB7FvvrVSKtWbEKktrWpWk84hsodRN879A/9IGN42BT25M\n",
       "ZR29NoKv7+2/1FMRsYyZkiC8jrn7/vB1WrYdeI7Wbi9nuaWENjPO+qciGF/MrfEBePC0IIDxCRzC\n",
       "NvUj0wAAAB5BnupFFSwj/wAcWGaQ7+SQATsri8Arlst81MImcjEAAAAeAZ8Lakf/AC1kKjQgB0Lg\n",
       "43KSmoZC/lf75HdPz1FpAAAAWUGbEEmoQWyZTAhn//6eEABY99/BRx7AED5h3ch+uwrzd9q3RR9k\n",
       "Ll7g9/0zRyy31eEIaQtle7234TXRNsmCuLzM73EnMVrkeZiiWiYnelY/Mm9XbFCVCG1BAAAAIUGf\n",
       "LkUVLCP/ABxU0teAG6uxxlduCKi8t79j3eMSgMQLMAAAABoBn010R/8ALXODDhACMTt0IklgKRaE\n",
       "hUNOTAAAAA0Bn09qR/8AAHQffWSHAAAAOkGbVEmoQWyZTAhn//6eEABYqna3AGykplW/ez1Xx12e\n",
       "oaKOY6eAmePhp5z0Jd5Kizlp/tS9F9fs/+AAAAAdQZ9yRRUsI/8AHGb3gCJRPY2uKvAL/HyeLnfS\n",
       "hSgAAAAQAZ+RdEf/AC1i5IDaxLeAGwAAABEBn5NqR/8ALVkV8JYRIq2xDQAAAEdBm5hJqEFsmUwI\n",
       "Z//+nhAAWHHaUAtZ9wJ4qYNi03iQ+3NQIZ0TULwh0UxYJJ5/eSvRdKG+VeQR4iG1r8IDi0rwqEOY\n",
       "2dqRgwAAACFBn7ZFFSwj/wAcUBzVPC4AS1M25Aqyh9Qe15si4cRKG4AAAAAaAZ/VdEf/AC1i5AxA\n",
       "ARKNkckHqSbsoSMfF64AAAARAZ/Xakf/ABXazlnB5eoVv80AAABFQZvcSahBbJlMCGf//p4QACsp\n",
       "L3LAERx1mJVlvEPMNa9JKgYQZ3bXRykvGHKbJwVl6QcQ2Zjn1lbjAZfcpgj8TUOFEF3AAAAAHUGf\n",
       "+kUVLCP/AA3AZhAAAmbnPlZzjSjtPdtTV25MAAAAGAGeGXRH/wAV/iBnsAE4vdJ0OeHb7fdsQwAA\n",
       "ABABnhtqR/8AFiUAeG4IZKBoAAAAOkGaAEmoQWyZTAhn//6eEAArGce4Ab2tIc6Dgyp5/Z1jz7vH\n",
       "bpGvK/5SPDPXpHihwg3R80wRcQiILuEAAAAdQZ4+RRUsI/8ADdIewAD8GoB/4IlHS/WkjsA4aYEA\n",
       "AAAWAZ5ddEf/ABYiivABMr5aRznk6prwNAAAAA8Bnl9qR/8AFiUAeXIFP+cAAAAwQZpESahBbJlM\n",
       "CGf//p4QAFPyrXAEdrtgDwdng7prvzXoiW72J2Y1QW8+HVKfh0KCAAAAFkGeYkUVLCP/ABsCmq/u\n",
       "JDkxPSggYwcAAAAQAZ6BdEf/ABWfRo0h9VtffwAAAA8BnoNqR/8AAOLAIyI3yYAAAAA0QZqISahB\n",
       "bJlMCGf//p4QACn6z/cAUx5MYj2R8GT+AQ1WGp4/mAyr2ZJPfSLf3RX1oRBgQAAAABpBnqZFFSwj\n",
       "/wANj+XAATe9Vr8w4W15ZBmCfQAAABIBnsV0R/8AFZ9GjBrb4bajGTAAAAAQAZ7Hakf/AADf+58+\n",
       "ucqZoQAAADhBmsxJqEFsmUwIZ//+nhAAKfqqnADlhhymnZxeLOk2LP4+6ikD9XmeJaGmNPxREe9T\n",
       "6Gn4C2FhvQAAABRBnupFFSwj/wANgU7xl1PiIiYT4QAAABABnwl0R/8AFZ9GjSH1W19/AAAADwGf\n",
       "C2pH/wAA4sAjIjfJgQAAABNBmxBJqEFsmUwIZ//+nhAAAAdNAAAAE0GfLkUVLCP/AACPFQi+tvB4\n",
       "rXgAAAAPAZ9NdEf/AADiRVjVszuAAAAADwGfT2pH/wAA4sAjIjfJgQAAACdBm1RJqEFsmUwIZ//+\n",
       "nhAAU/LGlAEe4dxnZuplVz4z6DJ5EI+oA3oAAAAVQZ9yRRUsI/8ADYTIFV7BuG6+BeKUAAAADwGf\n",
       "kXRH/wAA4kVY1bM7gQAAABABn5NqR/8AFZUA0uVWd1QTAAAAQ0GbmEmoQWyZTAhf//6MsABXGPWL\n",
       "ADj2EKs3UrQl5aWOp1eefLji5DoEN3QrYX60eNSPGYYg5swJ1VOCclerKd2FxeUAAAAVQZ+2RRUs\n",
       "I/8AG6mQEL7BuG6+BeKUAAAAEAGf1XRH/wArIuS1J5YbrsMAAAARAZ/Xakf/ACxZc0HCePA+nZkA\n",
       "AAA6QZvcSahBbJlMCF///oywAFcYM2V1IAVFhBLsWxR6fIjs3Li9hG9sbCjZ180gJTnbDa6YDy55\n",
       "N8gpIAAAABVBn/pFFSwj/wAbqZAQvsG4br4F4pQAAAAPAZ4ZdEf/AADiRVjVszuBAAAAGQGeG2pH\n",
       "/wAsLvZYgAnGatpHpOdzTLO7BkwAAAA3QZoeSahBbJlMFEwv//6MsABW8p0ACKuag2tUoAg1u47x\n",
       "4Ikhv9x7BVooKLi8n5jpnnm+p5BSQQAAABgBnj1qR/8ALHMcAB5Iu6r0UUPfTabcgmEAAAAvQZoh\n",
       "SeEKUmUwIZ/+nhAAVjK+OAGuNKDo9CdzKkrjjl8klVdOK2WbzIAwdYwLBswAAAAcQZ5fRTRMI/8A\n",
       "G7l3AATjRgJsggCzkss4qPBpgQAAABoBnmBqR/8ALHbigAm1mC06YWONt4BtiizJgAAAAFNBmmVJ\n",
       "qEFomUwIX//+jLAAVvKdAArnCi832OIULuCL5U8CdFvZKJ7SYWHmfv2WnQra9ij7eXw3KfTkV4le\n",
       "XhwbyI7bqvUAueWIAm5pZ2VnGGKDpwAAACBBnoNFESwj/wAbo2UgA/D19yx92jRsMs7HurYlAgwp\n",
       "QQAAAA4BnqJ0R/8AAHPiQhfWgAAAABABnqRqR/8ALEmny6I72euqAAAAE0GaqUmoQWyZTAhf//6M\n",
       "sAAAB1UAAAASQZ7HRRUsI/8AAI0oqXYsr4mAAAAADwGe5nRH/wAA4kVY1bM7gQAAAA8BnuhqR/8A\n",
       "AOLAIyI3yYAAAAAjQZrtSahBbJlMCF///oywAFbxsBADQUmOvXcRZqjnYiZoOmEAAAATQZ8LRRUs\n",
       "I/8AAI8VCL628HiteQAAAA8Bnyp0R/8AAOJFWNWzO4EAAAAPAZ8sakf/AADiwCMiN8mBAAAAE0Gb\n",
       "MUmoQWyZTAhX//44QAAAHHAAAAATQZ9PRRUsI/8AAI8VCL628HiteAAAAA8Bn250R/8AAOJFWNWz\n",
       "O4EAAAAPAZ9wakf/AADiwCMiN8mAAAAAHEGbdUmoQWyZTAj//IQAE06TYADYpKDmxWb5Ah4AAAAc\n",
       "QZ+TRRUsI/8AGxl3AATNUsHRCBGdEVdeWQZgnwAAABABn7J0R/8AAN/7nz65ypmhAAAAEAGftGpH\n",
       "/wAA3/ufPrnKmaEAABWJbW9vdgAAAGxtdmhkAAAAAAAAAAAAAAAAAAAD6AAAH0AAAQAAAQAAAAAA\n",
       "AAAAAAAAAAEAAAAAAAAAAAAAAAAAAAABAAAAAAAAAAAAAAAAAABAAAAAAAAAAAAAAAAAAAAAAAAA\n",
       "AAAAAAAAAAAAAAAAAgAAFLR0cmFrAAAAXHRraGQAAAADAAAAAAAAAAAAAAABAAAAAAAAH0AAAAAA\n",
       "AAAAAAAAAAAAAAAAAAEAAAAAAAAAAAAAAAAAAAABAAAAAAAAAAAAAAAAAABAAAAAAbAAAAEgAAAA\n",
       "AAAkZWR0cwAAABxlbHN0AAAAAAAAAAEAAB9AAAACAAABAAAAABQsbWRpYQAAACBtZGhkAAAAAAAA\n",
       "AAAAAAAAAAAyAAABkABVxAAAAAAALWhkbHIAAAAAAAAAAHZpZGUAAAAAAAAAAAAAAABWaWRlb0hh\n",
       "bmRsZXIAAAAT121pbmYAAAAUdm1oZAAAAAEAAAAAAAAAAAAAACRkaW5mAAAAHGRyZWYAAAAAAAAA\n",
       "AQAAAAx1cmwgAAAAAQAAE5dzdGJsAAAAs3N0c2QAAAAAAAAAAQAAAKNhdmMxAAAAAAAAAAEAAAAA\n",
       "AAAAAAAAAAAAAAAAAbABIABIAAAASAAAAAAAAAABAAAAAAAAAAAAAAAAAAAAAAAAAAAAAAAAAAAA\n",
       "AAAAAAAAGP//AAAAMWF2Y0MBZAAe/+EAGGdkAB6s2UGwloQAAAMABAAAAwGQPFi2WAEABmjr48si\n",
       "wAAAABx1dWlka2hA8l8kT8W6OaUbzwMj8wAAAAAAAAAYc3R0cwAAAAAAAAABAAABkAAAAQAAAAAY\n",
       "c3RzcwAAAAAAAAACAAAAAQAAAPsAAAwoY3R0cwAAAAAAAAGDAAAAAQAAAgAAAAABAAAFAAAAAAEA\n",
       "AAIAAAAAAQAAAAAAAAABAAABAAAAAAEAAAMAAAAAAQAAAQAAAAABAAAFAAAAAAEAAAIAAAAAAQAA\n",
       "AAAAAAABAAABAAAAAAEAAAUAAAAAAQAAAgAAAAABAAAAAAAAAAEAAAEAAAAAAgAAAgAAAAABAAAF\n",
       "AAAAAAEAAAIAAAAAAQAAAAAAAAABAAABAAAAAAEAAAUAAAAAAQAAAgAAAAABAAAAAAAAAAEAAAEA\n",
       "AAAAAQAAAgAAAAABAAAFAAAAAAEAAAIAAAAAAQAAAAAAAAABAAABAAAAAAEAAAIAAAAAAQAABQAA\n",
       "AAABAAACAAAAAAEAAAAAAAAAAQAAAQAAAAABAAAFAAAAAAEAAAIAAAAAAQAAAAAAAAABAAABAAAA\n",
       "AAEAAAMAAAAAAQAAAQAAAAABAAAFAAAAAAEAAAIAAAAAAQAAAAAAAAABAAABAAAAAAEAAAMAAAAA\n",
       "AQAAAQAAAAABAAADAAAAAAEAAAEAAAAAAQAABQAAAAABAAACAAAAAAEAAAAAAAAAAQAAAQAAAAAB\n",
       "AAAFAAAAAAEAAAIAAAAAAQAAAAAAAAABAAABAAAAAAEAAAUAAAAAAQAAAgAAAAABAAAAAAAAAAEA\n",
       "AAEAAAAAAQAABAAAAAACAAABAAAAAAEAAAQAAAAAAgAAAQAAAAABAAADAAAAAAEAAAEAAAAAAQAA\n",
       "BAAAAAACAAABAAAAAAEAAAQAAAAAAgAAAQAAAAABAAAEAAAAAAIAAAEAAAAAAQAABQAAAAABAAAC\n",
       "AAAAAAEAAAAAAAAAAQAAAQAAAAABAAAFAAAAAAEAAAIAAAAAAQAAAAAAAAABAAABAAAAAAEAAAUA\n",
       "AAAAAQAAAgAAAAABAAAAAAAAAAEAAAEAAAAAAQAAAwAAAAABAAABAAAAAAEAAAUAAAAAAQAAAgAA\n",
       "AAABAAAAAAAAAAEAAAEAAAAAAQAABQAAAAABAAACAAAAAAEAAAAAAAAAAQAAAQAAAAABAAAFAAAA\n",
       "AAEAAAIAAAAAAQAAAAAAAAABAAABAAAAAAEAAAUAAAAAAQAAAgAAAAABAAAAAAAAAAEAAAEAAAAA\n",
       "AQAABAAAAAACAAABAAAAAAEAAAUAAAAAAQAAAgAAAAABAAAAAAAAAAEAAAEAAAAAAQAABQAAAAAB\n",
       "AAACAAAAAAEAAAAAAAAAAQAAAQAAAAABAAAFAAAAAAEAAAIAAAAAAQAAAAAAAAABAAABAAAAAAEA\n",
       "AAUAAAAAAQAAAgAAAAABAAAAAAAAAAEAAAEAAAAAAQAABQAAAAABAAACAAAAAAEAAAAAAAAAAQAA\n",
       "AQAAAAABAAAFAAAAAAEAAAIAAAAAAQAAAAAAAAABAAABAAAAAAEAAAUAAAAAAQAAAgAAAAABAAAA\n",
       "AAAAAAEAAAEAAAAAAQAABAAAAAACAAABAAAAAAEAAAUAAAAAAQAAAgAAAAABAAAAAAAAAAEAAAEA\n",
       "AAAAAQAABAAAAAACAAABAAAAAAEAAAUAAAAAAQAAAgAAAAABAAAAAAAAAAEAAAEAAAAAAQAABQAA\n",
       "AAABAAACAAAAAAEAAAAAAAAAAQAAAQAAAAABAAAFAAAAAAEAAAIAAAAAAQAAAAAAAAABAAABAAAA\n",
       "AAEAAAUAAAAAAQAAAgAAAAABAAAAAAAAAAEAAAEAAAAAAQAABQAAAAABAAACAAAAAAEAAAAAAAAA\n",
       "AQAAAQAAAAABAAAFAAAAAAEAAAIAAAAAAQAAAAAAAAABAAABAAAAAAEAAAUAAAAAAQAAAgAAAAAB\n",
       "AAAAAAAAAAEAAAEAAAAAAQAABAAAAAACAAABAAAAAAEAAAIAAAAAAQAABQAAAAABAAACAAAAAAEA\n",
       "AAAAAAAAAQAAAQAAAAABAAAFAAAAAAEAAAIAAAAAAQAAAAAAAAABAAABAAAAAAEAAAUAAAAAAQAA\n",
       "AgAAAAABAAAAAAAAAAEAAAEAAAAAAQAAAwAAAAABAAABAAAAAAEAAAUAAAAAAQAAAgAAAAABAAAA\n",
       "AAAAAAEAAAEAAAAAAQAABQAAAAABAAACAAAAAAEAAAAAAAAAAQAAAQAAAAABAAAFAAAAAAEAAAIA\n",
       "AAAAAQAAAAAAAAABAAABAAAAAAEAAAUAAAAAAQAAAgAAAAABAAAAAAAAAAEAAAEAAAAAAQAABAAA\n",
       "AAACAAABAAAAAAEAAAUAAAAAAQAAAgAAAAABAAAAAAAAAAEAAAEAAAAAAQAABQAAAAABAAACAAAA\n",
       "AAEAAAAAAAAAAQAAAQAAAAABAAAFAAAAAAEAAAIAAAAAAQAAAAAAAAABAAABAAAAAAEAAAUAAAAA\n",
       "AQAAAgAAAAABAAAAAAAAAAEAAAEAAAAAAQAABQAAAAABAAACAAAAAAEAAAAAAAAAAQAAAQAAAAAB\n",
       "AAAFAAAAAAEAAAIAAAAAAQAAAAAAAAABAAABAAAAAAEAAAUAAAAAAQAAAgAAAAABAAAAAAAAAAEA\n",
       "AAEAAAAAAQAAAwAAAAABAAABAAAAAAEAAAUAAAAAAQAAAgAAAAABAAAAAAAAAAEAAAEAAAAAAQAA\n",
       "AwAAAAABAAABAAAAAAEAAAIAAAAAAQAABQAAAAABAAACAAAAAAEAAAAAAAAAAQAAAQAAAAABAAAF\n",
       "AAAAAAEAAAIAAAAAAQAAAAAAAAABAAABAAAAAAEAAAUAAAAAAQAAAgAAAAABAAAAAAAAAAEAAAEA\n",
       "AAAAAQAABQAAAAABAAACAAAAAAEAAAAAAAAAAQAAAQAAAAABAAAFAAAAAAEAAAIAAAAAAQAAAAAA\n",
       "AAABAAABAAAAAAEAAAUAAAAAAQAAAgAAAAABAAAAAAAAAAEAAAEAAAAAAQAABQAAAAABAAACAAAA\n",
       "AAEAAAAAAAAAAQAAAQAAAAABAAAFAAAAAAEAAAIAAAAAAQAAAAAAAAABAAABAAAAAAEAAAUAAAAA\n",
       "AQAAAgAAAAABAAAAAAAAAAEAAAEAAAAAAQAABQAAAAABAAACAAAAAAEAAAAAAAAAAQAAAQAAAAAB\n",
       "AAAFAAAAAAEAAAIAAAAAAQAAAAAAAAABAAABAAAAAAEAAAUAAAAAAQAAAgAAAAABAAAAAAAAAAEA\n",
       "AAEAAAAAAQAABQAAAAABAAACAAAAAAEAAAAAAAAAAQAAAQAAAAABAAAFAAAAAAEAAAIAAAAAAQAA\n",
       "AAAAAAABAAABAAAAAAEAAAMAAAAAAQAAAQAAAAABAAAFAAAAAAEAAAIAAAAAAQAAAAAAAAABAAAB\n",
       "AAAAAAEAAAMAAAAAAQAAAQAAAAABAAACAAAAAAEAAAUAAAAAAQAAAgAAAAABAAAAAAAAAAEAAAEA\n",
       "AAAAAQAABQAAAAABAAACAAAAAAEAAAAAAAAAAQAAAQAAAAABAAAEAAAAAAIAAAEAAAAAAQAABQAA\n",
       "AAABAAACAAAAAAEAAAAAAAAAAQAAAQAAAAABAAAFAAAAAAEAAAIAAAAAAQAAAAAAAAABAAABAAAA\n",
       "AAEAAAUAAAAAAQAAAgAAAAABAAAAAAAAAAEAAAEAAAAAAQAABQAAAAABAAACAAAAAAEAAAAAAAAA\n",
       "AQAAAQAAAAABAAAFAAAAAAEAAAIAAAAAAQAAAAAAAAABAAABAAAAAAEAAAUAAAAAAQAAAgAAAAAB\n",
       "AAAAAAAAAAEAAAEAAAAAAQAABQAAAAABAAACAAAAAAEAAAAAAAAAAQAAAQAAAAABAAAFAAAAAAEA\n",
       "AAIAAAAAAQAAAAAAAAABAAABAAAAAAEAAAUAAAAAAQAAAgAAAAABAAAAAAAAAAEAAAEAAAAAAQAA\n",
       "BQAAAAABAAACAAAAAAEAAAAAAAAAAQAAAQAAAAABAAAFAAAAAAEAAAIAAAAAAQAAAAAAAAABAAAB\n",
       "AAAAAAEAAAUAAAAAAQAAAgAAAAABAAAAAAAAAAEAAAEAAAAAAQAAAwAAAAABAAABAAAAAAEAAAQA\n",
       "AAAAAgAAAQAAAAABAAAFAAAAAAEAAAIAAAAAAQAAAAAAAAABAAABAAAAAAEAAAUAAAAAAQAAAgAA\n",
       "AAABAAAAAAAAAAEAAAEAAAAAAQAABQAAAAABAAACAAAAAAEAAAAAAAAAAQAAAQAAAAABAAAFAAAA\n",
       "AAEAAAIAAAAAAQAAAAAAAAABAAABAAAAAAEAAAUAAAAAAQAAAgAAAAABAAAAAAAAAAEAAAEAAAAA\n",
       "HHN0c2MAAAAAAAAAAQAAAAEAAAGQAAAAAQAABlRzdHN6AAAAAAAAAAAAAAGQAAA1DgAAArcAAABR\n",
       "AAAAQwAAAC4AAACOAAAAOwAAAKAAAAA/AAAAMwAAADAAAACGAAAAOQAAACkAAAAoAAAAUQAAAEMA\n",
       "AACNAAAANQAAACoAAAArAAAAXgAAADwAAAAlAAAAJwAAAE4AAABwAAAAOQAAACwAAAAoAAAAPQAA\n",
       "AHoAAAA/AAAAIgAAAB8AAABCAAAAMgAAACUAAAAaAAAARwAAADMAAABJAAAALQAAABkAAAAhAAAA\n",
       "RwAAACUAAABFAAAAKQAAAEYAAAAkAAAAEgAAABkAAABIAAAAKwAAABsAAAARAAAASwAAADEAAAAa\n",
       "AAAAEgAAAEoAAAArAAAAFQAAAFoAAAAwAAAAHgAAAFkAAAAiAAAARwAAAC0AAAAbAAAARQAAACYA\n",
       "AAAbAAAASgAAACUAAAATAAAAJwAAACQAAAAUAAAAEgAAAEoAAAAkAAAAEgAAABwAAABAAAAALAAA\n",
       "ABUAAAAWAAAARAAAACsAAABTAAAAMgAAABwAAAAcAAAAUQAAACMAAAAWAAAAHAAAADsAAAAkAAAA\n",
       "FAAAABQAAABOAAAAJgAAABsAAAAUAAAASgAAACsAAAARAAAAUgAAACUAAAASAAAAGgAAAEUAAAAs\n",
       "AAAAEwAAABIAAABHAAAAMAAAABEAAAARAAAAMgAAACEAAAASAAAAEwAAAEEAAAAiAAAAEAAAABwA\n",
       "AABBAAAAIgAAABAAAAAQAAAANQAAACAAAAASAAAAEAAAAEEAAAAqAAAAFwAAADgAAAAyAAAAEAAA\n",
       "ABEAAAAzAAAAJAAAABoAAABBAAAAIgAAABAAAAAQAAAANwAAACIAAAAYAAAAEwAAADUAAAAiAAAA\n",
       "EAAAABIAAAA0AAAAIwAAABIAAAAUAAAAUQAAACMAAAAVAAAAEgAAADcAAAAiAAAAEwAAABIAAAAk\n",
       "AAAAIwAAABQAAAAUAAAAbQAAACsAAAAfAAAAMwAAAEMAAAAyAAAAEgAAABsAAABZAAAAMwAAABcA\n",
       "AAAWAAAATAAAAC0AAAAZAAAAGQAAADgAAAAeAAAAJQAAACQAAAAZAAAAEAAAADcAAAAiAAAAEAAA\n",
       "ABAAAABNAAAAIwAAABMAAAAQAAAATwAAADEAAAAbAAAAEAAAAD4AAAAjAAAAEAAAADwAAAAmAAAA\n",
       "EAAAABAAAABCAAAALAAAABcAAAAUAAAASQAAADAAAAASAAAAGgAAADgAAAAlAAAAEAAAABAAAAAx\n",
       "AAAAIgAAABAAAAAQAAAAOgAAACIAAAAQAAAAEAAAADsAAAAjAAAAFAAAABUAAAAvAAAAHwAAAEIA\n",
       "AAAiAAAAHAAAABAAAAAgAAAAHgAAQUEAAAFeAAAANgAAAC8AAAAiAAAAVAAAACcAAAAmAAAAHAAA\n",
       "AFQAAAAkAAAAGwAAABsAAABFAAAAKAAAABkAAAAYAAAASAAAACsAAAAaAAAAGwAAAIoAAAAqAAAA\n",
       "FAAAABQAAABFAAAAHAAAABAAAAASAAAAOAAAABsAAAATAAAAEAAAADEAAAAaAAAAEAAAABMAAABL\n",
       "AAAAIgAAABUAAAAQAAAAQgAAABYAAAAQAAAAEgAAADwAAAAaAAAAFAAAABkAAABGAAAAHgAAABQA\n",
       "AAASAAAAZAAAACUAAAAXAAAAFgAAADoAAAAXAAAAYQAAACkAAAAVAAAAHwAAAEAAAAAlAAAAPwAA\n",
       "ADsAAAAYAAAAFAAAABMAAAA5AAAAGQAAABMAAAAVAAAAhQAAACIAAAAiAAAAXQAAACUAAAAeAAAA\n",
       "EQAAAD4AAAAhAAAAFAAAABUAAABLAAAAJQAAAB4AAAAVAAAASQAAACEAAAAcAAAAFAAAAD4AAAAh\n",
       "AAAAGgAAABMAAAA0AAAAGgAAABQAAAATAAAAOAAAAB4AAAAWAAAAFAAAADwAAAAYAAAAFAAAABMA\n",
       "AAAXAAAAFwAAABMAAAATAAAAKwAAABkAAAATAAAAFAAAAEcAAAAZAAAAFAAAABUAAAA+AAAAGQAA\n",
       "ABMAAAAdAAAAOwAAABwAAAAzAAAAIAAAAB4AAABXAAAAJAAAABIAAAAUAAAAFwAAABYAAAATAAAA\n",
       "EwAAACcAAAAXAAAAEwAAABMAAAAXAAAAFwAAABMAAAATAAAAIAAAACAAAAAUAAAAFAAAABRzdGNv\n",
       "AAAAAAAAAAEAAAAsAAAAYXVkdGEAAABZbWV0YQAAAAAAAAAhaGRscgAAAAAAAAAAbWRpcmFwcGwA\n",
       "AAAAAAAAAAAAAAAsaWxzdAAAACSpdG9vAAAAHGRhdGEAAAABAAAAAExhdmY1OC4wLjEwMA==\n",
       "\">\n",
       "  Your browser does not support the video tag.\n",
       "</video>"
      ],
      "text/plain": [
       "<IPython.core.display.HTML object>"
      ]
     },
     "execution_count": 37,
     "metadata": {},
     "output_type": "execute_result"
    }
   ],
   "source": [
    "HTML(anim.to_html5_video())"
   ]
  },
  {
   "cell_type": "markdown",
   "metadata": {},
   "source": [
    "# Logistic regression\n",
    "Your assignment is to implement the logistic regression\n",
    "\n",
    "Plan:\n",
    "* Use a shared variable for weights\n",
    "* Use a matrix placeholder for `X`\n",
    " \n",
    "We shall train on a two-class MNIST dataset\n",
    "* please note that target `y` are `{0,1}` and not `{-1,1}` as in some formulae"
   ]
  },
  {
   "cell_type": "code",
   "execution_count": 38,
   "metadata": {},
   "outputs": [
    {
     "name": "stdout",
     "output_type": "stream",
     "text": [
      "y [shape - (360,)]: [0 1 0 1 0 1 0 0 1 1]\n",
      "X [shape - (360, 64)]:\n"
     ]
    }
   ],
   "source": [
    "from sklearn.datasets import load_digits\n",
    "mnist = load_digits(2)\n",
    "\n",
    "X, y = mnist.data, mnist.target\n",
    "\n",
    "print(\"y [shape - %s]:\" % (str(y.shape)), y[:10])\n",
    "print(\"X [shape - %s]:\" % (str(X.shape)))"
   ]
  },
  {
   "cell_type": "code",
   "execution_count": 39,
   "metadata": {},
   "outputs": [
    {
     "name": "stdout",
     "output_type": "stream",
     "text": [
      "X:\n",
      " [[  0.   0.   5.  13.   9.   1.   0.   0.   0.   0.]\n",
      " [  0.   0.   0.  12.  13.   5.   0.   0.   0.   0.]\n",
      " [  0.   0.   1.   9.  15.  11.   0.   0.   0.   0.]]\n",
      "y:\n",
      " [0 1 0 1 0 1 0 0 1 1]\n"
     ]
    },
    {
     "data": {
      "image/png": "[encoded data removed]",
      "text/plain": [
       "<matplotlib.figure.Figure at 0x17a066f5860>"
      ]
     },
     "metadata": {},
     "output_type": "display_data"
    }
   ],
   "source": [
    "print('X:\\n',X[:3,:10])\n",
    "print('y:\\n',y[:10])\n",
    "plt.imshow(X[1].reshape([8,8]));"
   ]
  },
  {
   "cell_type": "markdown",
   "metadata": {},
   "source": [
    "It's your turn now!\n",
    "Just a small reminder of the relevant math:\n",
    "\n",
    "$$\n",
    "P(y=1|X) = \\sigma(X \\cdot W + b)\n",
    "$$\n",
    "$$\n",
    "\\text{loss} = -\\log\\left(P\\left(y_\\text{predicted} = 1\\right)\\right)\\cdot y_\\text{true} - \\log\\left(1 - P\\left(y_\\text{predicted} = 1\\right)\\right)\\cdot\\left(1 - y_\\text{true}\\right)\n",
    "$$\n",
    "\n",
    "$\\sigma(x)$ is available via `tf.nn.sigmoid` and matrix multiplication via `tf.matmul`"
   ]
  },
  {
   "cell_type": "code",
   "execution_count": 40,
   "metadata": {
    "collapsed": true
   },
   "outputs": [],
   "source": [
    "from sklearn.model_selection import train_test_split\n",
    "X_train, X_test, y_train, y_test = train_test_split(\n",
    "    X, y, random_state=42)"
   ]
  },
  {
   "cell_type": "markdown",
   "metadata": {},
   "source": [
    "__Your code goes here.__ For the training and testing scaffolding to work, please stick to the names in comments."
   ]
  },
  {
   "cell_type": "code",
   "execution_count": 41,
   "metadata": {
    "collapsed": true
   },
   "outputs": [],
   "source": [
    "# Model parameters - weights and bias\n",
    "# weights = tf.Variable(...) shape should be (X.shape[1], 1)\n",
    "# b = tf.Variable(...)\n",
    "weights = tf.Variable(dtype= tf.float32, initial_value=tf.zeros([X.shape[1],1]), name=\"weight\")\n",
    "b = tf.Variable(dtype= tf.float32, initial_value=0, name=\"bias\")"
   ]
  },
  {
   "cell_type": "code",
   "execution_count": 42,
   "metadata": {
    "collapsed": true
   },
   "outputs": [],
   "source": [
    "# Placeholders for the input data\n",
    "# input_X = tf.placeholder(...)\n",
    "# input_y = tf.placeholder(...)\n",
    "input_X =  tf.placeholder(dtype= tf.float32, shape=(None, X.shape[1]), name=\"input_X\")\n",
    "input_y =  tf.placeholder(dtype= tf.float32, shape=(None, ), name=\"input_y\")"
   ]
  },
  {
   "cell_type": "code",
   "execution_count": 43,
   "metadata": {
    "collapsed": true
   },
   "outputs": [],
   "source": [
    "# The model code\n",
    "\n",
    "# Compute a vector of predictions, resulting shape should be [input_X.shape[0],]\n",
    "# This is 1D, if you have extra dimensions, you can  get rid of them with tf.squeeze .\n",
    "# Don't forget the sigmoid.\n",
    "# predicted_y = <predicted probabilities for input_X>\n",
    "predicted_y = tf.squeeze( tf.nn.sigmoid(tf.matmul(input_X, weights) + b))\n",
    "# Loss. Should be a scalar number - average loss over all the objects\n",
    "# tf.reduce_mean is your friend here\n",
    "# loss = <logistic loss (scalar, mean over sample)>\n",
    "loss = tf.reduce_mean(-tf.log(predicted_y) * input_y - tf.log(1- predicted_y) * (1 - input_y))\n",
    "# See above for an example. tf.train.*Optimizer\n",
    "# optimizer = <optimizer that minimizes loss>\n",
    "optimizer =  tf.train.MomentumOptimizer(0.01, 0.5).minimize(loss)"
   ]
  },
  {
   "cell_type": "markdown",
   "metadata": {},
   "source": [
    "A test to help with the debugging"
   ]
  },
  {
   "cell_type": "code",
   "execution_count": 44,
   "metadata": {
    "collapsed": true
   },
   "outputs": [],
   "source": [
    "validation_weights = 1e-3 * np.fromiter(map(lambda x:\n",
    "        s.run(weird_psychotic_function, {my_scalar:x, my_vector:[1, 0.1, 2]}),\n",
    "                                   0.15 * np.arange(1, X.shape[1] + 1)),\n",
    "                                   count=X.shape[1], dtype=np.float32)[:, np.newaxis]\n",
    "# Compute predictions for given weights and bias\n",
    "prediction_validation = s.run(\n",
    "    predicted_y, {\n",
    "    input_X: X,\n",
    "    weights: validation_weights,\n",
    "    b: 1e-1})\n",
    "\n",
    "# Load the reference values for the predictions\n",
    "validation_true_values = np.loadtxt(\"validation_predictons.txt\")\n",
    "\n",
    "assert prediction_validation.shape == (X.shape[0],),\\\n",
    "       \"Predictions must be a 1D array with length equal to the number \" \\\n",
    "       \"of examples in input_X\"\n",
    "assert np.allclose(validation_true_values, prediction_validation)\n",
    "loss_validation = s.run(\n",
    "        loss, {\n",
    "            input_X: X[:100],\n",
    "            input_y: y[-100:],\n",
    "            weights: validation_weights+1.21e-3,\n",
    "            b: -1e-1})\n",
    "assert np.allclose(loss_validation, 0.728689)"
   ]
  },
  {
   "cell_type": "code",
   "execution_count": 45,
   "metadata": {},
   "outputs": [
    {
     "name": "stdout",
     "output_type": "stream",
     "text": [
      "loss at iter 0:0.1252\n",
      "train auc: 0.999945103206\n",
      "test auc: 1.0\n",
      "loss at iter 1:0.0450\n",
      "train auc: 1.0\n",
      "test auc: 1.0\n",
      "loss at iter 2:0.0269\n",
      "train auc: 1.0\n",
      "test auc: 1.0\n",
      "loss at iter 3:0.0200\n",
      "train auc: 1.0\n",
      "test auc: 1.0\n",
      "loss at iter 4:0.0169\n",
      "train auc: 1.0\n",
      "test auc: 1.0\n"
     ]
    }
   ],
   "source": [
    "from sklearn.metrics import roc_auc_score\n",
    "s.run(tf.global_variables_initializer())\n",
    "for i in range(5):\n",
    "    s.run(optimizer, {input_X: X_train, input_y: y_train})\n",
    "    loss_i = s.run(loss, {input_X: X_train, input_y: y_train})\n",
    "    print(\"loss at iter %i:%.4f\" % (i, loss_i))\n",
    "    print(\"train auc:\", roc_auc_score(y_train, s.run(predicted_y, {input_X:X_train})))\n",
    "    print(\"test auc:\", roc_auc_score(y_test, s.run(predicted_y, {input_X:X_test})))"
   ]
  },
  {
   "cell_type": "markdown",
   "metadata": {},
   "source": [
    "### Coursera submission"
   ]
  },
  {
   "cell_type": "code",
   "execution_count": 46,
   "metadata": {
    "collapsed": true
   },
   "outputs": [],
   "source": [
    "grade_submitter = grader.Grader(\"BJCiiY8sEeeCnhKCj4fcOA\")"
   ]
  },
  {
   "cell_type": "code",
   "execution_count": 47,
   "metadata": {
    "collapsed": true
   },
   "outputs": [],
   "source": [
    "test_weights = 1e-3 * np.fromiter(map(lambda x:\n",
    "    s.run(weird_psychotic_function, {my_scalar:x, my_vector:[1, 2, 3]}),\n",
    "                               0.1 * np.arange(1, X.shape[1] + 1)),\n",
    "                               count=X.shape[1], dtype=np.float32)[:, np.newaxis]"
   ]
  },
  {
   "cell_type": "markdown",
   "metadata": {},
   "source": [
    "First, test prediction and loss computation. This part doesn't require a fitted model."
   ]
  },
  {
   "cell_type": "code",
   "execution_count": 48,
   "metadata": {
    "collapsed": true
   },
   "outputs": [],
   "source": [
    "prediction_test = s.run(\n",
    "    predicted_y, {\n",
    "    input_X: X,\n",
    "    weights: test_weights,\n",
    "    b: 1e-1})"
   ]
  },
  {
   "cell_type": "code",
   "execution_count": 49,
   "metadata": {
    "collapsed": true
   },
   "outputs": [],
   "source": [
    "assert prediction_test.shape == (X.shape[0],),\\\n",
    "       \"Predictions must be a 1D array with length equal to the number \" \\\n",
    "       \"of examples in X_test\""
   ]
  },
  {
   "cell_type": "code",
   "execution_count": 50,
   "metadata": {
    "collapsed": true
   },
   "outputs": [],
   "source": [
    "grade_submitter.set_answer(\"0ENlN\", prediction_test)"
   ]
  },
  {
   "cell_type": "code",
   "execution_count": 51,
   "metadata": {
    "collapsed": true
   },
   "outputs": [],
   "source": [
    "loss_test = s.run(\n",
    "    loss, {\n",
    "        input_X: X[:100],\n",
    "        input_y: y[-100:],\n",
    "        weights: test_weights+1.21e-3,\n",
    "        b: -1e-1})\n",
    "# Yes, the X/y indices mistmach is intentional"
   ]
  },
  {
   "cell_type": "code",
   "execution_count": 52,
   "metadata": {
    "collapsed": true
   },
   "outputs": [],
   "source": [
    "grade_submitter.set_answer(\"mMVpM\", loss_test)"
   ]
  },
  {
   "cell_type": "code",
   "execution_count": 53,
   "metadata": {
    "collapsed": true
   },
   "outputs": [],
   "source": [
    "grade_submitter.set_answer(\"D16Rc\", roc_auc_score(y_test, s.run(predicted_y, {input_X:X_test})))"
   ]
  },
  {
   "cell_type": "markdown",
   "metadata": {},
   "source": [
    "Please use the credentials obtained from the Coursera assignment page."
   ]
  },
  {
   "cell_type": "code",
   "execution_count": 54,
   "metadata": {},
   "outputs": [
    {
     "name": "stdout",
     "output_type": "stream",
     "text": [
      "Submitted to Coursera platform. See results on assignment page!\n"
     ]
    }
   ],
   "source": [
    "grade_submitter.submit('wsdgh@qq.com', 'zBnn1rymIUCQF6Xs')"
   ]
  },
  {
   "cell_type": "code",
   "execution_count": null,
   "metadata": {
    "collapsed": true
   },
   "outputs": [],
   "source": []
  }
 ],
 "metadata": {
  "kernelspec": {
   "display_name": "Python 3",
   "language": "python",
   "name": "python3"
  },
  "language_info": {
   "codemirror_mode": {
    "name": "ipython",
    "version": 3
   },
   "file_extension": ".py",
   "mimetype": "text/x-python",
   "name": "python",
   "nbconvert_exporter": "python",
   "pygments_lexer": "ipython3",
   "version": "3.6.2"
  }
 },
 "nbformat": 4,
 "nbformat_minor": 1
}
