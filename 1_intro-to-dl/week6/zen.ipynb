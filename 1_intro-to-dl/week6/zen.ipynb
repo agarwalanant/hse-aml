{
 "cells": [
  {
   "cell_type": "code",
   "execution_count": 1,
   "metadata": {},
   "outputs": [],
   "source": [
    "import tensorflow as tf"
   ]
  },
  {
   "cell_type": "code",
   "execution_count": 2,
   "metadata": {},
   "outputs": [
    {
     "name": "stdout",
     "output_type": "stream",
     "text": [
      " 驱动器 E 中的卷没有标签。\n",
      " 卷的序列号是 000B-C35A\n",
      "\n",
      " E:\\MLDL_work\\hse-aml\\1_intro-to-dl\\week6 的目录\n",
      "\n",
      "2017/11/22  16:25    <DIR>          .\n",
      "2017/11/22  16:25    <DIR>          ..\n",
      "2017/11/22  16:23    <DIR>          .ipynb_checkpoints\n",
      "2017/10/27  19:50        19,673,183 captions_train-val2014.zip\n",
      "2017/11/08  13:56               233 checkpoint\n",
      "2017/11/05  19:37             2,895 grading.py\n",
      "2017/11/05  19:37             2,615 grading_utils.py\n",
      "2017/11/22  16:25    <DIR>          images\n",
      "2017/10/27  19:27        87,910,968 inception_v3_weights_tf_dim_ordering_tf_kernels_notop.h5\n",
      "2017/10/27  20:01       133,031,907 train2014_sample.zip\n",
      "2017/11/06  09:32       678,158,500 train_img_embeds.pickle\n",
      "2017/11/05  19:57         2,815,180 train_img_fns.pickle\n",
      "2017/11/05  19:37             3,514 utils.py\n",
      "2017/11/05  20:03        66,016,063 val2014_sample.zip\n",
      "2017/11/05  20:21       331,808,930 val_img_embeds.pickle\n",
      "2017/11/05  19:58         1,296,395 val_img_fns.pickle\n",
      "2017/11/20  20:13        11,175,484 week6_final_project_image_captioning_clean.ipynb\n",
      "2017/11/20  18:21        10,295,654 week6_final_project_image_captioning_clean_ Anton.ipynb\n",
      "2017/11/22  16:04         4,040,322 week6_final_project_image_captioning_solved.ipynb\n",
      "2017/11/22  15:58         3,032,048 week6_final_project_image_captioning_solved.zip\n",
      "2017/11/08  13:56        32,849,396 weights.data-00000-of-00001\n",
      "2017/11/08  13:56             1,281 weights.index\n",
      "2017/11/08  13:56           202,217 weights.meta\n",
      "2017/11/08  13:53        32,849,396 weights_10.data-00000-of-00001\n",
      "2017/11/08  13:53             1,281 weights_10.index\n",
      "2017/11/08  13:53           202,217 weights_10.meta\n",
      "2017/11/08  13:56        32,849,396 weights_11.data-00000-of-00001\n",
      "2017/11/08  13:56             1,281 weights_11.index\n",
      "2017/11/08  13:56           202,217 weights_11.meta\n",
      "2017/11/08  13:48        32,849,396 weights_8.data-00000-of-00001\n",
      "2017/11/08  13:48             1,281 weights_8.index\n",
      "2017/11/08  13:48           202,217 weights_8.meta\n",
      "2017/11/08  13:51        32,849,396 weights_9.data-00000-of-00001\n",
      "2017/11/08  13:51             1,281 weights_9.index\n",
      "2017/11/08  13:51           202,217 weights_9.meta\n",
      "2017/11/22  16:25               573 zen.ipynb\n",
      "2017/11/06  10:33    <DIR>          __pycache__\n",
      "              32 个文件  1,514,528,934 字节\n",
      "               5 个目录 97,455,452,160 可用字节\n"
     ]
    }
   ],
   "source": [
    "!dir"
   ]
  },
  {
   "cell_type": "code",
   "execution_count": 42,
   "metadata": {},
   "outputs": [],
   "source": [
    "tf.reset_default_graph()"
   ]
  },
  {
   "cell_type": "code",
   "execution_count": 43,
   "metadata": {},
   "outputs": [],
   "source": [
    "with tf.variable_scope('outer'):\n",
    "    with tf.variable_scope('inner'):\n",
    "        var = tf.Variable(1.0, name='myvar')"
   ]
  },
  {
   "cell_type": "code",
   "execution_count": 44,
   "metadata": {},
   "outputs": [],
   "source": [
    "saver = tf.train.Saver()"
   ]
  },
  {
   "cell_type": "code",
   "execution_count": 45,
   "metadata": {},
   "outputs": [],
   "source": [
    "with tf.Session() as sess:\n",
    "    sess.run(tf.global_variables_initializer())\n",
    "    saver.save(sess, './myweights')"
   ]
  },
  {
   "cell_type": "code",
   "execution_count": 46,
   "metadata": {},
   "outputs": [
    {
     "data": {
      "text/plain": [
       "[<tf.Variable 'outer/inner/myvar:0' shape=() dtype=float32_ref>]"
      ]
     },
     "execution_count": 46,
     "metadata": {},
     "output_type": "execute_result"
    }
   ],
   "source": [
    "tf.global_variables()"
   ]
  },
  {
   "cell_type": "code",
   "execution_count": 53,
   "metadata": {},
   "outputs": [],
   "source": [
    "tf.reset_default_graph()"
   ]
  },
  {
   "cell_type": "code",
   "execution_count": 54,
   "metadata": {},
   "outputs": [],
   "source": [
    "#var = tf.Variable(1.0, name='myvar')\n",
    "with tf.variable_scope('outer'):\n",
    "    with tf.variable_scope('inner'):\n",
    "        var = tf.Variable(1.0, name='myvar')\n",
    "saver = tf.train.Saver()"
   ]
  },
  {
   "cell_type": "code",
   "execution_count": 55,
   "metadata": {},
   "outputs": [
    {
     "name": "stdout",
     "output_type": "stream",
     "text": [
      "INFO:tensorflow:Restoring parameters from ./myweights\n"
     ]
    }
   ],
   "source": [
    "with tf.Session() as sess:\n",
    "    #sess.run(tf.global_variables_initializer())\n",
    "    saver.restore(sess, './myweights')"
   ]
  },
  {
   "cell_type": "code",
   "execution_count": 56,
   "metadata": {},
   "outputs": [
    {
     "data": {
      "text/plain": [
       "[<tf.Variable 'outer/inner/myvar:0' shape=() dtype=float32_ref>]"
      ]
     },
     "execution_count": 56,
     "metadata": {},
     "output_type": "execute_result"
    }
   ],
   "source": [
    "tf.global_variables()"
   ]
  },
  {
   "cell_type": "code",
   "execution_count": 77,
   "metadata": {},
   "outputs": [],
   "source": [
    "tf.reset_default_graph()"
   ]
  },
  {
   "cell_type": "code",
   "execution_count": 78,
   "metadata": {},
   "outputs": [],
   "source": [
    "class mymodel(object):\n",
    "    def build_net(self):\n",
    "        with tf.variable_scope('outer'):\n",
    "            with tf.variable_scope('inner'):\n",
    "                self.myvar = tf.Variable(1.0, name='myvar')    "
   ]
  },
  {
   "cell_type": "code",
   "execution_count": 79,
   "metadata": {},
   "outputs": [
    {
     "data": {
      "text/plain": [
       "[]"
      ]
     },
     "execution_count": 79,
     "metadata": {},
     "output_type": "execute_result"
    }
   ],
   "source": [
    "tf.global_variables()"
   ]
  },
  {
   "cell_type": "code",
   "execution_count": 80,
   "metadata": {},
   "outputs": [],
   "source": [
    "mymode = mymodel()"
   ]
  },
  {
   "cell_type": "code",
   "execution_count": 81,
   "metadata": {},
   "outputs": [
    {
     "data": {
      "text/plain": [
       "[]"
      ]
     },
     "execution_count": 81,
     "metadata": {},
     "output_type": "execute_result"
    }
   ],
   "source": [
    "tf.global_variables()"
   ]
  },
  {
   "cell_type": "code",
   "execution_count": 82,
   "metadata": {},
   "outputs": [],
   "source": [
    "mymode.build_net()"
   ]
  },
  {
   "cell_type": "code",
   "execution_count": 85,
   "metadata": {},
   "outputs": [
    {
     "data": {
      "text/plain": [
       "True"
      ]
     },
     "execution_count": 85,
     "metadata": {},
     "output_type": "execute_result"
    }
   ],
   "source": [
    "tf.global_variables()[0] is mymode.myvar"
   ]
  },
  {
   "cell_type": "code",
   "execution_count": 86,
   "metadata": {},
   "outputs": [],
   "source": [
    "tf.reset_default_graph()"
   ]
  },
  {
   "cell_type": "code",
   "execution_count": 87,
   "metadata": {},
   "outputs": [],
   "source": [
    "class mymodel(object):\n",
    "    def build_net(self):\n",
    "        with tf.variable_scope('outer'):\n",
    "            with tf.variable_scope('inner'):\n",
    "                myvar = tf.Variable(1.0, name='myvar')   "
   ]
  },
  {
   "cell_type": "code",
   "execution_count": 88,
   "metadata": {},
   "outputs": [
    {
     "data": {
      "text/plain": [
       "[]"
      ]
     },
     "execution_count": 88,
     "metadata": {},
     "output_type": "execute_result"
    }
   ],
   "source": [
    "tf.global_variables()"
   ]
  },
  {
   "cell_type": "code",
   "execution_count": 62,
   "metadata": {},
   "outputs": [],
   "source": [
    "mymodel = mymodel()"
   ]
  },
  {
   "cell_type": "code",
   "execution_count": 65,
   "metadata": {},
   "outputs": [
    {
     "data": {
      "text/plain": [
       "[<tf.Variable 'outer/inner/myvar:0' shape=() dtype=float32_ref>]"
      ]
     },
     "execution_count": 65,
     "metadata": {},
     "output_type": "execute_result"
    }
   ],
   "source": [
    "tf.global_variables()"
   ]
  },
  {
   "cell_type": "code",
   "execution_count": null,
   "metadata": {},
   "outputs": [],
   "source": []
  }
 ],
 "metadata": {
  "kernelspec": {
   "display_name": "Python 3",
   "language": "python",
   "name": "python3"
  },
  "language_info": {
   "codemirror_mode": {
    "name": "ipython",
    "version": 3
   },
   "file_extension": ".py",
   "mimetype": "text/x-python",
   "name": "python",
   "nbconvert_exporter": "python",
   "pygments_lexer": "ipython3",
   "version": "3.6.3"
  }
 },
 "nbformat": 4,
 "nbformat_minor": 2
}
