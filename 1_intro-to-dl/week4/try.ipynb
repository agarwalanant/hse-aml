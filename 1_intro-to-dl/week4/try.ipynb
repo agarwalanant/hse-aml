{
 "cells": [
  {
   "cell_type": "code",
   "execution_count": 5,
   "metadata": {},
   "outputs": [
    {
     "name": "stderr",
     "output_type": "stream",
     "text": [
      "你没有足够的权限执行此操作。\n"
     ]
    }
   ],
   "source": [
    "! mklink lfw_attributes.txt2  r'E:\\MLDL_work\\hse-aml\\1_intro-to-dl\\readonly\\week4\\lfw_attributes.txt'"
   ]
  },
  {
   "cell_type": "code",
   "execution_count": 3,
   "metadata": {},
   "outputs": [
    {
     "name": "stdout",
     "output_type": "stream",
     "text": [
      " 驱动器 E 中的卷没有标签。\n",
      " 卷的序列号是 000B-C35A\n",
      "\n",
      " E:\\MLDL_work\\hse-aml\\1_intro-to-dl 的目录\n",
      "\n",
      "2017/10/27  21:08    <DIR>          .\n",
      "2017/10/27  21:08    <DIR>          ..\n",
      "2017/10/27  19:50    <DIR>          readonly\n",
      "2017/10/26  18:34    <DIR>          utils\n",
      "2017/10/26  17:35    <DIR>          week1\n",
      "2017/10/27  17:11    <DIR>          week2\n",
      "2017/10/29  21:58    <DIR>          week3\n",
      "2017/10/30  09:20    <DIR>          week4\n",
      "               0 个文件              0 字节\n",
      "               8 个目录 104,575,266,816 可用字节\n"
     ]
    }
   ],
   "source": [
    "!cd .. & dir"
   ]
  },
  {
   "cell_type": "code",
   "execution_count": 1,
   "metadata": {},
   "outputs": [
    {
     "name": "stderr",
     "output_type": "stream",
     "text": [
      "Using TensorFlow backend.\n"
     ]
    }
   ],
   "source": [
    "from keras.layers import Input, Dense, Conv2D, MaxPooling2D, UpSampling2D\n",
    "from keras.models import Model\n",
    "from keras import backend as K\n",
    "from keras.datasets import mnist\n",
    "import numpy as np\n",
    "from keras.callbacks import TensorBoard\n",
    "import matplotlib.pyplot as plt\n",
    "\n",
    "input_img = Input(shape=(28, 28, 1))  # adapt this if using `channels_first` image data format\n",
    "\n",
    "x = Conv2D(16, (3, 3), activation='relu', padding='same')(input_img)\n",
    "x = MaxPooling2D((2, 2), padding='same')(x)\n",
    "x = Conv2D(8, (3, 3), activation='relu', padding='same')(x)\n",
    "x = MaxPooling2D((2, 2), padding='same')(x)\n",
    "x = Conv2D(8, (3, 3), activation='relu', padding='same')(x)\n",
    "encoded = MaxPooling2D((2, 2), padding='same')(x)\n",
    "\n",
    "# at this point the representation is (4, 4, 8) i.e. 128-dimensional\n",
    "\n",
    "x = Conv2D(8, (3, 3), activation='relu', padding='same')(encoded)\n",
    "x = UpSampling2D((2, 2))(x)\n",
    "x = Conv2D(8, (3, 3), activation='relu', padding='same')(x)\n",
    "x = UpSampling2D((2, 2))(x)\n",
    "x = Conv2D(16, (3, 3), activation='relu')(x)\n",
    "x = UpSampling2D((2, 2))(x)\n",
    "decoded = Conv2D(1, (3, 3), activation='sigmoid', padding='same')(x)\n",
    "\n",
    "autoencoder = Model(input_img, decoded)\n",
    "autoencoder.compile(optimizer='adadelta', loss='binary_crossentropy')"
   ]
  },
  {
   "cell_type": "code",
   "execution_count": 3,
   "metadata": {},
   "outputs": [
    {
     "name": "stdout",
     "output_type": "stream",
     "text": [
      "input_1 : (None, 28, 28, 1)\n",
      "conv2d_1 : (None, 28, 28, 16)\n",
      "max_pooling2d_1 : (None, 14, 14, 16)\n",
      "conv2d_2 : (None, 14, 14, 8)\n",
      "max_pooling2d_2 : (None, 7, 7, 8)\n",
      "conv2d_3 : (None, 7, 7, 8)\n",
      "max_pooling2d_3 : (None, 4, 4, 8)\n",
      "conv2d_4 : (None, 4, 4, 8)\n",
      "up_sampling2d_1 : (None, 8, 8, 8)\n",
      "conv2d_5 : (None, 8, 8, 8)\n",
      "up_sampling2d_2 : (None, 16, 16, 8)\n",
      "conv2d_6 : (None, 14, 14, 16)\n",
      "up_sampling2d_3 : (None, 28, 28, 16)\n",
      "conv2d_7 : (None, 28, 28, 1)\n"
     ]
    }
   ],
   "source": [
    "for layer in autoencoder.layers:\n",
    "    print(layer.name,':', layer.output_shape)"
   ]
  },
  {
   "cell_type": "code",
   "execution_count": null,
   "metadata": {
    "collapsed": true
   },
   "outputs": [],
   "source": []
  }
 ],
 "metadata": {
  "kernelspec": {
   "display_name": "Python 3",
   "language": "python",
   "name": "python3"
  },
  "language_info": {
   "codemirror_mode": {
    "name": "ipython",
    "version": 3
   },
   "file_extension": ".py",
   "mimetype": "text/x-python",
   "name": "python",
   "nbconvert_exporter": "python",
   "pygments_lexer": "ipython3",
   "version": "3.5.4"
  }
 },
 "nbformat": 4,
 "nbformat_minor": 2
}
